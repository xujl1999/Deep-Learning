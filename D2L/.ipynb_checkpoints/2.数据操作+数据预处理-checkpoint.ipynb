{
 "cells": [
  {
   "cell_type": "markdown",
   "id": "c65b10f8",
   "metadata": {},
   "source": [
    "基于李沐大神的b站课程\n",
    "\n",
    "https://www.bilibili.com/video/BV1if4y147hS?spm_id_from=333.999.0.0"
   ]
  },
  {
   "cell_type": "markdown",
   "id": "4f8de304",
   "metadata": {},
   "source": [
    "# 数据预处理\n",
    "## ？？创建一个人工数据集，并存储在csv文件\n",
    "<font color = 'red'>p47 os操作不会</font>"
   ]
  },
  {
   "cell_type": "code",
   "execution_count": 1,
   "id": "6f45332f",
   "metadata": {
    "ExecuteTime": {
     "end_time": "2021-11-05T02:00:43.066845Z",
     "start_time": "2021-11-05T02:00:42.595263Z"
    }
   },
   "outputs": [],
   "source": [
    "import os\n",
    "import numpy as np\n",
    "import pandas as pd"
   ]
  },
  {
   "cell_type": "code",
   "execution_count": 2,
   "id": "96a20f0b",
   "metadata": {
    "ExecuteTime": {
     "end_time": "2021-11-05T02:00:43.082295Z",
     "start_time": "2021-11-05T02:00:43.070580Z"
    }
   },
   "outputs": [],
   "source": [
    "os.makedirs(os.path.join('..', 'data'), exist_ok=True)\n",
    "data_file = os.path.join('..', 'data', 'house_tiny.csv')\n",
    "with open(data_file, 'w') as f:\n",
    "    f.write('NumRooms, Alley, price\\n') # 列名\n",
    "    f.write('NA,Pave,127500\\n')\n",
    "    f.write('2,NA,10600\\n')\n",
    "    f.write('4,NA,178100\\n')\n",
    "    f.write('NA,NA,140000\\n')"
   ]
  },
  {
   "cell_type": "code",
   "execution_count": 3,
   "id": "427bb6bd",
   "metadata": {
    "ExecuteTime": {
     "end_time": "2021-11-05T02:00:43.113026Z",
     "start_time": "2021-11-05T02:00:43.084887Z"
    }
   },
   "outputs": [
    {
     "data": {
      "text/html": [
       "<div>\n",
       "<style scoped>\n",
       "    .dataframe tbody tr th:only-of-type {\n",
       "        vertical-align: middle;\n",
       "    }\n",
       "\n",
       "    .dataframe tbody tr th {\n",
       "        vertical-align: top;\n",
       "    }\n",
       "\n",
       "    .dataframe thead th {\n",
       "        text-align: right;\n",
       "    }\n",
       "</style>\n",
       "<table border=\"1\" class=\"dataframe\">\n",
       "  <thead>\n",
       "    <tr style=\"text-align: right;\">\n",
       "      <th></th>\n",
       "      <th>NumRooms</th>\n",
       "      <th>Alley</th>\n",
       "      <th>price</th>\n",
       "    </tr>\n",
       "  </thead>\n",
       "  <tbody>\n",
       "    <tr>\n",
       "      <th>0</th>\n",
       "      <td>NaN</td>\n",
       "      <td>Pave</td>\n",
       "      <td>127500</td>\n",
       "    </tr>\n",
       "    <tr>\n",
       "      <th>1</th>\n",
       "      <td>2.0</td>\n",
       "      <td>NaN</td>\n",
       "      <td>10600</td>\n",
       "    </tr>\n",
       "    <tr>\n",
       "      <th>2</th>\n",
       "      <td>4.0</td>\n",
       "      <td>NaN</td>\n",
       "      <td>178100</td>\n",
       "    </tr>\n",
       "    <tr>\n",
       "      <th>3</th>\n",
       "      <td>NaN</td>\n",
       "      <td>NaN</td>\n",
       "      <td>140000</td>\n",
       "    </tr>\n",
       "  </tbody>\n",
       "</table>\n",
       "</div>"
      ],
      "text/plain": [
       "   NumRooms  Alley   price\n",
       "0       NaN   Pave  127500\n",
       "1       2.0    NaN   10600\n",
       "2       4.0    NaN  178100\n",
       "3       NaN    NaN  140000"
      ]
     },
     "execution_count": 3,
     "metadata": {},
     "output_type": "execute_result"
    }
   ],
   "source": [
    "import pandas as pd\n",
    "\n",
    "data = pd.read_csv(data_file)\n",
    "data"
   ]
  },
  {
   "cell_type": "markdown",
   "id": "4e5d6fa2",
   "metadata": {
    "ExecuteTime": {
     "end_time": "2021-11-04T12:49:13.091746Z",
     "start_time": "2021-11-04T12:49:12.873998Z"
    }
   },
   "source": [
    "## 处理缺失数据\n",
    "### 插值、删除"
   ]
  },
  {
   "cell_type": "markdown",
   "id": "f81a1f82",
   "metadata": {},
   "source": [
    "* `df.fillna(df.mean())`填平均值\n",
    "* `pd.get_dummies(df, dummy_na = True)`对于离散化值（包括`NaN`）one hot encode"
   ]
  },
  {
   "cell_type": "code",
   "execution_count": 4,
   "id": "57a539c4",
   "metadata": {
    "ExecuteTime": {
     "end_time": "2021-11-05T02:00:43.128304Z",
     "start_time": "2021-11-05T02:00:43.114638Z"
    }
   },
   "outputs": [
    {
     "data": {
      "text/html": [
       "<div>\n",
       "<style scoped>\n",
       "    .dataframe tbody tr th:only-of-type {\n",
       "        vertical-align: middle;\n",
       "    }\n",
       "\n",
       "    .dataframe tbody tr th {\n",
       "        vertical-align: top;\n",
       "    }\n",
       "\n",
       "    .dataframe thead th {\n",
       "        text-align: right;\n",
       "    }\n",
       "</style>\n",
       "<table border=\"1\" class=\"dataframe\">\n",
       "  <thead>\n",
       "    <tr style=\"text-align: right;\">\n",
       "      <th></th>\n",
       "      <th>NumRooms</th>\n",
       "      <th>Alley</th>\n",
       "    </tr>\n",
       "  </thead>\n",
       "  <tbody>\n",
       "    <tr>\n",
       "      <th>0</th>\n",
       "      <td>3.0</td>\n",
       "      <td>Pave</td>\n",
       "    </tr>\n",
       "    <tr>\n",
       "      <th>1</th>\n",
       "      <td>2.0</td>\n",
       "      <td>NaN</td>\n",
       "    </tr>\n",
       "    <tr>\n",
       "      <th>2</th>\n",
       "      <td>4.0</td>\n",
       "      <td>NaN</td>\n",
       "    </tr>\n",
       "    <tr>\n",
       "      <th>3</th>\n",
       "      <td>3.0</td>\n",
       "      <td>NaN</td>\n",
       "    </tr>\n",
       "  </tbody>\n",
       "</table>\n",
       "</div>"
      ],
      "text/plain": [
       "   NumRooms  Alley\n",
       "0       3.0   Pave\n",
       "1       2.0    NaN\n",
       "2       4.0    NaN\n",
       "3       3.0    NaN"
      ]
     },
     "execution_count": 4,
     "metadata": {},
     "output_type": "execute_result"
    }
   ],
   "source": [
    "inputs, outputs = data.iloc[: , 0:2], data.iloc[:, 2]\n",
    "inputs = inputs.fillna(inputs.mean())\n",
    "inputs"
   ]
  },
  {
   "cell_type": "code",
   "execution_count": 5,
   "id": "f80f7855",
   "metadata": {
    "ExecuteTime": {
     "end_time": "2021-11-05T02:00:43.159614Z",
     "start_time": "2021-11-05T02:00:43.131592Z"
    }
   },
   "outputs": [
    {
     "data": {
      "text/html": [
       "<div>\n",
       "<style scoped>\n",
       "    .dataframe tbody tr th:only-of-type {\n",
       "        vertical-align: middle;\n",
       "    }\n",
       "\n",
       "    .dataframe tbody tr th {\n",
       "        vertical-align: top;\n",
       "    }\n",
       "\n",
       "    .dataframe thead th {\n",
       "        text-align: right;\n",
       "    }\n",
       "</style>\n",
       "<table border=\"1\" class=\"dataframe\">\n",
       "  <thead>\n",
       "    <tr style=\"text-align: right;\">\n",
       "      <th></th>\n",
       "      <th>NumRooms</th>\n",
       "      <th>Alley_Pave</th>\n",
       "      <th>Alley_nan</th>\n",
       "    </tr>\n",
       "  </thead>\n",
       "  <tbody>\n",
       "    <tr>\n",
       "      <th>0</th>\n",
       "      <td>3.0</td>\n",
       "      <td>1</td>\n",
       "      <td>0</td>\n",
       "    </tr>\n",
       "    <tr>\n",
       "      <th>1</th>\n",
       "      <td>2.0</td>\n",
       "      <td>0</td>\n",
       "      <td>1</td>\n",
       "    </tr>\n",
       "    <tr>\n",
       "      <th>2</th>\n",
       "      <td>4.0</td>\n",
       "      <td>0</td>\n",
       "      <td>1</td>\n",
       "    </tr>\n",
       "    <tr>\n",
       "      <th>3</th>\n",
       "      <td>3.0</td>\n",
       "      <td>0</td>\n",
       "      <td>1</td>\n",
       "    </tr>\n",
       "  </tbody>\n",
       "</table>\n",
       "</div>"
      ],
      "text/plain": [
       "   NumRooms   Alley_Pave   Alley_nan\n",
       "0       3.0            1           0\n",
       "1       2.0            0           1\n",
       "2       4.0            0           1\n",
       "3       3.0            0           1"
      ]
     },
     "execution_count": 5,
     "metadata": {},
     "output_type": "execute_result"
    }
   ],
   "source": [
    "inputs = pd.get_dummies(inputs, dummy_na=True) # one hot encode\n",
    "inputs"
   ]
  },
  {
   "cell_type": "markdown",
   "id": "5e42742f",
   "metadata": {},
   "source": [
    "float64比较慢，深度学习一般会改为32位浮点数"
   ]
  },
  {
   "cell_type": "code",
   "execution_count": 6,
   "id": "05290b3f",
   "metadata": {
    "ExecuteTime": {
     "end_time": "2021-11-05T02:00:43.746944Z",
     "start_time": "2021-11-05T02:00:43.161515Z"
    }
   },
   "outputs": [
    {
     "data": {
      "text/plain": [
       "(tensor([[3., 1., 0.],\n",
       "         [2., 0., 1.],\n",
       "         [4., 0., 1.],\n",
       "         [3., 0., 1.]], dtype=torch.float64),\n",
       " tensor([127500,  10600, 178100, 140000]))"
      ]
     },
     "execution_count": 6,
     "metadata": {},
     "output_type": "execute_result"
    }
   ],
   "source": [
    "import torch\n",
    "\n",
    "X,y = torch.tensor(inputs.values), torch.tensor(outputs.values)\n",
    "X,y"
   ]
  },
  {
   "cell_type": "markdown",
   "id": "0f7c6576",
   "metadata": {},
   "source": [
    "# 线性代数\n",
    "* 分配新内存"
   ]
  },
  {
   "cell_type": "code",
   "execution_count": 7,
   "id": "59bf7655",
   "metadata": {
    "ExecuteTime": {
     "end_time": "2021-11-05T02:00:43.762389Z",
     "start_time": "2021-11-05T02:00:43.749035Z"
    }
   },
   "outputs": [
    {
     "data": {
      "text/plain": [
       "(array([[1, 1, 1, 1, 1],\n",
       "        [1, 1, 1, 1, 1]]),\n",
       " array([[1, 1, 1, 1, 1],\n",
       "        [1, 1, 1, 1, 1]]))"
      ]
     },
     "execution_count": 7,
     "metadata": {},
     "output_type": "execute_result"
    }
   ],
   "source": [
    "a = np.arange(10).reshape((2,5))\n",
    "b = a\n",
    "b[:] = 1\n",
    "b,a"
   ]
  },
  {
   "cell_type": "code",
   "execution_count": 8,
   "id": "d841795b",
   "metadata": {
    "ExecuteTime": {
     "end_time": "2021-11-05T02:00:43.778386Z",
     "start_time": "2021-11-05T02:00:43.763660Z"
    }
   },
   "outputs": [
    {
     "data": {
      "text/plain": [
       "(array([[1, 1, 1, 1, 1],\n",
       "        [1, 1, 1, 1, 1]]),\n",
       " array([[0, 1, 2, 3, 4],\n",
       "        [5, 6, 7, 8, 9]]))"
      ]
     },
     "execution_count": 8,
     "metadata": {},
     "output_type": "execute_result"
    }
   ],
   "source": [
    "a = np.arange(10).reshape((2,5))\n",
    "b = a.copy()\n",
    "b[:] = 1\n",
    "b,a"
   ]
  },
  {
   "cell_type": "code",
   "execution_count": 9,
   "id": "bb46468c",
   "metadata": {
    "ExecuteTime": {
     "end_time": "2021-11-05T02:00:43.794369Z",
     "start_time": "2021-11-05T02:00:43.779631Z"
    }
   },
   "outputs": [
    {
     "data": {
      "text/plain": [
       "(tensor([[ 0.,  1.,  2.,  3.],\n",
       "         [ 4.,  5.,  6.,  7.],\n",
       "         [ 8.,  9., 10., 11.],\n",
       "         [12., 13., 14., 15.],\n",
       "         [16., 17., 18., 19.]]),\n",
       " tensor([[ 0.,  2.,  4.,  6.],\n",
       "         [ 8., 10., 12., 14.],\n",
       "         [16., 18., 20., 22.],\n",
       "         [24., 26., 28., 30.],\n",
       "         [32., 34., 36., 38.]]))"
      ]
     },
     "execution_count": 9,
     "metadata": {},
     "output_type": "execute_result"
    }
   ],
   "source": [
    "A = torch.arange(20, dtype=torch.float32).reshape(5, 4)\n",
    "B = A\n",
    "A, A + B"
   ]
  },
  {
   "cell_type": "code",
   "execution_count": 10,
   "id": "fca21e99",
   "metadata": {
    "ExecuteTime": {
     "end_time": "2021-11-05T02:00:43.810166Z",
     "start_time": "2021-11-05T02:00:43.795207Z"
    }
   },
   "outputs": [
    {
     "data": {
      "text/plain": [
       "(tensor([[ 0.,  1.,  2.,  3.],\n",
       "         [ 4.,  5.,  6.,  7.],\n",
       "         [ 8.,  9., 10., 11.],\n",
       "         [12., 13., 14., 15.],\n",
       "         [16., 17., 18., 19.]]),\n",
       " tensor([[ 0.,  2.,  4.,  6.],\n",
       "         [ 8., 10., 12., 14.],\n",
       "         [16., 18., 20., 22.],\n",
       "         [24., 26., 28., 30.],\n",
       "         [32., 34., 36., 38.]]))"
      ]
     },
     "execution_count": 10,
     "metadata": {},
     "output_type": "execute_result"
    }
   ],
   "source": [
    "A = torch.arange(20, dtype=torch.float32).reshape(5, 4)\n",
    "B = A.clone()\n",
    "A, A + B"
   ]
  },
  {
   "cell_type": "code",
   "execution_count": 11,
   "id": "034651dc",
   "metadata": {
    "ExecuteTime": {
     "end_time": "2021-11-05T02:00:43.826154Z",
     "start_time": "2021-11-05T02:00:43.812162Z"
    }
   },
   "outputs": [
    {
     "data": {
      "text/plain": [
       "5"
      ]
     },
     "execution_count": 11,
     "metadata": {},
     "output_type": "execute_result"
    }
   ],
   "source": [
    "A.numel() # 元素总个数\n",
    "A.shape[0]"
   ]
  },
  {
   "cell_type": "markdown",
   "id": "bca6d003",
   "metadata": {},
   "source": [
    "计算总和或均值时保持轴数不变——keepdims=True\n",
    "* 为了更好的使用广播机制\n",
    "`A/sum_A`"
   ]
  },
  {
   "cell_type": "code",
   "execution_count": 12,
   "id": "f44c9a2a",
   "metadata": {
    "ExecuteTime": {
     "end_time": "2021-11-05T02:00:43.842192Z",
     "start_time": "2021-11-05T02:00:43.828580Z"
    }
   },
   "outputs": [
    {
     "data": {
      "text/plain": [
       "(tensor([ 6., 22., 38., 54., 70.]),\n",
       " tensor([[ 0.,  1.,  2.,  3.],\n",
       "         [ 4.,  5.,  6.,  7.],\n",
       "         [ 8.,  9., 10., 11.],\n",
       "         [12., 13., 14., 15.],\n",
       "         [16., 17., 18., 19.]]))"
      ]
     },
     "execution_count": 12,
     "metadata": {},
     "output_type": "execute_result"
    }
   ],
   "source": [
    "A = torch.arange(20, dtype=torch.float32).reshape(5, 4)\n",
    "sum_A = A.sum(axis = 1)\n",
    "sum_A,A"
   ]
  },
  {
   "cell_type": "code",
   "execution_count": 13,
   "id": "13fb6aad",
   "metadata": {
    "ExecuteTime": {
     "end_time": "2021-11-05T02:00:43.858111Z",
     "start_time": "2021-11-05T02:00:43.843517Z"
    }
   },
   "outputs": [
    {
     "data": {
      "text/plain": [
       "(tensor([[ 6.],\n",
       "         [22.],\n",
       "         [38.],\n",
       "         [54.],\n",
       "         [70.]]),\n",
       " tensor([[ 0.,  1.,  2.,  3.],\n",
       "         [ 4.,  5.,  6.,  7.],\n",
       "         [ 8.,  9., 10., 11.],\n",
       "         [12., 13., 14., 15.],\n",
       "         [16., 17., 18., 19.]]))"
      ]
     },
     "execution_count": 13,
     "metadata": {},
     "output_type": "execute_result"
    }
   ],
   "source": [
    "A = torch.arange(20, dtype=torch.float32).reshape(5, 4)\n",
    "sum_A = A.sum(axis = 1, keepdims=True)\n",
    "sum_A,A"
   ]
  },
  {
   "cell_type": "code",
   "execution_count": 14,
   "id": "523150c3",
   "metadata": {
    "ExecuteTime": {
     "end_time": "2021-11-05T02:00:43.873822Z",
     "start_time": "2021-11-05T02:00:43.862027Z"
    }
   },
   "outputs": [
    {
     "data": {
      "text/plain": [
       "tensor([[ 0.,  1.,  2.,  3.],\n",
       "        [ 4.,  6.,  8., 10.],\n",
       "        [12., 15., 18., 21.],\n",
       "        [24., 28., 32., 36.],\n",
       "        [40., 45., 50., 55.]])"
      ]
     },
     "execution_count": 14,
     "metadata": {},
     "output_type": "execute_result"
    }
   ],
   "source": [
    "A = torch.arange(20, dtype=torch.float32).reshape(5, 4)\n",
    "A.cumsum(axis=0) #  按轴累加"
   ]
  },
  {
   "cell_type": "markdown",
   "id": "b1d09bd4",
   "metadata": {},
   "source": [
    "* 矩阵乘法【点积】`torch.mv(A,x)`——【matrix-vector multiplication】\n",
    "* 矩阵乘法`torch.mm(A.T,A)`"
   ]
  },
  {
   "cell_type": "code",
   "execution_count": 15,
   "id": "285cf285",
   "metadata": {
    "ExecuteTime": {
     "end_time": "2021-11-05T02:00:43.889026Z",
     "start_time": "2021-11-05T02:00:43.875990Z"
    }
   },
   "outputs": [
    {
     "data": {
      "text/plain": [
       "tensor([[ 0.,  1.,  2.,  3.],\n",
       "        [ 4.,  5.,  6.,  7.],\n",
       "        [ 8.,  9., 10., 11.],\n",
       "        [12., 13., 14., 15.],\n",
       "        [16., 17., 18., 19.]])"
      ]
     },
     "execution_count": 15,
     "metadata": {},
     "output_type": "execute_result"
    }
   ],
   "source": [
    "A"
   ]
  },
  {
   "cell_type": "code",
   "execution_count": 16,
   "id": "52712c83",
   "metadata": {
    "ExecuteTime": {
     "end_time": "2021-11-05T02:00:43.905274Z",
     "start_time": "2021-11-05T02:00:43.890956Z"
    }
   },
   "outputs": [
    {
     "data": {
      "text/plain": [
       "tensor([[ 0.,  4.,  8., 12., 16.],\n",
       "        [ 1.,  5.,  9., 13., 17.],\n",
       "        [ 2.,  6., 10., 14., 18.],\n",
       "        [ 3.,  7., 11., 15., 19.]])"
      ]
     },
     "execution_count": 16,
     "metadata": {},
     "output_type": "execute_result"
    }
   ],
   "source": [
    "A.T"
   ]
  },
  {
   "cell_type": "code",
   "execution_count": 17,
   "id": "a7128327",
   "metadata": {
    "ExecuteTime": {
     "end_time": "2021-11-05T02:00:43.920979Z",
     "start_time": "2021-11-05T02:00:43.907905Z"
    }
   },
   "outputs": [
    {
     "data": {
      "text/plain": [
       "(tensor([ 14.,  38.,  62.,  86., 110.]),\n",
       " tensor([True, True, True, True, True]))"
      ]
     },
     "execution_count": 17,
     "metadata": {},
     "output_type": "execute_result"
    }
   ],
   "source": [
    "A = torch.arange(20, dtype=torch.float32).reshape(5, 4)\n",
    "x = torch.arange(4,dtype = torch.float32)\n",
    "A@x, torch.mv(A,x) == A@x\n"
   ]
  },
  {
   "cell_type": "code",
   "execution_count": 18,
   "id": "a2c606c9",
   "metadata": {
    "ExecuteTime": {
     "end_time": "2021-11-05T02:00:43.936998Z",
     "start_time": "2021-11-05T02:00:43.922908Z"
    },
    "scrolled": true
   },
   "outputs": [
    {
     "data": {
      "text/plain": [
       "(tensor([[  14.,   38.,   62.,   86.,  110.],\n",
       "         [  38.,  126.,  214.,  302.,  390.],\n",
       "         [  62.,  214.,  366.,  518.,  670.],\n",
       "         [  86.,  302.,  518.,  734.,  950.],\n",
       "         [ 110.,  390.,  670.,  950., 1230.]]),\n",
       " tensor([[True, True, True, True, True],\n",
       "         [True, True, True, True, True],\n",
       "         [True, True, True, True, True],\n",
       "         [True, True, True, True, True],\n",
       "         [True, True, True, True, True]]))"
      ]
     },
     "execution_count": 18,
     "metadata": {},
     "output_type": "execute_result"
    }
   ],
   "source": [
    "A = torch.arange(20, dtype=torch.float32).reshape(5, 4)\n",
    "torch.mm(A,A.T),torch.mm(A,A.T) == A@A.T"
   ]
  },
  {
   "cell_type": "markdown",
   "id": "dbe5cf3c",
   "metadata": {},
   "source": [
    "范数torch.norm()"
   ]
  },
  {
   "cell_type": "code",
   "execution_count": 19,
   "id": "e318180a",
   "metadata": {
    "ExecuteTime": {
     "end_time": "2021-11-05T02:00:43.952822Z",
     "start_time": "2021-11-05T02:00:43.938823Z"
    }
   },
   "outputs": [
    {
     "data": {
      "text/plain": [
       "(tensor(5.), tensor(7.))"
      ]
     },
     "execution_count": 19,
     "metadata": {},
     "output_type": "execute_result"
    }
   ],
   "source": [
    "u = torch.tensor([3.0, -4.0])\n",
    "torch.norm(u),torch.abs(u).sum()"
   ]
  },
  {
   "cell_type": "markdown",
   "id": "0cbfdb75",
   "metadata": {},
   "source": [
    "按某一维度求和维度保留问题"
   ]
  },
  {
   "cell_type": "code",
   "execution_count": 20,
   "id": "464063af",
   "metadata": {
    "ExecuteTime": {
     "end_time": "2021-11-05T02:00:43.968836Z",
     "start_time": "2021-11-05T02:00:43.954274Z"
    }
   },
   "outputs": [
    {
     "data": {
      "text/plain": [
       "(torch.Size([2, 5, 4]),\n",
       " tensor([[[1., 1., 1., 1.],\n",
       "          [1., 1., 1., 1.],\n",
       "          [1., 1., 1., 1.],\n",
       "          [1., 1., 1., 1.],\n",
       "          [1., 1., 1., 1.]],\n",
       " \n",
       "         [[1., 1., 1., 1.],\n",
       "          [1., 1., 1., 1.],\n",
       "          [1., 1., 1., 1.],\n",
       "          [1., 1., 1., 1.],\n",
       "          [1., 1., 1., 1.]]]))"
      ]
     },
     "execution_count": 20,
     "metadata": {},
     "output_type": "execute_result"
    }
   ],
   "source": [
    "a = torch.ones((2, 5, 4))\n",
    "a.shape,a"
   ]
  },
  {
   "cell_type": "code",
   "execution_count": 21,
   "id": "2f79868d",
   "metadata": {
    "ExecuteTime": {
     "end_time": "2021-11-05T02:00:43.984799Z",
     "start_time": "2021-11-05T02:00:43.970736Z"
    }
   },
   "outputs": [
    {
     "data": {
      "text/plain": [
       "(torch.Size([2, 4]),\n",
       " tensor([[5., 5., 5., 5.],\n",
       "         [5., 5., 5., 5.]]))"
      ]
     },
     "execution_count": 21,
     "metadata": {},
     "output_type": "execute_result"
    }
   ],
   "source": [
    "a.sum(axis=1).shape,a.sum(axis=1)"
   ]
  },
  {
   "cell_type": "code",
   "execution_count": 22,
   "id": "2d43b337",
   "metadata": {
    "ExecuteTime": {
     "end_time": "2021-11-05T02:00:44.000695Z",
     "start_time": "2021-11-05T02:00:43.986799Z"
    }
   },
   "outputs": [
    {
     "data": {
      "text/plain": [
       "(torch.Size([5]), tensor([8., 8., 8., 8., 8.]))"
      ]
     },
     "execution_count": 22,
     "metadata": {},
     "output_type": "execute_result"
    }
   ],
   "source": [
    "a.sum(axis=[0,2]).shape,a.sum(axis = [0,2])"
   ]
  },
  {
   "cell_type": "code",
   "execution_count": 23,
   "id": "5c98f1a2",
   "metadata": {
    "ExecuteTime": {
     "end_time": "2021-11-05T02:00:44.017018Z",
     "start_time": "2021-11-05T02:00:44.002652Z"
    }
   },
   "outputs": [
    {
     "data": {
      "text/plain": [
       "(torch.Size([2, 1, 4]),\n",
       " tensor([[[5., 5., 5., 5.]],\n",
       " \n",
       "         [[5., 5., 5., 5.]]]))"
      ]
     },
     "execution_count": 23,
     "metadata": {},
     "output_type": "execute_result"
    }
   ],
   "source": [
    "a.sum(axis=1,keepdims=True).shape,a.sum(axis=1,keepdims=True)"
   ]
  },
  {
   "cell_type": "markdown",
   "id": "42160aa9",
   "metadata": {},
   "source": [
    "# 矩阵计算"
   ]
  },
  {
   "cell_type": "markdown",
   "id": "57dd9bad",
   "metadata": {},
   "source": [
    "# 自动求导"
   ]
  },
  {
   "cell_type": "code",
   "execution_count": 51,
   "id": "9f97caea",
   "metadata": {
    "ExecuteTime": {
     "end_time": "2021-11-05T02:07:47.041946Z",
     "start_time": "2021-11-05T02:07:47.029885Z"
    }
   },
   "outputs": [
    {
     "data": {
      "text/plain": [
       "tensor([0., 1., 2., 3.])"
      ]
     },
     "execution_count": 51,
     "metadata": {},
     "output_type": "execute_result"
    }
   ],
   "source": [
    "x = torch.arange(4.0)\n",
    "x"
   ]
  },
  {
   "cell_type": "markdown",
   "id": "253c17a6",
   "metadata": {},
   "source": [
    "* 需要一个地方来存储梯度"
   ]
  },
  {
   "cell_type": "code",
   "execution_count": 52,
   "id": "a1fdb851",
   "metadata": {
    "ExecuteTime": {
     "end_time": "2021-11-05T02:07:47.383252Z",
     "start_time": "2021-11-05T02:07:47.373214Z"
    }
   },
   "outputs": [],
   "source": [
    "'''\n",
    "一种等价写法：x = torch.arange(4.0 , requires_grad=True)\n",
    "'''\n",
    "x.requires_grad_(True)\n",
    "x.grad"
   ]
  },
  {
   "cell_type": "code",
   "execution_count": 64,
   "id": "6e153f00",
   "metadata": {
    "ExecuteTime": {
     "end_time": "2021-11-05T02:10:13.274161Z",
     "start_time": "2021-11-05T02:10:13.260318Z"
    }
   },
   "outputs": [
    {
     "data": {
      "text/plain": [
       "tensor(28., grad_fn=<MulBackward0>)"
      ]
     },
     "execution_count": 64,
     "metadata": {},
     "output_type": "execute_result"
    }
   ],
   "source": [
    "y = 2 * torch.dot(x, x)\n",
    "y"
   ]
  },
  {
   "cell_type": "code",
   "execution_count": 65,
   "id": "c6786fd1",
   "metadata": {
    "ExecuteTime": {
     "end_time": "2021-11-05T02:10:13.660821Z",
     "start_time": "2021-11-05T02:10:13.637614Z"
    }
   },
   "outputs": [
    {
     "data": {
      "text/plain": [
       "(tensor([ 0.,  4.,  8., 12.]), tensor([True, True, True, True]))"
      ]
     },
     "execution_count": 65,
     "metadata": {},
     "output_type": "execute_result"
    }
   ],
   "source": [
    "x.grad.zero_()\n",
    "y.backward()\n",
    "x.grad, x.grad == 4*x"
   ]
  },
  {
   "cell_type": "code",
   "execution_count": 66,
   "id": "67a6f94d",
   "metadata": {
    "ExecuteTime": {
     "end_time": "2021-11-05T02:10:14.190598Z",
     "start_time": "2021-11-05T02:10:14.172709Z"
    }
   },
   "outputs": [
    {
     "data": {
      "text/plain": [
       "tensor([1., 1., 1., 1.])"
      ]
     },
     "execution_count": 66,
     "metadata": {},
     "output_type": "execute_result"
    }
   ],
   "source": [
    "'''\n",
    "默认情况下，pytorch会累计梯度，我们需要清除之前的值\n",
    "'''\n",
    "x.grad.zero_()\n",
    "y = x.sum()\n",
    "y.backward()\n",
    "x.grad"
   ]
  },
  {
   "cell_type": "markdown",
   "id": "9034e297",
   "metadata": {},
   "source": [
    "* <font color = 'red'>深度学习中，我们的目的不是计算微分矩阵，而是批量中每个样本单独计算的偏导数直和。</font>\n",
    "\n",
    "* 对非标量调用`backward`需要传入一个`gradient`参数，该参数指定微分函数关于`self`的梯度。在我们的例子中，我们只想求偏导数的和，所以传递一个1是合适的"
   ]
  },
  {
   "cell_type": "code",
   "execution_count": 70,
   "id": "8efbd6f3",
   "metadata": {
    "ExecuteTime": {
     "end_time": "2021-11-05T02:26:41.980488Z",
     "start_time": "2021-11-05T02:26:41.959021Z"
    }
   },
   "outputs": [
    {
     "data": {
      "text/plain": [
       "tensor([0., 2., 4., 6.])"
      ]
     },
     "execution_count": 70,
     "metadata": {},
     "output_type": "execute_result"
    }
   ],
   "source": [
    "x.grad.zero_()\n",
    "y = x * x\n",
    "\n",
    "# 等价于y.backward(torch.ones(len(x)))\n",
    "\n",
    "y.sum().backward()\n",
    "x.grad"
   ]
  },
  {
   "cell_type": "markdown",
   "id": "8f0431f3",
   "metadata": {},
   "source": [
    "* 将某些计算移动到记录的计算图之外"
   ]
  },
  {
   "cell_type": "code",
   "execution_count": 74,
   "id": "f98d3c5f",
   "metadata": {
    "ExecuteTime": {
     "end_time": "2021-11-05T02:33:37.254431Z",
     "start_time": "2021-11-05T02:33:37.242796Z"
    }
   },
   "outputs": [
    {
     "data": {
      "text/plain": [
       "tensor([True, True, True, True])"
      ]
     },
     "execution_count": 74,
     "metadata": {},
     "output_type": "execute_result"
    }
   ],
   "source": [
    "x.grad.zero_()\n",
    "y = x * x\n",
    "u = y.detach() # 把y当作常数而不是x的函数\n",
    "z = u*x\n",
    "\n",
    "z.sum().backward()\n",
    "x.grad == u"
   ]
  },
  {
   "cell_type": "code",
   "execution_count": 75,
   "id": "b11f2db1",
   "metadata": {
    "ExecuteTime": {
     "end_time": "2021-11-05T02:37:48.771454Z",
     "start_time": "2021-11-05T02:37:48.750434Z"
    }
   },
   "outputs": [
    {
     "data": {
      "text/plain": [
       "tensor([True, True, True, True])"
      ]
     },
     "execution_count": 75,
     "metadata": {},
     "output_type": "execute_result"
    }
   ],
   "source": [
    "x.grad.zero_()\n",
    "y.sum().backward()\n",
    "x.grad == 2 * x"
   ]
  },
  {
   "cell_type": "markdown",
   "id": "5c1f3b40",
   "metadata": {},
   "source": [
    "* 即使构建函数的计算图需要通过python控制流(例如：条件、循环或任意函数调用)，我们仍然可以计算得到的变量的梯度"
   ]
  },
  {
   "cell_type": "code",
   "execution_count": 104,
   "id": "32e8a763",
   "metadata": {
    "ExecuteTime": {
     "end_time": "2021-11-05T02:44:22.738018Z",
     "start_time": "2021-11-05T02:44:22.708698Z"
    }
   },
   "outputs": [
    {
     "data": {
      "text/plain": [
       "(tensor(0.3591, requires_grad=True), tensor(4096.), tensor(True))"
      ]
     },
     "execution_count": 104,
     "metadata": {},
     "output_type": "execute_result"
    }
   ],
   "source": [
    "def f(a):\n",
    "    b = a * 2\n",
    "    while b.norm() < 1000:\n",
    "        b = b * 2\n",
    "    if b.sum() > 0:\n",
    "        c = b\n",
    "    else:\n",
    "        c = 100 * b\n",
    "    return c\n",
    "\n",
    "a = torch.randn(size=(),requires_grad = True)\n",
    "d = f(a)\n",
    "d.backward()\n",
    "\n",
    "a, a.grad, a.grad == d / a"
   ]
  },
  {
   "cell_type": "code",
   "execution_count": null,
   "id": "b9794183",
   "metadata": {},
   "outputs": [],
   "source": []
  },
  {
   "cell_type": "code",
   "execution_count": null,
   "id": "0c00fb1d",
   "metadata": {},
   "outputs": [],
   "source": []
  },
  {
   "cell_type": "code",
   "execution_count": null,
   "id": "d16f7cc4",
   "metadata": {},
   "outputs": [],
   "source": []
  },
  {
   "cell_type": "code",
   "execution_count": null,
   "id": "b1e6ca36",
   "metadata": {},
   "outputs": [],
   "source": []
  },
  {
   "cell_type": "code",
   "execution_count": null,
   "id": "dff5ab69",
   "metadata": {},
   "outputs": [],
   "source": []
  },
  {
   "cell_type": "code",
   "execution_count": null,
   "id": "9f3d232b",
   "metadata": {},
   "outputs": [],
   "source": []
  },
  {
   "cell_type": "code",
   "execution_count": null,
   "id": "747943a9",
   "metadata": {},
   "outputs": [],
   "source": []
  }
 ],
 "metadata": {
  "kernelspec": {
   "display_name": "Python [conda env:pytorch]",
   "language": "python",
   "name": "conda-env-pytorch-py"
  },
  "language_info": {
   "codemirror_mode": {
    "name": "ipython",
    "version": 3
   },
   "file_extension": ".py",
   "mimetype": "text/x-python",
   "name": "python",
   "nbconvert_exporter": "python",
   "pygments_lexer": "ipython3",
   "version": "3.9.7"
  },
  "toc": {
   "base_numbering": 1,
   "nav_menu": {},
   "number_sections": true,
   "sideBar": true,
   "skip_h1_title": false,
   "title_cell": "Table of Contents",
   "title_sidebar": "Contents",
   "toc_cell": false,
   "toc_position": {
    "height": "calc(100% - 180px)",
    "left": "10px",
    "top": "150px",
    "width": "153.438px"
   },
   "toc_section_display": true,
   "toc_window_display": false
  },
  "varInspector": {
   "cols": {
    "lenName": 16,
    "lenType": 16,
    "lenVar": 40
   },
   "kernels_config": {
    "python": {
     "delete_cmd_postfix": "",
     "delete_cmd_prefix": "del ",
     "library": "var_list.py",
     "varRefreshCmd": "print(var_dic_list())"
    },
    "r": {
     "delete_cmd_postfix": ") ",
     "delete_cmd_prefix": "rm(",
     "library": "var_list.r",
     "varRefreshCmd": "cat(var_dic_list()) "
    }
   },
   "types_to_exclude": [
    "module",
    "function",
    "builtin_function_or_method",
    "instance",
    "_Feature"
   ],
   "window_display": false
  }
 },
 "nbformat": 4,
 "nbformat_minor": 5
}
