{
 "cells": [
  {
   "cell_type": "markdown",
   "id": "c65b10f8",
   "metadata": {},
   "source": [
    "基于李沐大神的b站课程\n",
    "\n",
    "https://www.bilibili.com/video/BV1if4y147hS?spm_id_from=333.999.0.0"
   ]
  },
  {
   "cell_type": "markdown",
   "id": "4f8de304",
   "metadata": {},
   "source": [
    "# 数据预处理\n",
    "## ？？创建一个人工数据集，并存储在csv文件\n",
    "<font color = 'red'>p47 os操作不会</font>"
   ]
  },
  {
   "cell_type": "code",
   "execution_count": 4,
   "id": "6f45332f",
   "metadata": {
    "ExecuteTime": {
     "end_time": "2021-11-04T12:17:12.436480Z",
     "start_time": "2021-11-04T12:17:12.425906Z"
    }
   },
   "outputs": [],
   "source": [
    "import os"
   ]
  },
  {
   "cell_type": "code",
   "execution_count": 18,
   "id": "96a20f0b",
   "metadata": {
    "ExecuteTime": {
     "end_time": "2021-11-04T12:59:20.550485Z",
     "start_time": "2021-11-04T12:59:20.533242Z"
    }
   },
   "outputs": [],
   "source": [
    "os.makedirs(os.path.join('..', 'data'), exist_ok=True)\n",
    "data_file = os.path.join('..', 'data', 'house_tiny.csv')\n",
    "with open(data_file, 'w') as f:\n",
    "    f.write('NumRooms, Alley, price\\n') # 列名\n",
    "    f.write('NA,Pave,127500\\n')\n",
    "    f.write('2,NA,10600\\n')\n",
    "    f.write('4,NA,178100\\n')\n",
    "    f.write('NA,NA,140000\\n')"
   ]
  },
  {
   "cell_type": "code",
   "execution_count": 27,
   "id": "427bb6bd",
   "metadata": {
    "ExecuteTime": {
     "end_time": "2021-11-04T13:08:04.765415Z",
     "start_time": "2021-11-04T13:08:04.751893Z"
    }
   },
   "outputs": [
    {
     "data": {
      "text/html": [
       "<div>\n",
       "<style scoped>\n",
       "    .dataframe tbody tr th:only-of-type {\n",
       "        vertical-align: middle;\n",
       "    }\n",
       "\n",
       "    .dataframe tbody tr th {\n",
       "        vertical-align: top;\n",
       "    }\n",
       "\n",
       "    .dataframe thead th {\n",
       "        text-align: right;\n",
       "    }\n",
       "</style>\n",
       "<table border=\"1\" class=\"dataframe\">\n",
       "  <thead>\n",
       "    <tr style=\"text-align: right;\">\n",
       "      <th></th>\n",
       "      <th>NumRooms</th>\n",
       "      <th>Alley</th>\n",
       "      <th>price</th>\n",
       "    </tr>\n",
       "  </thead>\n",
       "  <tbody>\n",
       "    <tr>\n",
       "      <th>0</th>\n",
       "      <td>NaN</td>\n",
       "      <td>Pave</td>\n",
       "      <td>127500</td>\n",
       "    </tr>\n",
       "    <tr>\n",
       "      <th>1</th>\n",
       "      <td>2.0</td>\n",
       "      <td>NaN</td>\n",
       "      <td>10600</td>\n",
       "    </tr>\n",
       "    <tr>\n",
       "      <th>2</th>\n",
       "      <td>4.0</td>\n",
       "      <td>NaN</td>\n",
       "      <td>178100</td>\n",
       "    </tr>\n",
       "    <tr>\n",
       "      <th>3</th>\n",
       "      <td>NaN</td>\n",
       "      <td>NaN</td>\n",
       "      <td>140000</td>\n",
       "    </tr>\n",
       "  </tbody>\n",
       "</table>\n",
       "</div>"
      ],
      "text/plain": [
       "   NumRooms  Alley   price\n",
       "0       NaN   Pave  127500\n",
       "1       2.0    NaN   10600\n",
       "2       4.0    NaN  178100\n",
       "3       NaN    NaN  140000"
      ]
     },
     "execution_count": 27,
     "metadata": {},
     "output_type": "execute_result"
    }
   ],
   "source": [
    "import pandas as pd\n",
    "\n",
    "data = pd.read_csv(data_file)\n",
    "data"
   ]
  },
  {
   "cell_type": "markdown",
   "id": "4e5d6fa2",
   "metadata": {
    "ExecuteTime": {
     "end_time": "2021-11-04T12:49:13.091746Z",
     "start_time": "2021-11-04T12:49:12.873998Z"
    }
   },
   "source": [
    "## 处理缺失数据\n",
    "### 插值、删除"
   ]
  },
  {
   "cell_type": "markdown",
   "id": "f81a1f82",
   "metadata": {},
   "source": [
    "* `df.fillna(df.mean())`填平均值\n",
    "* `pd.get_dummies(df, dummy_na = True)`对于离散化值（包括`NaN`）one hot encode"
   ]
  },
  {
   "cell_type": "code",
   "execution_count": 36,
   "id": "57a539c4",
   "metadata": {
    "ExecuteTime": {
     "end_time": "2021-11-04T13:18:49.930753Z",
     "start_time": "2021-11-04T13:18:49.908008Z"
    }
   },
   "outputs": [
    {
     "data": {
      "text/html": [
       "<div>\n",
       "<style scoped>\n",
       "    .dataframe tbody tr th:only-of-type {\n",
       "        vertical-align: middle;\n",
       "    }\n",
       "\n",
       "    .dataframe tbody tr th {\n",
       "        vertical-align: top;\n",
       "    }\n",
       "\n",
       "    .dataframe thead th {\n",
       "        text-align: right;\n",
       "    }\n",
       "</style>\n",
       "<table border=\"1\" class=\"dataframe\">\n",
       "  <thead>\n",
       "    <tr style=\"text-align: right;\">\n",
       "      <th></th>\n",
       "      <th>NumRooms</th>\n",
       "      <th>Alley</th>\n",
       "    </tr>\n",
       "  </thead>\n",
       "  <tbody>\n",
       "    <tr>\n",
       "      <th>0</th>\n",
       "      <td>3.0</td>\n",
       "      <td>Pave</td>\n",
       "    </tr>\n",
       "    <tr>\n",
       "      <th>1</th>\n",
       "      <td>2.0</td>\n",
       "      <td>NaN</td>\n",
       "    </tr>\n",
       "    <tr>\n",
       "      <th>2</th>\n",
       "      <td>4.0</td>\n",
       "      <td>NaN</td>\n",
       "    </tr>\n",
       "    <tr>\n",
       "      <th>3</th>\n",
       "      <td>3.0</td>\n",
       "      <td>NaN</td>\n",
       "    </tr>\n",
       "  </tbody>\n",
       "</table>\n",
       "</div>"
      ],
      "text/plain": [
       "   NumRooms  Alley\n",
       "0       3.0   Pave\n",
       "1       2.0    NaN\n",
       "2       4.0    NaN\n",
       "3       3.0    NaN"
      ]
     },
     "execution_count": 36,
     "metadata": {},
     "output_type": "execute_result"
    }
   ],
   "source": [
    "inputs, outputs = data.iloc[: , 0:2], data.iloc[:, 2]\n",
    "inputs = inputs.fillna(inputs.mean())\n",
    "inputs"
   ]
  },
  {
   "cell_type": "code",
   "execution_count": 38,
   "id": "f80f7855",
   "metadata": {
    "ExecuteTime": {
     "end_time": "2021-11-04T13:18:50.607708Z",
     "start_time": "2021-11-04T13:18:50.573588Z"
    }
   },
   "outputs": [
    {
     "data": {
      "text/html": [
       "<div>\n",
       "<style scoped>\n",
       "    .dataframe tbody tr th:only-of-type {\n",
       "        vertical-align: middle;\n",
       "    }\n",
       "\n",
       "    .dataframe tbody tr th {\n",
       "        vertical-align: top;\n",
       "    }\n",
       "\n",
       "    .dataframe thead th {\n",
       "        text-align: right;\n",
       "    }\n",
       "</style>\n",
       "<table border=\"1\" class=\"dataframe\">\n",
       "  <thead>\n",
       "    <tr style=\"text-align: right;\">\n",
       "      <th></th>\n",
       "      <th>NumRooms</th>\n",
       "      <th>Alley_Pave</th>\n",
       "      <th>Alley_nan</th>\n",
       "    </tr>\n",
       "  </thead>\n",
       "  <tbody>\n",
       "    <tr>\n",
       "      <th>0</th>\n",
       "      <td>3.0</td>\n",
       "      <td>1</td>\n",
       "      <td>0</td>\n",
       "    </tr>\n",
       "    <tr>\n",
       "      <th>1</th>\n",
       "      <td>2.0</td>\n",
       "      <td>0</td>\n",
       "      <td>1</td>\n",
       "    </tr>\n",
       "    <tr>\n",
       "      <th>2</th>\n",
       "      <td>4.0</td>\n",
       "      <td>0</td>\n",
       "      <td>1</td>\n",
       "    </tr>\n",
       "    <tr>\n",
       "      <th>3</th>\n",
       "      <td>3.0</td>\n",
       "      <td>0</td>\n",
       "      <td>1</td>\n",
       "    </tr>\n",
       "  </tbody>\n",
       "</table>\n",
       "</div>"
      ],
      "text/plain": [
       "   NumRooms   Alley_Pave   Alley_nan\n",
       "0       3.0            1           0\n",
       "1       2.0            0           1\n",
       "2       4.0            0           1\n",
       "3       3.0            0           1"
      ]
     },
     "execution_count": 38,
     "metadata": {},
     "output_type": "execute_result"
    }
   ],
   "source": [
    "inputs = pd.get_dummies(inputs, dummy_na=True) # one hot encode\n",
    "inputs"
   ]
  },
  {
   "cell_type": "markdown",
   "id": "5e42742f",
   "metadata": {},
   "source": [
    "float64比较慢，深度学习一般会改为32位浮点数"
   ]
  },
  {
   "cell_type": "code",
   "execution_count": 50,
   "id": "05290b3f",
   "metadata": {
    "ExecuteTime": {
     "end_time": "2021-11-04T13:21:26.088066Z",
     "start_time": "2021-11-04T13:21:26.076631Z"
    }
   },
   "outputs": [
    {
     "data": {
      "text/plain": [
       "(tensor([[3., 1., 0.],\n",
       "         [2., 0., 1.],\n",
       "         [4., 0., 1.],\n",
       "         [3., 0., 1.]], dtype=torch.float64),\n",
       " tensor([127500,  10600, 178100, 140000]))"
      ]
     },
     "execution_count": 50,
     "metadata": {},
     "output_type": "execute_result"
    }
   ],
   "source": [
    "import torch\n",
    "\n",
    "X,y = torch.tensor(inputs.values), torch.tensor(outputs.values)\n",
    "X,y"
   ]
  },
  {
   "cell_type": "markdown",
   "id": "0f7c6576",
   "metadata": {},
   "source": [
    "# 线性代数\n",
    "* 分配新内存"
   ]
  },
  {
   "cell_type": "code",
   "execution_count": 59,
   "id": "59bf7655",
   "metadata": {
    "ExecuteTime": {
     "end_time": "2021-11-04T13:36:30.656041Z",
     "start_time": "2021-11-04T13:36:30.641955Z"
    }
   },
   "outputs": [
    {
     "data": {
      "text/plain": [
       "(array([[1, 1, 1, 1, 1],\n",
       "        [1, 1, 1, 1, 1]]),\n",
       " array([[1, 1, 1, 1, 1],\n",
       "        [1, 1, 1, 1, 1]]))"
      ]
     },
     "execution_count": 59,
     "metadata": {},
     "output_type": "execute_result"
    }
   ],
   "source": [
    "a = np.arange(10).reshape((2,5))\n",
    "b = a\n",
    "b[:] = 1\n",
    "b,a"
   ]
  },
  {
   "cell_type": "code",
   "execution_count": 57,
   "id": "d841795b",
   "metadata": {
    "ExecuteTime": {
     "end_time": "2021-11-04T13:36:13.856059Z",
     "start_time": "2021-11-04T13:36:13.845461Z"
    }
   },
   "outputs": [
    {
     "data": {
      "text/plain": [
       "(array([[1, 1, 1, 1, 1],\n",
       "        [1, 1, 1, 1, 1]]),\n",
       " array([[0, 1, 2, 3, 4],\n",
       "        [5, 6, 7, 8, 9]]))"
      ]
     },
     "execution_count": 57,
     "metadata": {},
     "output_type": "execute_result"
    }
   ],
   "source": [
    "a = np.arange(10).reshape((2,5))\n",
    "b = a.copy()\n",
    "b[:] = 1\n",
    "b,a"
   ]
  },
  {
   "cell_type": "code",
   "execution_count": 63,
   "id": "bb46468c",
   "metadata": {
    "ExecuteTime": {
     "end_time": "2021-11-04T13:37:33.168774Z",
     "start_time": "2021-11-04T13:37:33.153954Z"
    }
   },
   "outputs": [
    {
     "data": {
      "text/plain": [
       "(tensor([[ 0.,  1.,  2.,  3.],\n",
       "         [ 4.,  5.,  6.,  7.],\n",
       "         [ 8.,  9., 10., 11.],\n",
       "         [12., 13., 14., 15.],\n",
       "         [16., 17., 18., 19.]]),\n",
       " tensor([[ 0.,  2.,  4.,  6.],\n",
       "         [ 8., 10., 12., 14.],\n",
       "         [16., 18., 20., 22.],\n",
       "         [24., 26., 28., 30.],\n",
       "         [32., 34., 36., 38.]]))"
      ]
     },
     "execution_count": 63,
     "metadata": {},
     "output_type": "execute_result"
    }
   ],
   "source": [
    "A = torch.arange(20, dtype=torch.float32).reshape(5, 4)\n",
    "B = A\n",
    "A, A + B"
   ]
  },
  {
   "cell_type": "code",
   "execution_count": 62,
   "id": "fca21e99",
   "metadata": {
    "ExecuteTime": {
     "end_time": "2021-11-04T13:37:25.487351Z",
     "start_time": "2021-11-04T13:37:25.467163Z"
    }
   },
   "outputs": [
    {
     "data": {
      "text/plain": [
       "(tensor([[ 0.,  1.,  2.,  3.],\n",
       "         [ 4.,  5.,  6.,  7.],\n",
       "         [ 8.,  9., 10., 11.],\n",
       "         [12., 13., 14., 15.],\n",
       "         [16., 17., 18., 19.]]),\n",
       " tensor([[ 0.,  2.,  4.,  6.],\n",
       "         [ 8., 10., 12., 14.],\n",
       "         [16., 18., 20., 22.],\n",
       "         [24., 26., 28., 30.],\n",
       "         [32., 34., 36., 38.]]))"
      ]
     },
     "execution_count": 62,
     "metadata": {},
     "output_type": "execute_result"
    }
   ],
   "source": [
    "A = torch.arange(20, dtype=torch.float32).reshape(5, 4)\n",
    "B = A.clone()\n",
    "A, A + B"
   ]
  },
  {
   "cell_type": "code",
   "execution_count": 66,
   "id": "034651dc",
   "metadata": {
    "ExecuteTime": {
     "end_time": "2021-11-04T13:41:27.019413Z",
     "start_time": "2021-11-04T13:41:27.007361Z"
    }
   },
   "outputs": [
    {
     "data": {
      "text/plain": [
       "5"
      ]
     },
     "execution_count": 66,
     "metadata": {},
     "output_type": "execute_result"
    }
   ],
   "source": [
    "A.numel() # 元素总个数\n",
    "A.shape[0]"
   ]
  },
  {
   "cell_type": "markdown",
   "id": "bca6d003",
   "metadata": {},
   "source": [
    "计算总和或均值时保持轴数不变——keepdims=True\n",
    "* 为了更好的使用广播机制\n",
    "`A/sum_A`"
   ]
  },
  {
   "cell_type": "code",
   "execution_count": 71,
   "id": "f44c9a2a",
   "metadata": {
    "ExecuteTime": {
     "end_time": "2021-11-04T13:44:18.215123Z",
     "start_time": "2021-11-04T13:44:18.197171Z"
    }
   },
   "outputs": [
    {
     "data": {
      "text/plain": [
       "(tensor([ 6., 22., 38., 54., 70.]),\n",
       " tensor([[ 0.,  1.,  2.,  3.],\n",
       "         [ 4.,  5.,  6.,  7.],\n",
       "         [ 8.,  9., 10., 11.],\n",
       "         [12., 13., 14., 15.],\n",
       "         [16., 17., 18., 19.]]))"
      ]
     },
     "execution_count": 71,
     "metadata": {},
     "output_type": "execute_result"
    }
   ],
   "source": [
    "A = torch.arange(20, dtype=torch.float32).reshape(5, 4)\n",
    "sum_A = A.sum(axis = 1)\n",
    "sum_A,A"
   ]
  },
  {
   "cell_type": "code",
   "execution_count": 68,
   "id": "13fb6aad",
   "metadata": {
    "ExecuteTime": {
     "end_time": "2021-11-04T13:43:19.968017Z",
     "start_time": "2021-11-04T13:43:19.943069Z"
    }
   },
   "outputs": [
    {
     "data": {
      "text/plain": [
       "(tensor([[ 6.],\n",
       "         [22.],\n",
       "         [38.],\n",
       "         [54.],\n",
       "         [70.]]),\n",
       " tensor([[ 0.,  1.,  2.,  3.],\n",
       "         [ 4.,  5.,  6.,  7.],\n",
       "         [ 8.,  9., 10., 11.],\n",
       "         [12., 13., 14., 15.],\n",
       "         [16., 17., 18., 19.]]))"
      ]
     },
     "execution_count": 68,
     "metadata": {},
     "output_type": "execute_result"
    }
   ],
   "source": [
    "A = torch.arange(20, dtype=torch.float32).reshape(5, 4)\n",
    "sum_A = A.sum(axis = 1, keepdims=True)\n",
    "sum_A,A"
   ]
  },
  {
   "cell_type": "code",
   "execution_count": 76,
   "id": "523150c3",
   "metadata": {
    "ExecuteTime": {
     "end_time": "2021-11-04T13:46:01.881773Z",
     "start_time": "2021-11-04T13:46:01.863160Z"
    }
   },
   "outputs": [
    {
     "data": {
      "text/plain": [
       "tensor([[ 0.,  1.,  2.,  3.],\n",
       "        [ 4.,  6.,  8., 10.],\n",
       "        [12., 15., 18., 21.],\n",
       "        [24., 28., 32., 36.],\n",
       "        [40., 45., 50., 55.]])"
      ]
     },
     "execution_count": 76,
     "metadata": {},
     "output_type": "execute_result"
    }
   ],
   "source": [
    "A = torch.arange(20, dtype=torch.float32).reshape(5, 4)\n",
    "A.cumsum(axis=0) #  按轴累加"
   ]
  },
  {
   "cell_type": "markdown",
   "id": "b1d09bd4",
   "metadata": {},
   "source": [
    "* 矩阵乘法【点积】`torch.mv(A,x)`——【matrix-vector multiplication】\n",
    "* 矩阵乘法`torch.mm(A.T,A)`"
   ]
  },
  {
   "cell_type": "code",
   "execution_count": 82,
   "id": "285cf285",
   "metadata": {
    "ExecuteTime": {
     "end_time": "2021-11-04T13:49:40.253764Z",
     "start_time": "2021-11-04T13:49:40.239456Z"
    }
   },
   "outputs": [
    {
     "data": {
      "text/plain": [
       "tensor([[ 0.,  1.,  2.,  3.],\n",
       "        [ 4.,  5.,  6.,  7.],\n",
       "        [ 8.,  9., 10., 11.],\n",
       "        [12., 13., 14., 15.],\n",
       "        [16., 17., 18., 19.]])"
      ]
     },
     "execution_count": 82,
     "metadata": {},
     "output_type": "execute_result"
    }
   ],
   "source": [
    "A"
   ]
  },
  {
   "cell_type": "code",
   "execution_count": 81,
   "id": "52712c83",
   "metadata": {
    "ExecuteTime": {
     "end_time": "2021-11-04T13:49:33.050256Z",
     "start_time": "2021-11-04T13:49:33.033777Z"
    }
   },
   "outputs": [
    {
     "data": {
      "text/plain": [
       "tensor([[ 0.,  4.,  8., 12., 16.],\n",
       "        [ 1.,  5.,  9., 13., 17.],\n",
       "        [ 2.,  6., 10., 14., 18.],\n",
       "        [ 3.,  7., 11., 15., 19.]])"
      ]
     },
     "execution_count": 81,
     "metadata": {},
     "output_type": "execute_result"
    }
   ],
   "source": [
    "A.T"
   ]
  },
  {
   "cell_type": "code",
   "execution_count": 91,
   "id": "a7128327",
   "metadata": {
    "ExecuteTime": {
     "end_time": "2021-11-04T13:52:13.139727Z",
     "start_time": "2021-11-04T13:52:13.125336Z"
    }
   },
   "outputs": [
    {
     "data": {
      "text/plain": [
       "(tensor([ 14.,  38.,  62.,  86., 110.]),\n",
       " tensor([True, True, True, True, True]))"
      ]
     },
     "execution_count": 91,
     "metadata": {},
     "output_type": "execute_result"
    }
   ],
   "source": [
    "A = torch.arange(20, dtype=torch.float32).reshape(5, 4)\n",
    "x = torch.arange(4,dtype = torch.float32)\n",
    "A@x, torch.mv(A,x) == A@x\n"
   ]
  },
  {
   "cell_type": "code",
   "execution_count": 92,
   "id": "a2c606c9",
   "metadata": {
    "ExecuteTime": {
     "end_time": "2021-11-04T13:52:33.408765Z",
     "start_time": "2021-11-04T13:52:33.391596Z"
    },
    "scrolled": true
   },
   "outputs": [
    {
     "data": {
      "text/plain": [
       "(tensor([[  14.,   38.,   62.,   86.,  110.],\n",
       "         [  38.,  126.,  214.,  302.,  390.],\n",
       "         [  62.,  214.,  366.,  518.,  670.],\n",
       "         [  86.,  302.,  518.,  734.,  950.],\n",
       "         [ 110.,  390.,  670.,  950., 1230.]]),\n",
       " tensor([[True, True, True, True, True],\n",
       "         [True, True, True, True, True],\n",
       "         [True, True, True, True, True],\n",
       "         [True, True, True, True, True],\n",
       "         [True, True, True, True, True]]))"
      ]
     },
     "execution_count": 92,
     "metadata": {},
     "output_type": "execute_result"
    }
   ],
   "source": [
    "A = torch.arange(20, dtype=torch.float32).reshape(5, 4)\n",
    "torch.mm(A,A.T),torch.mm(A,A.T) == A@A.T"
   ]
  },
  {
   "cell_type": "markdown",
   "id": "dbe5cf3c",
   "metadata": {},
   "source": [
    "范数torch.norm()"
   ]
  },
  {
   "cell_type": "code",
   "execution_count": 94,
   "id": "e318180a",
   "metadata": {
    "ExecuteTime": {
     "end_time": "2021-11-04T13:54:19.560070Z",
     "start_time": "2021-11-04T13:54:19.542007Z"
    }
   },
   "outputs": [
    {
     "data": {
      "text/plain": [
       "(tensor(5.), tensor(7.))"
      ]
     },
     "execution_count": 94,
     "metadata": {},
     "output_type": "execute_result"
    }
   ],
   "source": [
    "u = torch.tensor([3.0, -4.0])\n",
    "torch.norm(u),torch.abs(u).sum()"
   ]
  },
  {
   "cell_type": "markdown",
   "id": "0cbfdb75",
   "metadata": {},
   "source": [
    "按某一维度求和维度保留问题"
   ]
  },
  {
   "cell_type": "code",
   "execution_count": 97,
   "id": "464063af",
   "metadata": {
    "ExecuteTime": {
     "end_time": "2021-11-04T13:59:29.036703Z",
     "start_time": "2021-11-04T13:59:29.029202Z"
    }
   },
   "outputs": [
    {
     "data": {
      "text/plain": [
       "(torch.Size([2, 5, 4]),\n",
       " tensor([[[1., 1., 1., 1.],\n",
       "          [1., 1., 1., 1.],\n",
       "          [1., 1., 1., 1.],\n",
       "          [1., 1., 1., 1.],\n",
       "          [1., 1., 1., 1.]],\n",
       " \n",
       "         [[1., 1., 1., 1.],\n",
       "          [1., 1., 1., 1.],\n",
       "          [1., 1., 1., 1.],\n",
       "          [1., 1., 1., 1.],\n",
       "          [1., 1., 1., 1.]]]))"
      ]
     },
     "execution_count": 97,
     "metadata": {},
     "output_type": "execute_result"
    }
   ],
   "source": [
    "a = torch.ones((2, 5, 4))\n",
    "a.shape,a"
   ]
  },
  {
   "cell_type": "code",
   "execution_count": 99,
   "id": "2f79868d",
   "metadata": {
    "ExecuteTime": {
     "end_time": "2021-11-04T13:59:44.894574Z",
     "start_time": "2021-11-04T13:59:44.877390Z"
    }
   },
   "outputs": [
    {
     "data": {
      "text/plain": [
       "(torch.Size([2, 4]),\n",
       " tensor([[5., 5., 5., 5.],\n",
       "         [5., 5., 5., 5.]]))"
      ]
     },
     "execution_count": 99,
     "metadata": {},
     "output_type": "execute_result"
    }
   ],
   "source": [
    "a.sum(axis=1).shape,a.sum(axis=1)"
   ]
  },
  {
   "cell_type": "code",
   "execution_count": 101,
   "id": "2d43b337",
   "metadata": {
    "ExecuteTime": {
     "end_time": "2021-11-04T14:00:34.233992Z",
     "start_time": "2021-11-04T14:00:34.214100Z"
    }
   },
   "outputs": [
    {
     "data": {
      "text/plain": [
       "(torch.Size([5]), tensor([8., 8., 8., 8., 8.]))"
      ]
     },
     "execution_count": 101,
     "metadata": {},
     "output_type": "execute_result"
    }
   ],
   "source": [
    "a.sum(axis=[0,2]).shape,a.sum(axis = [0,2])"
   ]
  },
  {
   "cell_type": "code",
   "execution_count": 102,
   "id": "5c98f1a2",
   "metadata": {
    "ExecuteTime": {
     "end_time": "2021-11-04T14:01:11.098167Z",
     "start_time": "2021-11-04T14:01:11.076342Z"
    }
   },
   "outputs": [
    {
     "data": {
      "text/plain": [
       "(torch.Size([2, 1, 4]),\n",
       " tensor([[[5., 5., 5., 5.]],\n",
       " \n",
       "         [[5., 5., 5., 5.]]]))"
      ]
     },
     "execution_count": 102,
     "metadata": {},
     "output_type": "execute_result"
    }
   ],
   "source": [
    "a.sum(axis=1,keepdims=True).shape,a.sum(axis=1,keepdims=True)"
   ]
  },
  {
   "cell_type": "code",
   "execution_count": null,
   "id": "c0a6b355",
   "metadata": {},
   "outputs": [],
   "source": []
  },
  {
   "cell_type": "code",
   "execution_count": null,
   "id": "1a93e14f",
   "metadata": {},
   "outputs": [],
   "source": []
  },
  {
   "cell_type": "code",
   "execution_count": null,
   "id": "747943a9",
   "metadata": {},
   "outputs": [],
   "source": []
  }
 ],
 "metadata": {
  "kernelspec": {
   "display_name": "Python [conda env:pytorch]",
   "language": "python",
   "name": "conda-env-pytorch-py"
  },
  "language_info": {
   "codemirror_mode": {
    "name": "ipython",
    "version": 3
   },
   "file_extension": ".py",
   "mimetype": "text/x-python",
   "name": "python",
   "nbconvert_exporter": "python",
   "pygments_lexer": "ipython3",
   "version": "3.9.7"
  },
  "toc": {
   "base_numbering": 1,
   "nav_menu": {},
   "number_sections": true,
   "sideBar": true,
   "skip_h1_title": false,
   "title_cell": "Table of Contents",
   "title_sidebar": "Contents",
   "toc_cell": false,
   "toc_position": {},
   "toc_section_display": true,
   "toc_window_display": true
  },
  "varInspector": {
   "cols": {
    "lenName": 16,
    "lenType": 16,
    "lenVar": 40
   },
   "kernels_config": {
    "python": {
     "delete_cmd_postfix": "",
     "delete_cmd_prefix": "del ",
     "library": "var_list.py",
     "varRefreshCmd": "print(var_dic_list())"
    },
    "r": {
     "delete_cmd_postfix": ") ",
     "delete_cmd_prefix": "rm(",
     "library": "var_list.r",
     "varRefreshCmd": "cat(var_dic_list()) "
    }
   },
   "types_to_exclude": [
    "module",
    "function",
    "builtin_function_or_method",
    "instance",
    "_Feature"
   ],
   "window_display": false
  }
 },
 "nbformat": 4,
 "nbformat_minor": 5
}
