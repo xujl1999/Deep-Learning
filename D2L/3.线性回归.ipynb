{
 "cells": [
  {
   "cell_type": "markdown",
   "id": "dcc53d61",
   "metadata": {},
   "source": [
    "学习资料：https://www.bilibili.com/video/BV1PX4y1g7KC?p=3&spm_id_from=pageDriver\n",
    "# 线性回归\n",
    "\n",
    "可以看成单层神经网络\n",
    "\n",
    "## 小批量随机梯度下降\n",
    "\n",
    "随机采样b个样本来近似损失\n",
    "\n",
    "b就是批量大小：batch\n",
    "\n",
    "* 重要超参数：\n",
    "    1. batch\n",
    "    2. 学习率\n",
    "\n",
    "## 线性回归的从零开始实现"
   ]
  },
  {
   "cell_type": "code",
   "execution_count": 1,
   "id": "959532d4",
   "metadata": {
    "ExecuteTime": {
     "end_time": "2021-11-09T11:52:50.510062Z",
     "start_time": "2021-11-09T11:52:43.342610Z"
    }
   },
   "outputs": [],
   "source": [
    "%matplotlib inline\n",
    "import random\n",
    "import torch\n",
    "from d2l import torch as d2l"
   ]
  },
  {
   "cell_type": "markdown",
   "id": "9514293c",
   "metadata": {},
   "source": [
    "### 生成带有噪声的数据集\n",
    "* synthetic_data:合成数据\n",
    "* torch.matmul 矩阵相乘"
   ]
  },
  {
   "cell_type": "code",
   "execution_count": 2,
   "id": "4c42b189",
   "metadata": {
    "ExecuteTime": {
     "end_time": "2021-11-09T11:52:50.820750Z",
     "start_time": "2021-11-09T11:52:50.511057Z"
    }
   },
   "outputs": [
    {
     "name": "stdout",
     "output_type": "stream",
     "text": [
      "features: tensor([-0.2443,  1.0140]) \n",
      "label: tensor([0.2707])\n"
     ]
    },
    {
     "data": {
      "image/png": "[encoded data removed]",
      "text/plain": [
       "<Figure size 432x288 with 1 Axes>"
      ]
     },
     "metadata": {
      "needs_background": "light"
     },
     "output_type": "display_data"
    }
   ],
   "source": [
    "def synthetic_data(w, b, num_examples):\n",
    "    X = torch.normal(0, 1, (num_examples, len(w))) # 标准正态分布，n行特征数列\n",
    "    y = torch.matmul(X, w) + b # matmul 矩阵相乘\n",
    "    y += torch.normal(0, 0.01, y.shape)\n",
    "    return X,y.reshape((-1, 1)) # (-1, 1)的意思是管你多少行，我只要一列\n",
    "                                 # 不转一下可能不区分行列\n",
    "\n",
    "true_w = torch.tensor([2, -3.4])\n",
    "true_b = 4.2\n",
    "features, labels = synthetic_data(true_w, true_b, 1000)\n",
    "\n",
    "print('features:',features[0],'\\nlabel:',labels[0])\n",
    "d2l.plt.scatter(features[:, 1].detach().numpy(), # detach分离梯度\n",
    "               labels.detach().numpy(),1); # # 加个1变得更加细，不知道是不是自动调整散点大小"
   ]
  },
  {
   "cell_type": "markdown",
   "id": "38cb1286",
   "metadata": {},
   "source": [
    "<font color = 'red'>加个1变得更加细，不知道是不是自动调整散点大小</font>"
   ]
  },
  {
   "cell_type": "markdown",
   "id": "51687d65",
   "metadata": {},
   "source": [
    "### 定义一个`data_iter`函数， 该函数接收批量大小、特征矩阵和标签向量作为输入，生成大小为`batch_size`的小批量\n",
    "\n",
    "* <font color = 'red'>注意这里`yield`的用法，迭代器函数用"
   ]
  },
  {
   "cell_type": "code",
   "execution_count": 3,
   "id": "cfd250aa",
   "metadata": {
    "ExecuteTime": {
     "end_time": "2021-11-09T11:52:50.836671Z",
     "start_time": "2021-11-09T11:52:50.821674Z"
    }
   },
   "outputs": [
    {
     "name": "stdout",
     "output_type": "stream",
     "text": [
      "tensor([[-1.6530,  0.1474],\n",
      "        [ 1.2086, -0.0570],\n",
      "        [ 0.3791,  1.0704],\n",
      "        [ 0.9246, -1.2075],\n",
      "        [-0.8179, -0.4957],\n",
      "        [ 1.3471, -0.2482],\n",
      "        [-0.1127, -0.1372],\n",
      "        [ 1.0260,  1.1142],\n",
      "        [ 1.7674,  0.5257],\n",
      "        [ 1.8688, -0.1511]]) \n",
      " tensor([[ 0.4003],\n",
      "        [ 6.8167],\n",
      "        [ 1.3096],\n",
      "        [10.1428],\n",
      "        [ 4.2582],\n",
      "        [ 7.7382],\n",
      "        [ 4.4357],\n",
      "        [ 2.4673],\n",
      "        [ 5.9416],\n",
      "        [ 8.4421]])\n"
     ]
    }
   ],
   "source": [
    "def data_iter(batch_size, features, labels):\n",
    "    num_examples = len(features)\n",
    "    indices = list(range(num_examples)) # 定义一个全体索引\n",
    "    # 这些样本是随机读取的，没有特定的顺序\n",
    "    \n",
    "    random.shuffle(indices) # 打乱列表\n",
    "    for i in range(0, num_examples, batch_size): # range(a,b,c)：用c把a到b平均切开\n",
    "        batch_indices = torch.tensor(\n",
    "            indices[i:min(i + batch_size, num_examples)]) \n",
    "        # 定义一个批量中的索引把原来已经打乱的索引切割成batch_size的大小\n",
    "        # 用min来防止最后一个超出\n",
    "        yield features[batch_indices], labels[batch_indices]\n",
    "        \n",
    "batch_size = 10\n",
    "        \n",
    "for X, y in data_iter(batch_size, features, labels):\n",
    "    print(X,'\\n', y)\n",
    "    break"
   ]
  },
  {
   "cell_type": "markdown",
   "id": "a4ed0760",
   "metadata": {},
   "source": [
    "`lr`：learning rate，学习率"
   ]
  },
  {
   "cell_type": "markdown",
   "id": "734a8923",
   "metadata": {},
   "source": [
    "### 模块函数定义"
   ]
  },
  {
   "cell_type": "code",
   "execution_count": 4,
   "id": "566379f4",
   "metadata": {
    "ExecuteTime": {
     "end_time": "2021-11-09T11:52:50.852675Z",
     "start_time": "2021-11-09T11:52:50.839805Z"
    }
   },
   "outputs": [],
   "source": [
    "w = torch.normal(0, 0.01, size = (2, 1), requires_grad = True)\n",
    "b = torch.zeros(1, requires_grad = True)\n",
    "\n",
    "def linreg(X, w, b):\n",
    "    '''线性回归模型'''\n",
    "    return torch.matmul(X, w) + b\n",
    "    # 返回的是y\n",
    "\n",
    "def squared_loss(y_hat, y):\n",
    "    '''均方误差。'''\n",
    "    return (y_hat - y.reshape(y_hat.shape)) ** 2 / 2\n",
    "\n",
    "def sgd(params, lr, batch_size):\n",
    "    '''SGD小批量随机梯度下降'''\n",
    "    with torch.no_grad():\n",
    "        '''更新的时候不需要参与梯度计算'''\n",
    "        for param in params:\n",
    "            param -= lr * param.grad / batch_size # 除掉了mse中没有除的样本量\n",
    "            # 梯度下降，注意这里用的是-=\n",
    "            param.grad.zero_()"
   ]
  },
  {
   "cell_type": "markdown",
   "id": "11bc78b0",
   "metadata": {},
   "source": [
    "### 训练过程\n",
    "* 注意这里的命名和循环可以很方便的换成其他损失和模型以及参数\n",
    "* `with torch.no_grad():`反正不需要计算梯度就套上就行了，目前用到这个的地方：\n",
    "    1. SGD更新参数时，不需要计算梯度\n",
    "    2. 每一个epoch中评价进度时，不需要计算梯度"
   ]
  },
  {
   "cell_type": "code",
   "execution_count": 5,
   "id": "8b077b88",
   "metadata": {
    "ExecuteTime": {
     "end_time": "2021-11-09T11:52:50.963228Z",
     "start_time": "2021-11-09T11:52:50.854831Z"
    }
   },
   "outputs": [
    {
     "name": "stdout",
     "output_type": "stream",
     "text": [
      "epoch1, loss 0.041800\n",
      "epoch2, loss 0.000168\n",
      "epoch3, loss 0.000051\n"
     ]
    }
   ],
   "source": [
    "lr = 0.03\n",
    "num_epochs = 3\n",
    "net = linreg\n",
    "loss = squared_loss\n",
    "\n",
    "for epoch in range(num_epochs):\n",
    "    for X, y in data_iter(batch_size, features, labels):\n",
    "        l = loss(net(X, w, b), y)\n",
    "        l.sum().backward()\n",
    "        sgd([w, b], lr, batch_size) # 注意sgd定义中params要是一个可迭代格式\n",
    "        \n",
    "    with torch.no_grad():\n",
    "        '''这一段是为了评价进度而产生的，不需要计算梯度'''\n",
    "        train_l = loss(net(features, w, b), labels)\n",
    "        print(f'epoch{epoch + 1}, loss{float(train_l.mean()): f}')\n",
    "        # 注意这里loss要算平均才是mse"
   ]
  },
  {
   "cell_type": "code",
   "execution_count": 6,
   "id": "be3725b4",
   "metadata": {
    "ExecuteTime": {
     "end_time": "2021-11-09T11:52:50.978230Z",
     "start_time": "2021-11-09T11:52:50.964590Z"
    }
   },
   "outputs": [
    {
     "name": "stdout",
     "output_type": "stream",
     "text": [
      "w的估计误差：tensor([ 0.0004, -0.0009], grad_fn=<SubBackward0>)\n",
      "b的估计误差：tensor([-0.0003], grad_fn=<RsubBackward1>)\n"
     ]
    }
   ],
   "source": [
    "print(f'w的估计误差：{true_w - w.reshape(true_w.shape)}')\n",
    "print(f'b的估计误差：{true_b - b}')"
   ]
  },
  {
   "cell_type": "markdown",
   "id": "fc5d9151",
   "metadata": {},
   "source": [
    "## 线性回归的简洁实现"
   ]
  },
  {
   "cell_type": "code",
   "execution_count": 7,
   "id": "91e980e1",
   "metadata": {
    "ExecuteTime": {
     "end_time": "2021-11-09T11:52:50.993866Z",
     "start_time": "2021-11-09T11:52:50.980178Z"
    }
   },
   "outputs": [],
   "source": [
    "import numpy as np\n",
    "import torch\n",
    "from torch.utils import data\n",
    "from d2l import torch as d2l\n",
    "\n",
    "true_w = torch.tensor([2, -3.4])\n",
    "true_b = 4.2\n",
    "features, labels = d2l.synthetic_data(true_w, true_b, 1000)"
   ]
  },
  {
   "cell_type": "markdown",
   "id": "569e0698",
   "metadata": {},
   "source": [
    "### 调用框架中现有的API来读取数据 \n",
    "\n",
    "* 用到的几个函数\n",
    "    1. `data.TensorDataset`\n",
    "    \n",
    "        TensorDataset 可以用来对 tensor 进行打包，就好像 python 中的 zip 功能。该类通过每一个 tensor 的第一个维度进行索引。因此，该类中的 tensor 第一维度必须相等. 另外：TensorDataset 中的参数必须是 tensor\n",
    "        <font color = 'red'>这里的*是干嘛的？拆包用的</font>\n",
    "    2. ` data.DataLoader`\n",
    "\n",
    "        DataLoader就是用来包装所使用的数据，每次抛出一批数据\n",
    "    3. `iter()`\n",
    "        \n",
    "        生成迭代器\n",
    "        \n",
    "    4. `next()`\n",
    "    \n",
    "        返回迭代器的下一个项目"
   ]
  },
  {
   "cell_type": "code",
   "execution_count": 8,
   "id": "eda4c569",
   "metadata": {
    "ExecuteTime": {
     "end_time": "2021-11-09T11:52:51.024608Z",
     "start_time": "2021-11-09T11:52:50.995838Z"
    }
   },
   "outputs": [
    {
     "data": {
      "text/plain": [
       "[tensor([[ 0.3526,  1.1243],\n",
       "         [-0.9416, -1.5088],\n",
       "         [ 0.3616,  0.8638],\n",
       "         [ 1.1875,  0.5163],\n",
       "         [ 1.6209, -0.4453],\n",
       "         [-0.3346,  1.1185],\n",
       "         [-0.8627,  0.9701],\n",
       "         [ 0.0803,  1.1578],\n",
       "         [ 0.9688, -0.8040],\n",
       "         [ 1.5203, -0.2188]]),\n",
       " tensor([[ 1.0763],\n",
       "         [ 7.4515],\n",
       "         [ 1.9845],\n",
       "         [ 4.8087],\n",
       "         [ 8.9537],\n",
       "         [-0.2742],\n",
       "         [-0.8331],\n",
       "         [ 0.4518],\n",
       "         [ 8.8790],\n",
       "         [ 7.9763]])]"
      ]
     },
     "execution_count": 8,
     "metadata": {},
     "output_type": "execute_result"
    }
   ],
   "source": [
    "def load_array(data_arrays, batch_size, is_train = True):\n",
    "    '''构建一个PyTorch数据迭代器\n",
    "        打包+输出一批\n",
    "    '''\n",
    "    dataset = data.TensorDataset(*data_arrays)\n",
    "    '''\n",
    "        data = data.TensorDataset\n",
    "        dataset是对features和labels经过打包的量\n",
    "            是一个迭代器，每次输出一组\n",
    "    '''\n",
    "    return data.DataLoader(dataset, batch_size, shuffle = is_train)\n",
    "    '''\n",
    "        data.DataLoader输入一个迭代器同时也输出一个迭代器\n",
    "            可以进行随机分批和打乱\n",
    "            从数据库中每次抽出batch size个样本\n",
    "    '''\n",
    "\n",
    "batch_size = 10\n",
    "data_iter = load_array((features, labels), batch_size)\n",
    "\n",
    "next(iter(data_iter))"
   ]
  },
  {
   "cell_type": "markdown",
   "id": "f019c8e5",
   "metadata": {},
   "source": [
    "### 使用框架的预定义好的层\n",
    "* `nn.Linear(2, 1)`线性层，全连接层，需要输入的维度和输出的维度。线性回归就是一个简单的单层神经网络\n",
    "* `Sequential()`可以理解为层的列表。Sequential类为串联在⼀起的多个层定义了⼀个容器。当给定输⼊数据，Sequential实例将数据传⼊到第⼀层，然后将第⼀层的输出作为第⼆层的输⼊，依此类推。"
   ]
  },
  {
   "cell_type": "code",
   "execution_count": 10,
   "id": "d09ad146",
   "metadata": {
    "ExecuteTime": {
     "end_time": "2021-11-09T11:56:12.324923Z",
     "start_time": "2021-11-09T11:56:12.309731Z"
    }
   },
   "outputs": [],
   "source": [
    "from torch import nn\n",
    "\n",
    "net = nn.Sequential(nn.Linear(2, 1))"
   ]
  },
  {
   "cell_type": "markdown",
   "id": "553843c5",
   "metadata": {},
   "source": [
    "### 初始化模型参数\n",
    "* `net[0]`就是网络中的第一层，这里是线性层\n",
    "* `net[0].weight`返回第一层线性层中的权重——torch.nn.parameter.Parameter\n",
    "* `net[0].weight.data`将上面的权重输出成torch.Tensor\n",
    "* `net[0].weight.data.normal_(0, 0.01)`用正态分布产生的随机数来代替参数weight\n",
    "\n",
    "注意：normal_和fill_都是重写参数值"
   ]
  },
  {
   "cell_type": "code",
   "execution_count": 11,
   "id": "92947802",
   "metadata": {
    "ExecuteTime": {
     "end_time": "2021-11-09T11:56:57.791249Z",
     "start_time": "2021-11-09T11:56:57.771546Z"
    }
   },
   "outputs": [
    {
     "data": {
      "text/plain": [
       "tensor([0.])"
      ]
     },
     "execution_count": 11,
     "metadata": {},
     "output_type": "execute_result"
    }
   ],
   "source": [
    "net[0].weight.data.normal_(0, 0.01)\n",
    "net[0].bias.data.fill_(0)"
   ]
  },
  {
   "cell_type": "markdown",
   "id": "10d2889a",
   "metadata": {},
   "source": [
    "### 计算均方误差使用`MSELoss`类，也称为平方$L_2$范数"
   ]
  },
  {
   "cell_type": "code",
   "execution_count": 99,
   "id": "c150f088",
   "metadata": {
    "ExecuteTime": {
     "end_time": "2021-11-09T12:11:40.487608Z",
     "start_time": "2021-11-09T12:11:40.474213Z"
    }
   },
   "outputs": [],
   "source": [
    "loss = nn.MSELoss()"
   ]
  },
  {
   "cell_type": "markdown",
   "id": "989a8976",
   "metadata": {},
   "source": [
    "### 实例化`SGD`实例\n",
    "* 传入至少：\n",
    "    1. net参数\n",
    "    2. 学习率"
   ]
  },
  {
   "cell_type": "code",
   "execution_count": 100,
   "id": "e3143a38",
   "metadata": {
    "ExecuteTime": {
     "end_time": "2021-11-09T12:12:35.935329Z",
     "start_time": "2021-11-09T12:12:35.928405Z"
    }
   },
   "outputs": [],
   "source": [
    "trainer = torch.optim.SGD(net.parameters(), lr=0.03)"
   ]
  },
  {
   "cell_type": "markdown",
   "id": "0c558c69",
   "metadata": {},
   "source": [
    "### 训练过程相似\n",
    "`trainer.step()`进行模型更新"
   ]
  },
  {
   "cell_type": "code",
   "execution_count": 103,
   "id": "4524ef6b",
   "metadata": {
    "ExecuteTime": {
     "end_time": "2021-11-09T12:19:04.954628Z",
     "start_time": "2021-11-09T12:19:04.822596Z"
    }
   },
   "outputs": [
    {
     "name": "stdout",
     "output_type": "stream",
     "text": [
      "epoch 1, loss 0.000255\n",
      "epoch 2, loss 0.000103\n",
      "epoch 3, loss 0.000103\n"
     ]
    }
   ],
   "source": [
    "num_epochs = 3\n",
    "for epoch in range(num_epochs):\n",
    "    for X, y in data_iter:\n",
    "        l = loss(net(X), y) # 注意这里net(X)的写法,net自己带了模型参数\n",
    "        trainer.zero_grad() # 注意这里是trainer梯度清零，代替参数清零\n",
    "        l.backward()\n",
    "        trainer.step() # trainer.step()进行模型更新\n",
    "    l = loss(net(features), labels)\n",
    "    print(f'epoch {epoch + 1}, loss {l:f}')"
   ]
  },
  {
   "cell_type": "code",
   "execution_count": null,
   "id": "1b8161ab",
   "metadata": {},
   "outputs": [],
   "source": []
  },
  {
   "cell_type": "code",
   "execution_count": null,
   "id": "5c8bcad8",
   "metadata": {},
   "outputs": [],
   "source": []
  },
  {
   "cell_type": "code",
   "execution_count": null,
   "id": "def0281f",
   "metadata": {},
   "outputs": [],
   "source": []
  },
  {
   "cell_type": "code",
   "execution_count": null,
   "id": "a9847ff7",
   "metadata": {},
   "outputs": [],
   "source": []
  },
  {
   "cell_type": "code",
   "execution_count": null,
   "id": "2c65212b",
   "metadata": {},
   "outputs": [],
   "source": []
  },
  {
   "cell_type": "code",
   "execution_count": null,
   "id": "7a29cf76",
   "metadata": {},
   "outputs": [],
   "source": []
  },
  {
   "cell_type": "code",
   "execution_count": null,
   "id": "eead50c3",
   "metadata": {},
   "outputs": [],
   "source": []
  },
  {
   "cell_type": "code",
   "execution_count": null,
   "id": "699fbc50",
   "metadata": {},
   "outputs": [],
   "source": []
  },
  {
   "cell_type": "code",
   "execution_count": null,
   "id": "f3e80357",
   "metadata": {},
   "outputs": [],
   "source": []
  },
  {
   "cell_type": "code",
   "execution_count": null,
   "id": "70013603",
   "metadata": {},
   "outputs": [],
   "source": []
  },
  {
   "cell_type": "code",
   "execution_count": null,
   "id": "2495ced3",
   "metadata": {},
   "outputs": [],
   "source": []
  },
  {
   "cell_type": "code",
   "execution_count": null,
   "id": "95f3299d",
   "metadata": {},
   "outputs": [],
   "source": []
  },
  {
   "cell_type": "code",
   "execution_count": null,
   "id": "ab625b05",
   "metadata": {},
   "outputs": [],
   "source": []
  },
  {
   "cell_type": "code",
   "execution_count": null,
   "id": "e45604ec",
   "metadata": {},
   "outputs": [],
   "source": []
  },
  {
   "cell_type": "code",
   "execution_count": null,
   "id": "297931b8",
   "metadata": {},
   "outputs": [],
   "source": []
  },
  {
   "cell_type": "code",
   "execution_count": null,
   "id": "9a281328",
   "metadata": {},
   "outputs": [],
   "source": []
  },
  {
   "cell_type": "code",
   "execution_count": null,
   "id": "9412d091",
   "metadata": {},
   "outputs": [],
   "source": []
  },
  {
   "cell_type": "code",
   "execution_count": null,
   "id": "74da3724",
   "metadata": {},
   "outputs": [],
   "source": []
  },
  {
   "cell_type": "code",
   "execution_count": null,
   "id": "b84ca41c",
   "metadata": {},
   "outputs": [],
   "source": []
  },
  {
   "cell_type": "code",
   "execution_count": null,
   "id": "ba13be09",
   "metadata": {},
   "outputs": [],
   "source": []
  }
 ],
 "metadata": {
  "kernelspec": {
   "display_name": "Python [conda env:pytorch]",
   "language": "python",
   "name": "conda-env-pytorch-py"
  },
  "language_info": {
   "codemirror_mode": {
    "name": "ipython",
    "version": 3
   },
   "file_extension": ".py",
   "mimetype": "text/x-python",
   "name": "python",
   "nbconvert_exporter": "python",
   "pygments_lexer": "ipython3",
   "version": "3.9.7"
  },
  "toc": {
   "base_numbering": 1,
   "nav_menu": {},
   "number_sections": true,
   "sideBar": true,
   "skip_h1_title": false,
   "title_cell": "Table of Contents",
   "title_sidebar": "Contents",
   "toc_cell": false,
   "toc_position": {
    "height": "calc(100% - 180px)",
    "left": "10px",
    "top": "150px",
    "width": "165px"
   },
   "toc_section_display": true,
   "toc_window_display": false
  },
  "varInspector": {
   "cols": {
    "lenName": 16,
    "lenType": 16,
    "lenVar": 40
   },
   "kernels_config": {
    "python": {
     "delete_cmd_postfix": "",
     "delete_cmd_prefix": "del ",
     "library": "var_list.py",
     "varRefreshCmd": "print(var_dic_list())"
    },
    "r": {
     "delete_cmd_postfix": ") ",
     "delete_cmd_prefix": "rm(",
     "library": "var_list.r",
     "varRefreshCmd": "cat(var_dic_list()) "
    }
   },
   "types_to_exclude": [
    "module",
    "function",
    "builtin_function_or_method",
    "instance",
    "_Feature"
   ],
   "window_display": false
  }
 },
 "nbformat": 4,
 "nbformat_minor": 5
}
