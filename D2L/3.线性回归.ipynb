{
 "cells": [
  {
   "cell_type": "markdown",
   "id": "dcc53d61",
   "metadata": {},
   "source": [
    "学习资料：https://www.bilibili.com/video/BV1PX4y1g7KC?p=3&spm_id_from=pageDriver\n",
    "# 线性回归\n",
    "\n",
    "可以看成单层神经网络\n",
    "\n",
    "## 小批量随机梯度下降\n",
    "\n",
    "随机采样b个样本来近似损失\n",
    "\n",
    "b就是批量大小：batch\n",
    "\n",
    "* 重要超参数：\n",
    "    1. batch\n",
    "    2. 学习率\n",
    "\n",
    "## 线性回归的从零开始实现"
   ]
  },
  {
   "cell_type": "code",
   "execution_count": 1,
   "id": "959532d4",
   "metadata": {
    "ExecuteTime": {
     "end_time": "2021-11-09T01:22:23.333657Z",
     "start_time": "2021-11-09T01:22:15.968768Z"
    }
   },
   "outputs": [],
   "source": [
    "%matplotlib inline\n",
    "import random\n",
    "import torch\n",
    "from d2l import torch as d2l"
   ]
  },
  {
   "cell_type": "markdown",
   "id": "9514293c",
   "metadata": {},
   "source": [
    "### 生成带有噪声的数据集\n",
    "* synthetic_data:合成数据\n",
    "* torch.matmul 矩阵相乘"
   ]
  },
  {
   "cell_type": "code",
   "execution_count": 2,
   "id": "4c42b189",
   "metadata": {
    "ExecuteTime": {
     "end_time": "2021-11-09T01:22:23.647201Z",
     "start_time": "2021-11-09T01:22:23.335767Z"
    }
   },
   "outputs": [
    {
     "name": "stdout",
     "output_type": "stream",
     "text": [
      "features: tensor([-1.6281, -0.7288]) \n",
      "label: tensor([3.4074])\n"
     ]
    },
    {
     "data": {
      "image/png": "[encoded data removed]",
      "text/plain": [
       "<Figure size 432x288 with 1 Axes>"
      ]
     },
     "metadata": {
      "needs_background": "light"
     },
     "output_type": "display_data"
    }
   ],
   "source": [
    "def synthetic_data(w, b, num_examples):\n",
    "    X = torch.normal(0, 1, (num_examples, len(w))) # 标准正态分布，n行特征数列\n",
    "    y = torch.matmul(X, w) + b # matmul 矩阵相乘\n",
    "    y += torch.normal(0, 0.01, y.shape)\n",
    "    return X,y.reshape((-1, 1)) # (-1, 1)的意思是管你多少行，我只要一列\n",
    "                                 # 不转一下可能不区分行列\n",
    "\n",
    "true_w = torch.tensor([2, -3.4])\n",
    "true_b = 4.2\n",
    "features, labels = synthetic_data(true_w, true_b, 1000)\n",
    "\n",
    "print('features:',features[0],'\\nlabel:',labels[0])\n",
    "d2l.plt.scatter(features[:, 1].detach().numpy(), # detach分离梯度\n",
    "               labels.detach().numpy(),1); # # 加个1变得更加细，不知道是不是自动调整散点大小"
   ]
  },
  {
   "cell_type": "markdown",
   "id": "38cb1286",
   "metadata": {},
   "source": [
    "<font color = 'red'>加个1变得更加细，不知道是不是自动调整散点大小</font>"
   ]
  },
  {
   "cell_type": "markdown",
   "id": "51687d65",
   "metadata": {},
   "source": [
    "### 定义一个`data_iter`函数， 该函数接收批量大小、特征矩阵和标签向量作为输入，生成大小为`batch_size`的小批量\n",
    "\n",
    "* <font color = 'red'>注意这里`yield`的用法，迭代器函数用"
   ]
  },
  {
   "cell_type": "code",
   "execution_count": 9,
   "id": "cfd250aa",
   "metadata": {
    "ExecuteTime": {
     "end_time": "2021-11-09T01:23:01.323442Z",
     "start_time": "2021-11-09T01:23:01.300530Z"
    }
   },
   "outputs": [
    {
     "name": "stdout",
     "output_type": "stream",
     "text": [
      "tensor([[-0.2218,  0.7675],\n",
      "        [-0.0719,  1.3527],\n",
      "        [-2.4878,  0.2124],\n",
      "        [-0.7748,  1.5608],\n",
      "        [-0.6944,  0.0721],\n",
      "        [-0.3395,  0.2583],\n",
      "        [ 0.7671, -1.2272],\n",
      "        [-1.3572,  0.8241],\n",
      "        [ 1.1674,  0.2094],\n",
      "        [ 0.1687,  0.3197]]) \n",
      " tensor([[ 1.1598],\n",
      "        [-0.5327],\n",
      "        [-1.5036],\n",
      "        [-2.6534],\n",
      "        [ 2.5520],\n",
      "        [ 2.6435],\n",
      "        [ 9.8775],\n",
      "        [-1.3231],\n",
      "        [ 5.8171],\n",
      "        [ 3.4667]])\n"
     ]
    }
   ],
   "source": [
    "def data_iter(batch_size, features, labels):\n",
    "    num_examples = len(features)\n",
    "    indices = list(range(num_examples)) # 定义一个全体索引\n",
    "    # 这些样本是随机读取的，没有特定的顺序\n",
    "    \n",
    "    random.shuffle(indices) # 打乱列表\n",
    "    for i in range(0, num_examples, batch_size): # range(a,b,c)：用c把a到b平均切开\n",
    "        batch_indices = torch.tensor(\n",
    "            indices[i:min(i + batch_size, num_examples)]) \n",
    "        # 定义一个批量中的索引把原来已经打乱的索引切割成batch_size的大小\n",
    "        # 用min来防止最后一个超出\n",
    "        yield features[batch_indices], labels[batch_indices]\n",
    "        \n",
    "batch_size = 10\n",
    "        \n",
    "for X, y in data_iter(batch_size, features, labels):\n",
    "    print(X,'\\n', y)\n",
    "    break"
   ]
  },
  {
   "cell_type": "markdown",
   "id": "a4ed0760",
   "metadata": {},
   "source": [
    "`lr`：learning rate，学习率"
   ]
  },
  {
   "cell_type": "markdown",
   "id": "734a8923",
   "metadata": {},
   "source": [
    "### 模块函数定义"
   ]
  },
  {
   "cell_type": "code",
   "execution_count": 31,
   "id": "566379f4",
   "metadata": {
    "ExecuteTime": {
     "end_time": "2021-11-09T02:08:52.853503Z",
     "start_time": "2021-11-09T02:08:52.836056Z"
    }
   },
   "outputs": [],
   "source": [
    "w = torch.normal(0, 0.01, size = (2, 1), requires_grad = True)\n",
    "b = torch.zeros(1, requires_grad = True)\n",
    "\n",
    "def linreg(X, w, b):\n",
    "    '''线性回归模型'''\n",
    "    return torch.matmul(X, w) + b\n",
    "    # 返回的是y\n",
    "\n",
    "def squared_loss(y_hat, y):\n",
    "    '''均方误差。'''\n",
    "    return (y_hat - y.reshape(y_hat.shape)) ** 2 / 2\n",
    "\n",
    "def sgd(params, lr, batch_size):\n",
    "    '''SGD小批量随机梯度下降'''\n",
    "    with torch.no_grad():\n",
    "        '''更新的时候不需要参与梯度计算'''\n",
    "        for param in params:\n",
    "            param -= lr * param.grad / batch_size # 除掉了mse中没有除的样本量\n",
    "            # 梯度下降，注意这里用的是-=\n",
    "            param.grad.zero_()"
   ]
  },
  {
   "cell_type": "markdown",
   "id": "11bc78b0",
   "metadata": {},
   "source": [
    "### 训练过程\n",
    "* 注意这里的命名和循环可以很方便的换成其他损失和模型以及参数\n",
    "* `with torch.no_grad():`反正不需要计算梯度就套上就行了，目前用到这个的地方：\n",
    "    1. SGD更新参数时，不需要计算梯度\n",
    "    2. 每一个epoch中评价进度时，不需要计算梯度"
   ]
  },
  {
   "cell_type": "code",
   "execution_count": 32,
   "id": "8b077b88",
   "metadata": {
    "ExecuteTime": {
     "end_time": "2021-11-09T02:08:55.531192Z",
     "start_time": "2021-11-09T02:08:55.440371Z"
    }
   },
   "outputs": [
    {
     "name": "stdout",
     "output_type": "stream",
     "text": [
      "epoch1, loss 0.037776\n",
      "epoch2, loss 0.000140\n",
      "epoch3, loss 0.000054\n",
      "w的估计误差：tensor([ 0.0003, -0.0004], grad_fn=<SubBackward0>)\n",
      "b的估计误差：tensor([0.0010], grad_fn=<RsubBackward1>)\n"
     ]
    }
   ],
   "source": [
    "lr = 0.03\n",
    "num_epochs = 3\n",
    "net = linreg\n",
    "loss = squared_loss\n",
    "\n",
    "for epoch in range(num_epochs):\n",
    "    for X, y in data_iter(batch_size, features, labels):\n",
    "        l = loss(net(X, w, b), y)\n",
    "        l.sum().backward()\n",
    "        sgd([w, b], lr, batch_size) # 注意sgd定义中params要是一个可迭代格式\n",
    "        \n",
    "    with torch.no_grad():\n",
    "        '''这一段是为了评价进度而产生的，不需要计算梯度'''\n",
    "        train_l = loss(net(features, w, b), labels)\n",
    "        print(f'epoch{epoch + 1}, loss{float(train_l.mean()): f}')\n",
    "        # 注意这里loss要算平均才是mse"
   ]
  },
  {
   "cell_type": "code",
   "execution_count": 34,
   "id": "be3725b4",
   "metadata": {
    "ExecuteTime": {
     "end_time": "2021-11-09T02:09:09.913004Z",
     "start_time": "2021-11-09T02:09:09.899067Z"
    }
   },
   "outputs": [
    {
     "name": "stdout",
     "output_type": "stream",
     "text": [
      "w的估计误差：tensor([ 0.0003, -0.0004], grad_fn=<SubBackward0>)\n",
      "b的估计误差：tensor([0.0010], grad_fn=<RsubBackward1>)\n"
     ]
    }
   ],
   "source": [
    "print(f'w的估计误差：{true_w - w.reshape(true_w.shape)}')\n",
    "print(f'b的估计误差：{true_b - b}')"
   ]
  },
  {
   "cell_type": "markdown",
   "id": "fc5d9151",
   "metadata": {},
   "source": [
    "## 线性回归的简洁实现"
   ]
  },
  {
   "cell_type": "code",
   "execution_count": 38,
   "id": "91e980e1",
   "metadata": {
    "ExecuteTime": {
     "end_time": "2021-11-09T02:14:27.173015Z",
     "start_time": "2021-11-09T02:14:27.154354Z"
    }
   },
   "outputs": [],
   "source": [
    "import numpy as np\n",
    "import torch\n",
    "from torch.utils import data\n",
    "from d2l import torch as d2l\n",
    "\n",
    "true_w = torch.tensor([2, -3.4])\n",
    "true_b = 4.2\n",
    "features, labels = d2l.synthetic_data(true_w, true_b, 1000)"
   ]
  },
  {
   "cell_type": "markdown",
   "id": "569e0698",
   "metadata": {},
   "source": [
    "### 调用框架中现有的API来读取数据 \n",
    "\n",
    "* 用到的几个函数\n",
    "    1. `data.TensorDataset`\n",
    "    \n",
    "        TensorDataset 可以用来对 tensor 进行打包，就好像 python 中的 zip 功能。该类通过每一个 tensor 的第一个维度进行索引。因此，该类中的 tensor 第一维度必须相等. 另外：TensorDataset 中的参数必须是 tensor\n",
    "        <font color = 'red'>这里的*是干嘛的？拆包用的</font>\n",
    "    2. ` data.DataLoader`\n",
    "\n",
    "        DataLoader就是用来包装所使用的数据，每次抛出一批数据"
   ]
  },
  {
   "cell_type": "code",
   "execution_count": 124,
   "id": "eda4c569",
   "metadata": {
    "ExecuteTime": {
     "end_time": "2021-11-09T03:01:47.538775Z",
     "start_time": "2021-11-09T03:01:47.515950Z"
    }
   },
   "outputs": [
    {
     "data": {
      "text/plain": [
       "[tensor([[-1.2345, -0.1318],\n",
       "         [-1.2722, -0.1912],\n",
       "         [ 1.0967, -0.6428],\n",
       "         [ 0.3520, -1.2896],\n",
       "         [-0.5526,  0.5265],\n",
       "         [-2.0606,  0.0271],\n",
       "         [ 0.0254,  1.3917],\n",
       "         [-0.3199,  0.4834],\n",
       "         [ 2.1345,  1.1450],\n",
       "         [ 1.4033, -0.5875]]),\n",
       " tensor([[ 2.1658e+00],\n",
       "         [ 2.3026e+00],\n",
       "         [ 8.5776e+00],\n",
       "         [ 9.2997e+00],\n",
       "         [ 1.3060e+00],\n",
       "         [-3.3099e-03],\n",
       "         [-5.0388e-01],\n",
       "         [ 1.8934e+00],\n",
       "         [ 4.5706e+00],\n",
       "         [ 9.0063e+00]])]"
      ]
     },
     "execution_count": 124,
     "metadata": {},
     "output_type": "execute_result"
    }
   ],
   "source": [
    "def load_array(data_arrays, batch_size, is_train = True):\n",
    "    '''构建一个PyTorch数据迭代器\n",
    "        打包+输出一批\n",
    "    '''\n",
    "    dataset = data.TensorDataset(*data_arrays)\n",
    "    '''\n",
    "        data = data.TensorDataset\n",
    "        dataset是对features和labels经过打包的量\n",
    "            是一个迭代器，每次输出一组\n",
    "    '''\n",
    "    return data.DataLoader(dataset, batch_size, shuffle = is_train)\n",
    "    '''\n",
    "        data.DataLoader输入一个迭代器同时也输出一个迭代器\n",
    "            可以进行随机分批和打乱\n",
    "            从数据库中每次抽出batch size个样本\n",
    "    '''\n",
    "\n",
    "batch_size = 10\n",
    "data_iter = load_array((features, labels), batch_size)\n",
    "\n",
    "next(iter(data_iter))"
   ]
  },
  {
   "cell_type": "code",
   "execution_count": 128,
   "id": "a6c38d35",
   "metadata": {
    "ExecuteTime": {
     "end_time": "2021-11-09T03:03:31.166804Z",
     "start_time": "2021-11-09T03:03:31.137844Z"
    }
   },
   "outputs": [
    {
     "ename": "TypeError",
     "evalue": "type() takes 1 or 3 arguments",
     "output_type": "error",
     "traceback": [
      "\u001b[1;31m---------------------------------------------------------------------------\u001b[0m",
      "\u001b[1;31mTypeError\u001b[0m                                 Traceback (most recent call last)",
      "\u001b[1;32mC:\\WINDOWS\\TEMP/ipykernel_2520/4175746320.py\u001b[0m in \u001b[0;36m<module>\u001b[1;34m\u001b[0m\n\u001b[1;32m----> 1\u001b[1;33m \u001b[0mtype\u001b[0m\u001b[1;33m(\u001b[0m\u001b[1;33m*\u001b[0m\u001b[1;33m(\u001b[0m\u001b[0mfeatures\u001b[0m\u001b[1;33m,\u001b[0m \u001b[0mlabels\u001b[0m\u001b[1;33m)\u001b[0m\u001b[1;33m)\u001b[0m\u001b[1;33m\u001b[0m\u001b[1;33m\u001b[0m\u001b[0m\n\u001b[0m",
      "\u001b[1;31mTypeError\u001b[0m: type() takes 1 or 3 arguments"
     ]
    }
   ],
   "source": [
    "type(*(features, labels))"
   ]
  },
  {
   "cell_type": "code",
   "execution_count": null,
   "id": "dae39d95",
   "metadata": {},
   "outputs": [],
   "source": []
  },
  {
   "cell_type": "code",
   "execution_count": 137,
   "id": "43da87fd",
   "metadata": {
    "ExecuteTime": {
     "end_time": "2021-11-09T03:08:26.265477Z",
     "start_time": "2021-11-09T03:08:26.248306Z"
    }
   },
   "outputs": [
    {
     "data": {
      "text/plain": [
       "[1, 2, 3]"
      ]
     },
     "execution_count": 137,
     "metadata": {},
     "output_type": "execute_result"
    }
   ],
   "source": [
    "(([1,2,3]))"
   ]
  },
  {
   "cell_type": "code",
   "execution_count": null,
   "id": "9e8d2dc1",
   "metadata": {},
   "outputs": [],
   "source": []
  },
  {
   "cell_type": "code",
   "execution_count": null,
   "id": "8400ff47",
   "metadata": {},
   "outputs": [],
   "source": []
  },
  {
   "cell_type": "code",
   "execution_count": null,
   "id": "0f322a20",
   "metadata": {},
   "outputs": [],
   "source": []
  },
  {
   "cell_type": "code",
   "execution_count": null,
   "id": "8ac58358",
   "metadata": {},
   "outputs": [],
   "source": []
  },
  {
   "cell_type": "code",
   "execution_count": null,
   "id": "c150f088",
   "metadata": {},
   "outputs": [],
   "source": []
  },
  {
   "cell_type": "code",
   "execution_count": null,
   "id": "3dddd014",
   "metadata": {},
   "outputs": [],
   "source": []
  },
  {
   "cell_type": "code",
   "execution_count": null,
   "id": "70aa8b55",
   "metadata": {},
   "outputs": [],
   "source": []
  },
  {
   "cell_type": "code",
   "execution_count": null,
   "id": "3e87493f",
   "metadata": {},
   "outputs": [],
   "source": []
  },
  {
   "cell_type": "code",
   "execution_count": null,
   "id": "9a281328",
   "metadata": {},
   "outputs": [],
   "source": []
  },
  {
   "cell_type": "code",
   "execution_count": null,
   "id": "9412d091",
   "metadata": {},
   "outputs": [],
   "source": []
  },
  {
   "cell_type": "code",
   "execution_count": null,
   "id": "74da3724",
   "metadata": {},
   "outputs": [],
   "source": []
  },
  {
   "cell_type": "code",
   "execution_count": null,
   "id": "b84ca41c",
   "metadata": {},
   "outputs": [],
   "source": []
  },
  {
   "cell_type": "code",
   "execution_count": null,
   "id": "ba13be09",
   "metadata": {},
   "outputs": [],
   "source": []
  }
 ],
 "metadata": {
  "kernelspec": {
   "display_name": "Python [conda env:pytorch]",
   "language": "python",
   "name": "conda-env-pytorch-py"
  },
  "language_info": {
   "codemirror_mode": {
    "name": "ipython",
    "version": 3
   },
   "file_extension": ".py",
   "mimetype": "text/x-python",
   "name": "python",
   "nbconvert_exporter": "python",
   "pygments_lexer": "ipython3",
   "version": "3.9.7"
  },
  "toc": {
   "base_numbering": 1,
   "nav_menu": {},
   "number_sections": true,
   "sideBar": true,
   "skip_h1_title": false,
   "title_cell": "Table of Contents",
   "title_sidebar": "Contents",
   "toc_cell": false,
   "toc_position": {
    "height": "calc(100% - 180px)",
    "left": "10px",
    "top": "150px",
    "width": "150.238px"
   },
   "toc_section_display": true,
   "toc_window_display": false
  },
  "varInspector": {
   "cols": {
    "lenName": 16,
    "lenType": 16,
    "lenVar": 40
   },
   "kernels_config": {
    "python": {
     "delete_cmd_postfix": "",
     "delete_cmd_prefix": "del ",
     "library": "var_list.py",
     "varRefreshCmd": "print(var_dic_list())"
    },
    "r": {
     "delete_cmd_postfix": ") ",
     "delete_cmd_prefix": "rm(",
     "library": "var_list.r",
     "varRefreshCmd": "cat(var_dic_list()) "
    }
   },
   "types_to_exclude": [
    "module",
    "function",
    "builtin_function_or_method",
    "instance",
    "_Feature"
   ],
   "window_display": false
  }
 },
 "nbformat": 4,
 "nbformat_minor": 5
}
