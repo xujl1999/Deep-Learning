{
 "cells": [
  {
   "cell_type": "markdown",
   "id": "0545b48e",
   "metadata": {},
   "source": [
    "学习资料来源：https://github.com/zergtant/pytorch-handbook/blob/master/chapter1/1.3-deep-learning-with-pytorch-60-minute-blitz.md\n",
    "# 官方60min快速入门"
   ]
  },
  {
   "cell_type": "code",
   "execution_count": 1,
   "id": "75ae7ee6",
   "metadata": {},
   "outputs": [],
   "source": [
    "import pandas as pd\n",
    "import matplotlib.pyplot as plt\n",
    "import torch\n",
    "import numpy as np\n",
    "%matplotlib inline\n",
    "#可以直接在控制台显示图片\n",
    "from __future__ import print_function # print函数需要按照python3的版本使用，没啥用对python3"
   ]
  },
  {
   "cell_type": "markdown",
   "id": "bc916784",
   "metadata": {},
   "source": [
    "## 张量"
   ]
  },
  {
   "cell_type": "markdown",
   "id": "be37d281",
   "metadata": {},
   "source": [
    "### 基本语法\n",
    "* empty, ones, zeros  和numpy语法基本一致，torch不用必须加括号\n",
    "* 随机不同\n",
    "* torch.tensor\n",
    "* x.new_ones(size)用现有张量创建新张量，继承例如dtype的属性（也可以覆盖）\n",
    "* 注意随机是torch.randn_like(x,dtype)——size相同\n",
    "* 张量的size就是numpy的shape，返回tuple类型"
   ]
  },
  {
   "cell_type": "code",
   "execution_count": 2,
   "id": "898c5982",
   "metadata": {},
   "outputs": [
    {
     "data": {
      "text/plain": [
       "tensor([[1.0469e-38, 9.5510e-39, 9.9184e-39],\n",
       "        [9.0000e-39, 1.0561e-38, 1.0653e-38],\n",
       "        [4.1327e-39, 8.9082e-39, 9.8265e-39],\n",
       "        [9.4592e-39, 1.0561e-38, 1.0653e-38],\n",
       "        [1.0469e-38, 9.5510e-39, 9.1837e-39]])"
      ]
     },
     "execution_count": 2,
     "metadata": {},
     "output_type": "execute_result"
    }
   ],
   "source": [
    "x = torch.empty(5,3)\n",
    "x"
   ]
  },
  {
   "cell_type": "markdown",
   "id": "c4325c06",
   "metadata": {},
   "source": [
    "注意随机与np不同"
   ]
  },
  {
   "cell_type": "code",
   "execution_count": 3,
   "id": "eec69e3a",
   "metadata": {},
   "outputs": [
    {
     "data": {
      "text/plain": [
       "tensor([[0.2861, 0.8917, 0.3630, 0.1047],\n",
       "        [0.1889, 0.2984, 0.1409, 0.8876],\n",
       "        [0.1417, 0.4626, 0.9176, 0.1862],\n",
       "        [0.9000, 0.4032, 0.3705, 0.8353],\n",
       "        [0.1700, 0.7296, 0.3803, 0.0990]])"
      ]
     },
     "execution_count": 3,
     "metadata": {},
     "output_type": "execute_result"
    }
   ],
   "source": [
    "np.random.rand(5,4)\n",
    "torch.rand(5,4) "
   ]
  },
  {
   "cell_type": "code",
   "execution_count": 4,
   "id": "d2c8456a",
   "metadata": {},
   "outputs": [
    {
     "data": {
      "text/plain": [
       "tensor([5.5000, 3.0000])"
      ]
     },
     "execution_count": 4,
     "metadata": {},
     "output_type": "execute_result"
    }
   ],
   "source": [
    "x = torch.tensor([5.5, 3],dtype = torch.float)\n",
    "x"
   ]
  },
  {
   "cell_type": "code",
   "execution_count": 5,
   "id": "54f033ef",
   "metadata": {},
   "outputs": [
    {
     "data": {
      "text/plain": [
       "tensor([[0.4323, 0.5923, 0.7584],\n",
       "        [0.2247, 0.2045, 0.4728],\n",
       "        [0.6458, 0.5354, 0.4490],\n",
       "        [0.2464, 0.8956, 0.7601],\n",
       "        [0.5569, 0.0867, 0.9463]])"
      ]
     },
     "execution_count": 5,
     "metadata": {},
     "output_type": "execute_result"
    }
   ],
   "source": [
    "x = x.new_ones(5,3)\n",
    "x = x.new_zeros(5,3)\n",
    "torch.rand_like(x)"
   ]
  },
  {
   "cell_type": "code",
   "execution_count": 6,
   "id": "9497430a",
   "metadata": {},
   "outputs": [
    {
     "data": {
      "text/plain": [
       "True"
      ]
     },
     "execution_count": 6,
     "metadata": {},
     "output_type": "execute_result"
    }
   ],
   "source": [
    "x.size() == x.shape # 返回tuple类型"
   ]
  },
  {
   "cell_type": "markdown",
   "id": "0ad30a31",
   "metadata": {},
   "source": [
    "### 基本运算\n",
    "* 加法1、2\n",
    "* 替换\n",
    "\n",
    "* add可以提供输出"
   ]
  },
  {
   "cell_type": "code",
   "execution_count": 7,
   "id": "f8331f2a",
   "metadata": {},
   "outputs": [
    {
     "data": {
      "text/plain": [
       "tensor([[0.3753, 0.6172, 0.0844],\n",
       "        [0.6564, 0.9015, 0.6504],\n",
       "        [0.5287, 0.5875, 0.2454],\n",
       "        [0.4572, 0.5764, 0.8263],\n",
       "        [0.2031, 0.9541, 0.7986]])"
      ]
     },
     "execution_count": 7,
     "metadata": {},
     "output_type": "execute_result"
    }
   ],
   "source": [
    "y = torch.rand(5,3)\n",
    "x + y"
   ]
  },
  {
   "cell_type": "code",
   "execution_count": 8,
   "id": "20de9b00",
   "metadata": {},
   "outputs": [
    {
     "data": {
      "text/plain": [
       "tensor([[True, True, True],\n",
       "        [True, True, True],\n",
       "        [True, True, True],\n",
       "        [True, True, True],\n",
       "        [True, True, True]])"
      ]
     },
     "execution_count": 8,
     "metadata": {},
     "output_type": "execute_result"
    }
   ],
   "source": [
    "torch.add(x,y) == x+y"
   ]
  },
  {
   "cell_type": "code",
   "execution_count": 9,
   "id": "40e6cd1b",
   "metadata": {},
   "outputs": [
    {
     "data": {
      "text/plain": [
       "tensor([[0.3753, 0.6172, 0.0844],\n",
       "        [0.6564, 0.9015, 0.6504],\n",
       "        [0.5287, 0.5875, 0.2454],\n",
       "        [0.4572, 0.5764, 0.8263],\n",
       "        [0.2031, 0.9541, 0.7986]])"
      ]
     },
     "execution_count": 9,
     "metadata": {},
     "output_type": "execute_result"
    }
   ],
   "source": [
    "result = torch.empty(5,3)\n",
    "torch.add(x,y,out = result)"
   ]
  },
  {
   "cell_type": "code",
   "execution_count": 10,
   "id": "82ea3a44",
   "metadata": {},
   "outputs": [],
   "source": [
    "x = torch.ones(5,3)"
   ]
  },
  {
   "cell_type": "markdown",
   "id": "f1d8d4ce",
   "metadata": {},
   "source": [
    "<div class = \"alert alert-info\"><h4>Note<p>任何以\"_\"结尾的操作都会用结果替换原变量。"
   ]
  },
  {
   "cell_type": "code",
   "execution_count": 11,
   "id": "4e36e0ea",
   "metadata": {},
   "outputs": [
    {
     "data": {
      "text/plain": [
       "tensor([[1.3753, 1.6172, 1.0844],\n",
       "        [1.6564, 1.9015, 1.6504],\n",
       "        [1.5287, 1.5875, 1.2454],\n",
       "        [1.4572, 1.5764, 1.8263],\n",
       "        [1.2031, 1.9541, 1.7986]])"
      ]
     },
     "execution_count": 11,
     "metadata": {},
     "output_type": "execute_result"
    }
   ],
   "source": [
    "y.add_(x)"
   ]
  },
  {
   "cell_type": "code",
   "execution_count": 12,
   "id": "cf185bca",
   "metadata": {},
   "outputs": [
    {
     "data": {
      "text/plain": [
       "tensor([[1.3753, 1.6172, 1.0844],\n",
       "        [1.6564, 1.9015, 1.6504],\n",
       "        [1.5287, 1.5875, 1.2454],\n",
       "        [1.4572, 1.5764, 1.8263],\n",
       "        [1.2031, 1.9541, 1.7986]])"
      ]
     },
     "execution_count": 12,
     "metadata": {},
     "output_type": "execute_result"
    }
   ],
   "source": [
    "x.copy_(y)"
   ]
  },
  {
   "cell_type": "code",
   "execution_count": 13,
   "id": "4bb137bd",
   "metadata": {},
   "outputs": [
    {
     "data": {
      "text/plain": [
       "tensor([[1.3753, 1.6564, 1.5287, 1.4572, 1.2031],\n",
       "        [1.6172, 1.9015, 1.5875, 1.5764, 1.9541],\n",
       "        [1.0844, 1.6504, 1.2454, 1.8263, 1.7986]])"
      ]
     },
     "execution_count": 13,
     "metadata": {},
     "output_type": "execute_result"
    }
   ],
   "source": [
    "x.t_()"
   ]
  },
  {
   "cell_type": "markdown",
   "id": "48139b0a",
   "metadata": {},
   "source": [
    "### 索引、变形\n",
    "* 索引和numpy差不多\n",
    "* 变形用view（reshape）\n",
    "* 如果你有只有一个元素的张量，使用.item()来得到Python数据类型的数值"
   ]
  },
  {
   "cell_type": "code",
   "execution_count": 14,
   "id": "de666402",
   "metadata": {},
   "outputs": [
    {
     "data": {
      "text/plain": [
       "tensor([1.4572, 1.5764, 1.8263])"
      ]
     },
     "execution_count": 14,
     "metadata": {},
     "output_type": "execute_result"
    }
   ],
   "source": [
    "x[:,3]"
   ]
  },
  {
   "cell_type": "code",
   "execution_count": 24,
   "id": "7710e7d5",
   "metadata": {},
   "outputs": [
    {
     "data": {
      "text/plain": [
       "torch.Size([3, 5])"
      ]
     },
     "execution_count": 24,
     "metadata": {},
     "output_type": "execute_result"
    }
   ],
   "source": [
    "x.size()"
   ]
  },
  {
   "cell_type": "code",
   "execution_count": 29,
   "id": "5e4c5f53",
   "metadata": {},
   "outputs": [
    {
     "data": {
      "text/plain": [
       "tensor([[1.3753, 1.6564, 1.5287],\n",
       "        [1.4572, 1.2031, 1.6172],\n",
       "        [1.9015, 1.5875, 1.5764],\n",
       "        [1.9541, 1.0844, 1.6504],\n",
       "        [1.2454, 1.8263, 1.7986]])"
      ]
     },
     "execution_count": 29,
     "metadata": {},
     "output_type": "execute_result"
    }
   ],
   "source": [
    "x.contiguous().view(5,3)\n",
    "# 搞不懂为啥这里不加.contiguous()就会报错"
   ]
  },
  {
   "cell_type": "code",
   "execution_count": 15,
   "id": "079488fa",
   "metadata": {},
   "outputs": [
    {
     "data": {
      "text/plain": [
       "tensor([1.3753, 1.6564, 1.5287, 1.4572, 1.2031, 1.6172, 1.9015, 1.5875, 1.5764,\n",
       "        1.9541, 1.0844, 1.6504, 1.2454, 1.8263, 1.7986])"
      ]
     },
     "execution_count": 15,
     "metadata": {},
     "output_type": "execute_result"
    }
   ],
   "source": [
    "x.reshape(15)"
   ]
  },
  {
   "cell_type": "code",
   "execution_count": 32,
   "id": "21aa6ba2",
   "metadata": {},
   "outputs": [
    {
     "data": {
      "text/plain": [
       "(torch.Size([4, 4]), torch.Size([16]), torch.Size([2, 8]))"
      ]
     },
     "execution_count": 32,
     "metadata": {},
     "output_type": "execute_result"
    }
   ],
   "source": [
    "x = torch.randn(4,4)\n",
    "y = x.view(16)\n",
    "x.view(16)\n",
    "z = x.view(-1,8)\n",
    "x.size(), y.size(), z.size()"
   ]
  },
  {
   "cell_type": "code",
   "execution_count": 46,
   "id": "1912a7d4",
   "metadata": {},
   "outputs": [
    {
     "name": "stdout",
     "output_type": "stream",
     "text": [
      "tensor([-1.0046])\n",
      "-1.0045537948608398\n"
     ]
    }
   ],
   "source": [
    "x = torch.randn(1)\n",
    "print(x)\n",
    "print(x.item())"
   ]
  },
  {
   "cell_type": "markdown",
   "id": "e6ab374b",
   "metadata": {},
   "source": [
    "### NumPy转换\n",
    "* 两者共享底层内存地址，修改一个会导致另一个的变化。"
   ]
  },
  {
   "cell_type": "markdown",
   "id": "2dc2fda8",
   "metadata": {},
   "source": [
    "Tensor → NumPy"
   ]
  },
  {
   "cell_type": "code",
   "execution_count": 51,
   "id": "12af828c",
   "metadata": {},
   "outputs": [
    {
     "data": {
      "text/plain": [
       "(array([1., 1., 1., 1., 1.], dtype=float32), tensor([1., 1., 1., 1., 1.]))"
      ]
     },
     "execution_count": 51,
     "metadata": {},
     "output_type": "execute_result"
    }
   ],
   "source": [
    "a = torch.ones(5)\n",
    "b = a.numpy()\n",
    "b,a"
   ]
  },
  {
   "cell_type": "code",
   "execution_count": 52,
   "id": "23f7d5f7",
   "metadata": {},
   "outputs": [
    {
     "data": {
      "text/plain": [
       "(tensor([2., 2., 2., 2., 2.]), array([2., 2., 2., 2., 2.], dtype=float32))"
      ]
     },
     "execution_count": 52,
     "metadata": {},
     "output_type": "execute_result"
    }
   ],
   "source": [
    "a.add_(1)\n",
    "a,b"
   ]
  },
  {
   "cell_type": "markdown",
   "id": "6eae9e8a",
   "metadata": {},
   "source": [
    "Numpy → Tensor\n",
    "\n",
    "``torch.from_numpy(array)``"
   ]
  },
  {
   "cell_type": "code",
   "execution_count": 56,
   "id": "dcdc5710",
   "metadata": {},
   "outputs": [
    {
     "data": {
      "text/plain": [
       "(array([1., 1., 1., 1., 1.]),\n",
       " tensor([1., 1., 1., 1., 1.], dtype=torch.float64))"
      ]
     },
     "execution_count": 56,
     "metadata": {},
     "output_type": "execute_result"
    }
   ],
   "source": [
    "a = np.ones(5)\n",
    "b = torch.from_numpy(a)\n",
    "a,b"
   ]
  },
  {
   "cell_type": "code",
   "execution_count": 57,
   "id": "f599a60d",
   "metadata": {},
   "outputs": [
    {
     "data": {
      "text/plain": [
       "(array([2., 2., 2., 2., 2.]),\n",
       " tensor([2., 2., 2., 2., 2.], dtype=torch.float64))"
      ]
     },
     "execution_count": 57,
     "metadata": {},
     "output_type": "execute_result"
    }
   ],
   "source": [
    "np.add(a,1,out = a)\n",
    "a,b"
   ]
  },
  {
   "cell_type": "markdown",
   "id": "de19fb4a",
   "metadata": {},
   "source": [
    "所有的 Tensor 类型默认都是基于CPU， CharTensor 类型不支持到 NumPy 的转换."
   ]
  },
  {
   "cell_type": "markdown",
   "id": "fda2e241",
   "metadata": {},
   "source": [
    "### CUDA张量\n",
    "* ``.to``方法可以将Tensor移动到任何设备中"
   ]
  },
  {
   "cell_type": "code",
   "execution_count": 58,
   "id": "a0a1df08",
   "metadata": {},
   "outputs": [
    {
     "data": {
      "text/plain": [
       "True"
      ]
     },
     "execution_count": 58,
     "metadata": {},
     "output_type": "execute_result"
    }
   ],
   "source": [
    "torch.cuda.is_available()"
   ]
  },
  {
   "cell_type": "code",
   "execution_count": 68,
   "id": "1ec2ab1a",
   "metadata": {},
   "outputs": [
    {
     "data": {
      "text/plain": [
       "device(type='cpu')"
      ]
     },
     "execution_count": 68,
     "metadata": {},
     "output_type": "execute_result"
    }
   ],
   "source": [
    "torch.device('cuda')\n",
    "torch.device('cpu')"
   ]
  },
  {
   "cell_type": "code",
   "execution_count": 87,
   "id": "4eea9880",
   "metadata": {},
   "outputs": [
    {
     "data": {
      "text/plain": [
       "tensor([-0.0046], device='cuda:0')"
      ]
     },
     "execution_count": 87,
     "metadata": {},
     "output_type": "execute_result"
    }
   ],
   "source": [
    "# if torch.cuda.is_available():\n",
    "device = torch.device('cuda')\n",
    "y_1 = torch.ones_like(x, device = device)\n",
    "x_1 = x.to(device)\n",
    "z_1 = x_1 + y_1\n",
    "z_1"
   ]
  },
  {
   "cell_type": "code",
   "execution_count": 88,
   "id": "a30731c8",
   "metadata": {},
   "outputs": [
    {
     "data": {
      "text/plain": [
       "tensor([0.9954], device='cuda:0')"
      ]
     },
     "execution_count": 88,
     "metadata": {},
     "output_type": "execute_result"
    }
   ],
   "source": [
    "y_1 + z_1"
   ]
  },
  {
   "cell_type": "code",
   "execution_count": 89,
   "id": "5c106d3c",
   "metadata": {
    "scrolled": true
   },
   "outputs": [
    {
     "data": {
      "text/plain": [
       "tensor([-0.0046])"
      ]
     },
     "execution_count": 89,
     "metadata": {},
     "output_type": "execute_result"
    }
   ],
   "source": [
    "z_1 = z_1.to('cpu')\n",
    "z_1"
   ]
  },
  {
   "cell_type": "code",
   "execution_count": 90,
   "id": "3663a1c0",
   "metadata": {},
   "outputs": [
    {
     "data": {
      "text/plain": [
       "tensor([-0.0046])"
      ]
     },
     "execution_count": 90,
     "metadata": {},
     "output_type": "execute_result"
    }
   ],
   "source": [
    "z_1.to(\"cpu\")"
   ]
  },
  {
   "cell_type": "code",
   "execution_count": 92,
   "id": "36907c9f",
   "metadata": {},
   "outputs": [
    {
     "data": {
      "text/plain": [
       "'\\nExpected all tensors to be on the same device, but found at least two devices, cuda:0 and cpu!\\n'"
      ]
     },
     "execution_count": 92,
     "metadata": {},
     "output_type": "execute_result"
    }
   ],
   "source": [
    "# y_1 + z_1\n",
    "'''\n",
    "Expected all tensors to be on the same device, but found at least two devices, cuda:0 and cpu!\n",
    "'''"
   ]
  },
  {
   "cell_type": "code",
   "execution_count": 94,
   "id": "14962560",
   "metadata": {},
   "outputs": [
    {
     "data": {
      "text/plain": [
       "(tensor([True], device='cuda:0'), tensor([True], device='cuda:0'))"
      ]
     },
     "execution_count": 94,
     "metadata": {},
     "output_type": "execute_result"
    }
   ],
   "source": [
    "y_2 = torch.ones_like(x, device = 'cuda')\n",
    "x_2 = x.to(\"cuda\")\n",
    "z_2 = y_2 + x_2\n",
    "\n",
    "x_1 == x_2, y_1 == y_2"
   ]
  },
  {
   "cell_type": "code",
   "execution_count": 96,
   "id": "1d43a1b4",
   "metadata": {},
   "outputs": [
    {
     "data": {
      "text/plain": [
       "'\\nExpected all tensors to be on the same device, but found at least two devices, cuda:0 and cpu!\\n'"
      ]
     },
     "execution_count": 96,
     "metadata": {},
     "output_type": "execute_result"
    }
   ],
   "source": [
    "#  z_1 == z_2\n",
    "'''\n",
    "Expected all tensors to be on the same device, but found at least two devices, cuda:0 and cpu!\n",
    "'''"
   ]
  },
  {
   "cell_type": "markdown",
   "id": "733888b1",
   "metadata": {},
   "source": [
    "### 更多\n",
    "100+ Tensor operations, including transposing, indexing, slicing, mathematical operations, linear algebra, random numbers, etc., are described here <https://pytorch.org/docs/torch>_."
   ]
  }
 ],
 "metadata": {
  "kernelspec": {
   "display_name": "Python [conda env:pytorch]",
   "language": "python",
   "name": "conda-env-pytorch-py"
  },
  "language_info": {
   "codemirror_mode": {
    "name": "ipython",
    "version": 3
   },
   "file_extension": ".py",
   "mimetype": "text/x-python",
   "name": "python",
   "nbconvert_exporter": "python",
   "pygments_lexer": "ipython3",
   "version": "3.9.7"
  },
  "toc": {
   "base_numbering": 1,
   "nav_menu": {},
   "number_sections": true,
   "sideBar": true,
   "skip_h1_title": false,
   "title_cell": "Table of Contents",
   "title_sidebar": "Contents",
   "toc_cell": false,
   "toc_position": {},
   "toc_section_display": true,
   "toc_window_display": false
  },
  "varInspector": {
   "cols": {
    "lenName": 16,
    "lenType": 16,
    "lenVar": 40
   },
   "kernels_config": {
    "python": {
     "delete_cmd_postfix": "",
     "delete_cmd_prefix": "del ",
     "library": "var_list.py",
     "varRefreshCmd": "print(var_dic_list())"
    },
    "r": {
     "delete_cmd_postfix": ") ",
     "delete_cmd_prefix": "rm(",
     "library": "var_list.r",
     "varRefreshCmd": "cat(var_dic_list()) "
    }
   },
   "types_to_exclude": [
    "module",
    "function",
    "builtin_function_or_method",
    "instance",
    "_Feature"
   ],
   "window_display": false
  }
 },
 "nbformat": 4,
 "nbformat_minor": 5
}
