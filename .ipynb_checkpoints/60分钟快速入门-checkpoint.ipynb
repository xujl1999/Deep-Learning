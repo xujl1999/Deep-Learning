{
 "cells": [
  {
   "cell_type": "markdown",
   "id": "a0679982",
   "metadata": {},
   "source": [
    "学习资料来源：https://github.com/zergtant/pytorch-handbook/blob/master/chapter1/1.3-deep-learning-with-pytorch-60-minute-blitz.md\n",
    "# 官方60min快速入门"
   ]
  },
  {
   "cell_type": "code",
   "execution_count": 1,
   "id": "f300a5c5",
   "metadata": {},
   "outputs": [],
   "source": [
    "import pandas as pd\n",
    "import matplotlib.pyplot as plt\n",
    "import torch\n",
    "import numpy as np\n",
    "%matplotlib inline\n",
    "#可以直接在控制台显示图片\n",
    "from __future__ import print_function # print函数需要按照python3的版本使用，没啥用对python3"
   ]
  },
  {
   "cell_type": "markdown",
   "id": "7e62bc61",
   "metadata": {},
   "source": [
    "## 张量"
   ]
  },
  {
   "cell_type": "markdown",
   "id": "21270775",
   "metadata": {},
   "source": [
    "### 基本语法\n",
    "* empty, ones, zeros  和numpy语法基本一致，torch不用必须加括号\n",
    "* 随机不同\n",
    "* torch.tensor\n",
    "* x.new_ones(size)用现有张量创建新张量，继承例如dtype的属性（也可以覆盖）\n",
    "* 注意随机是torch.randn_like(x,dtype)——size相同\n",
    "* 张量的size就是numpy的shape，返回tuple类型"
   ]
  },
  {
   "cell_type": "code",
   "execution_count": 2,
   "id": "d623a397",
   "metadata": {},
   "outputs": [
    {
     "data": {
      "text/plain": [
       "tensor([[1.1708e-19, 7.2128e+22, 9.2216e+29],\n",
       "        [7.5546e+31, 1.6932e+22, 3.0728e+32],\n",
       "        [2.9514e+29, 2.8940e+12, 7.5338e+28],\n",
       "        [1.8037e+28, 3.4740e-12, 1.7743e+28],\n",
       "        [2.0535e-19, 1.4609e-19, 7.5630e+28]])"
      ]
     },
     "execution_count": 2,
     "metadata": {},
     "output_type": "execute_result"
    }
   ],
   "source": [
    "x = torch.empty(5,3)\n",
    "x"
   ]
  },
  {
   "cell_type": "markdown",
   "id": "0dd351a2",
   "metadata": {},
   "source": [
    "注意随机与np不同"
   ]
  },
  {
   "cell_type": "code",
   "execution_count": 3,
   "id": "212ac782",
   "metadata": {},
   "outputs": [
    {
     "data": {
      "text/plain": [
       "tensor([[0.1083, 0.7738, 0.4164, 0.4323],\n",
       "        [0.6527, 0.3028, 0.9184, 0.6372],\n",
       "        [0.7753, 0.9411, 0.4715, 0.3372],\n",
       "        [0.7655, 0.6662, 0.5293, 0.1384],\n",
       "        [0.7863, 0.9241, 0.3506, 0.1970]])"
      ]
     },
     "execution_count": 3,
     "metadata": {},
     "output_type": "execute_result"
    }
   ],
   "source": [
    "np.random.rand(5,4)\n",
    "torch.rand(5,4) "
   ]
  },
  {
   "cell_type": "code",
   "execution_count": 4,
   "id": "0359fa25",
   "metadata": {},
   "outputs": [
    {
     "data": {
      "text/plain": [
       "tensor([5.5000, 3.0000])"
      ]
     },
     "execution_count": 4,
     "metadata": {},
     "output_type": "execute_result"
    }
   ],
   "source": [
    "x = torch.tensor([5.5, 3],dtype = torch.float)\n",
    "x"
   ]
  },
  {
   "cell_type": "code",
   "execution_count": 5,
   "id": "7a94ba15",
   "metadata": {},
   "outputs": [
    {
     "data": {
      "text/plain": [
       "tensor([[0.9963, 0.1840, 0.4217],\n",
       "        [0.9977, 0.3394, 0.8645],\n",
       "        [0.0879, 0.4361, 0.9397],\n",
       "        [0.8742, 0.0347, 0.8551],\n",
       "        [0.4751, 0.1461, 0.4133]])"
      ]
     },
     "execution_count": 5,
     "metadata": {},
     "output_type": "execute_result"
    }
   ],
   "source": [
    "x = x.new_ones(5,3)\n",
    "x = x.new_zeros(5,3)\n",
    "torch.rand_like(x)"
   ]
  },
  {
   "cell_type": "code",
   "execution_count": 6,
   "id": "cccb6527",
   "metadata": {},
   "outputs": [
    {
     "data": {
      "text/plain": [
       "True"
      ]
     },
     "execution_count": 6,
     "metadata": {},
     "output_type": "execute_result"
    }
   ],
   "source": [
    "x.size() == x.shape # 返回tuple类型"
   ]
  },
  {
   "cell_type": "markdown",
   "id": "c2b6cd33",
   "metadata": {},
   "source": [
    "### 基本运算\n",
    "* 加法1、2\n",
    "* 替换\n",
    "\n",
    "* add可以提供输出"
   ]
  },
  {
   "cell_type": "code",
   "execution_count": 7,
   "id": "830ac0f4",
   "metadata": {},
   "outputs": [
    {
     "data": {
      "text/plain": [
       "tensor([[0.8789, 0.1793, 0.1661],\n",
       "        [0.4038, 0.2294, 0.3223],\n",
       "        [0.1402, 0.8160, 0.6614],\n",
       "        [0.6570, 0.4837, 0.2277],\n",
       "        [0.2464, 0.0190, 0.0142]])"
      ]
     },
     "execution_count": 7,
     "metadata": {},
     "output_type": "execute_result"
    }
   ],
   "source": [
    "y = torch.rand(5,3)\n",
    "x + y"
   ]
  },
  {
   "cell_type": "code",
   "execution_count": 8,
   "id": "9a878f43",
   "metadata": {},
   "outputs": [
    {
     "data": {
      "text/plain": [
       "tensor([[True, True, True],\n",
       "        [True, True, True],\n",
       "        [True, True, True],\n",
       "        [True, True, True],\n",
       "        [True, True, True]])"
      ]
     },
     "execution_count": 8,
     "metadata": {},
     "output_type": "execute_result"
    }
   ],
   "source": [
    "torch.add(x,y) == x+y"
   ]
  },
  {
   "cell_type": "code",
   "execution_count": 9,
   "id": "9d1f4917",
   "metadata": {},
   "outputs": [
    {
     "data": {
      "text/plain": [
       "tensor([[0.8789, 0.1793, 0.1661],\n",
       "        [0.4038, 0.2294, 0.3223],\n",
       "        [0.1402, 0.8160, 0.6614],\n",
       "        [0.6570, 0.4837, 0.2277],\n",
       "        [0.2464, 0.0190, 0.0142]])"
      ]
     },
     "execution_count": 9,
     "metadata": {},
     "output_type": "execute_result"
    }
   ],
   "source": [
    "result = torch.empty(5,3)\n",
    "torch.add(x,y,out = result)"
   ]
  },
  {
   "cell_type": "code",
   "execution_count": 10,
   "id": "6436c9bc",
   "metadata": {},
   "outputs": [],
   "source": [
    "x = torch.ones(5,3)"
   ]
  },
  {
   "cell_type": "markdown",
   "id": "6cbe4859",
   "metadata": {},
   "source": [
    "<div class = \"alert alert-info\"><h4>Note<p>任何以\"_\"结尾的操作都会用结果替换原变量。"
   ]
  },
  {
   "cell_type": "code",
   "execution_count": 11,
   "id": "412bc7dc",
   "metadata": {},
   "outputs": [
    {
     "data": {
      "text/plain": [
       "tensor([[1.8789, 1.1793, 1.1661],\n",
       "        [1.4038, 1.2294, 1.3223],\n",
       "        [1.1402, 1.8160, 1.6614],\n",
       "        [1.6570, 1.4837, 1.2277],\n",
       "        [1.2464, 1.0190, 1.0142]])"
      ]
     },
     "execution_count": 11,
     "metadata": {},
     "output_type": "execute_result"
    }
   ],
   "source": [
    "y.add_(x)"
   ]
  },
  {
   "cell_type": "code",
   "execution_count": 12,
   "id": "b294b07f",
   "metadata": {},
   "outputs": [
    {
     "data": {
      "text/plain": [
       "tensor([[1.8789, 1.1793, 1.1661],\n",
       "        [1.4038, 1.2294, 1.3223],\n",
       "        [1.1402, 1.8160, 1.6614],\n",
       "        [1.6570, 1.4837, 1.2277],\n",
       "        [1.2464, 1.0190, 1.0142]])"
      ]
     },
     "execution_count": 12,
     "metadata": {},
     "output_type": "execute_result"
    }
   ],
   "source": [
    "x.copy_(y)"
   ]
  },
  {
   "cell_type": "code",
   "execution_count": 13,
   "id": "a5ea5164",
   "metadata": {},
   "outputs": [
    {
     "data": {
      "text/plain": [
       "tensor([[1.8789, 1.4038, 1.1402, 1.6570, 1.2464],\n",
       "        [1.1793, 1.2294, 1.8160, 1.4837, 1.0190],\n",
       "        [1.1661, 1.3223, 1.6614, 1.2277, 1.0142]])"
      ]
     },
     "execution_count": 13,
     "metadata": {},
     "output_type": "execute_result"
    }
   ],
   "source": [
    "x.t_()"
   ]
  },
  {
   "cell_type": "markdown",
   "id": "e78b9927",
   "metadata": {},
   "source": [
    "### 索引、变形\n",
    "* 索引和numpy差不多\n",
    "* 变形用view（reshape）\n",
    "* 如果你有只有一个元素的张量，使用.item()来得到Python数据类型的数值"
   ]
  },
  {
   "cell_type": "code",
   "execution_count": 14,
   "id": "c9d897bd",
   "metadata": {},
   "outputs": [
    {
     "data": {
      "text/plain": [
       "tensor([1.6570, 1.4837, 1.2277])"
      ]
     },
     "execution_count": 14,
     "metadata": {},
     "output_type": "execute_result"
    }
   ],
   "source": [
    "x[:,3]"
   ]
  },
  {
   "cell_type": "code",
   "execution_count": 15,
   "id": "0d07ff0d",
   "metadata": {},
   "outputs": [
    {
     "data": {
      "text/plain": [
       "torch.Size([3, 5])"
      ]
     },
     "execution_count": 15,
     "metadata": {},
     "output_type": "execute_result"
    }
   ],
   "source": [
    "x.size()"
   ]
  },
  {
   "cell_type": "code",
   "execution_count": 16,
   "id": "156d7fa3",
   "metadata": {},
   "outputs": [
    {
     "data": {
      "text/plain": [
       "tensor([[1.8789, 1.4038, 1.1402],\n",
       "        [1.6570, 1.2464, 1.1793],\n",
       "        [1.2294, 1.8160, 1.4837],\n",
       "        [1.0190, 1.1661, 1.3223],\n",
       "        [1.6614, 1.2277, 1.0142]])"
      ]
     },
     "execution_count": 16,
     "metadata": {},
     "output_type": "execute_result"
    }
   ],
   "source": [
    "x.contiguous().view(5,3)\n",
    "# 搞不懂为啥这里不加.contiguous()就会报错"
   ]
  },
  {
   "cell_type": "code",
   "execution_count": 17,
   "id": "48a8c507",
   "metadata": {},
   "outputs": [
    {
     "data": {
      "text/plain": [
       "tensor([1.8789, 1.4038, 1.1402, 1.6570, 1.2464, 1.1793, 1.2294, 1.8160, 1.4837,\n",
       "        1.0190, 1.1661, 1.3223, 1.6614, 1.2277, 1.0142])"
      ]
     },
     "execution_count": 17,
     "metadata": {},
     "output_type": "execute_result"
    }
   ],
   "source": [
    "x.reshape(15)"
   ]
  },
  {
   "cell_type": "code",
   "execution_count": 18,
   "id": "f0cf9bcb",
   "metadata": {},
   "outputs": [
    {
     "data": {
      "text/plain": [
       "(torch.Size([4, 4]), torch.Size([16]), torch.Size([2, 8]))"
      ]
     },
     "execution_count": 18,
     "metadata": {},
     "output_type": "execute_result"
    }
   ],
   "source": [
    "x = torch.randn(4,4)\n",
    "y = x.view(16)\n",
    "x.view(16)\n",
    "z = x.view(-1,8)\n",
    "x.size(), y.size(), z.size()"
   ]
  },
  {
   "cell_type": "code",
   "execution_count": 19,
   "id": "9c9eb0e0",
   "metadata": {},
   "outputs": [
    {
     "name": "stdout",
     "output_type": "stream",
     "text": [
      "tensor([0.0880])\n",
      "0.0879632905125618\n"
     ]
    }
   ],
   "source": [
    "x = torch.randn(1)\n",
    "print(x)\n",
    "print(x.item())"
   ]
  },
  {
   "cell_type": "markdown",
   "id": "53b2d2cd",
   "metadata": {},
   "source": [
    "### NumPy转换\n",
    "* 两者共享底层内存地址，修改一个会导致另一个的变化。"
   ]
  },
  {
   "cell_type": "markdown",
   "id": "4af0d637",
   "metadata": {},
   "source": [
    "Tensor → NumPy"
   ]
  },
  {
   "cell_type": "code",
   "execution_count": 20,
   "id": "5c5c48fb",
   "metadata": {},
   "outputs": [
    {
     "data": {
      "text/plain": [
       "(array([1., 1., 1., 1., 1.], dtype=float32), tensor([1., 1., 1., 1., 1.]))"
      ]
     },
     "execution_count": 20,
     "metadata": {},
     "output_type": "execute_result"
    }
   ],
   "source": [
    "a = torch.ones(5)\n",
    "b = a.numpy()\n",
    "b,a"
   ]
  },
  {
   "cell_type": "code",
   "execution_count": 21,
   "id": "98cbfbfd",
   "metadata": {},
   "outputs": [
    {
     "data": {
      "text/plain": [
       "(tensor([2., 2., 2., 2., 2.]), array([2., 2., 2., 2., 2.], dtype=float32))"
      ]
     },
     "execution_count": 21,
     "metadata": {},
     "output_type": "execute_result"
    }
   ],
   "source": [
    "a.add_(1)\n",
    "a,b"
   ]
  },
  {
   "cell_type": "markdown",
   "id": "8d83d3b1",
   "metadata": {},
   "source": [
    "Numpy → Tensor\n",
    "\n",
    "``torch.from_numpy(array)``"
   ]
  },
  {
   "cell_type": "code",
   "execution_count": 22,
   "id": "45d531aa",
   "metadata": {},
   "outputs": [
    {
     "data": {
      "text/plain": [
       "(array([1., 1., 1., 1., 1.]),\n",
       " tensor([1., 1., 1., 1., 1.], dtype=torch.float64))"
      ]
     },
     "execution_count": 22,
     "metadata": {},
     "output_type": "execute_result"
    }
   ],
   "source": [
    "a = np.ones(5)\n",
    "b = torch.from_numpy(a)\n",
    "a,b"
   ]
  },
  {
   "cell_type": "code",
   "execution_count": 23,
   "id": "1c6337e7",
   "metadata": {},
   "outputs": [
    {
     "data": {
      "text/plain": [
       "(array([2., 2., 2., 2., 2.]),\n",
       " tensor([2., 2., 2., 2., 2.], dtype=torch.float64))"
      ]
     },
     "execution_count": 23,
     "metadata": {},
     "output_type": "execute_result"
    }
   ],
   "source": [
    "np.add(a,1,out = a)\n",
    "a,b"
   ]
  },
  {
   "cell_type": "markdown",
   "id": "0f9d749a",
   "metadata": {},
   "source": [
    "所有的 Tensor 类型默认都是基于CPU， CharTensor 类型不支持到 NumPy 的转换."
   ]
  },
  {
   "cell_type": "markdown",
   "id": "f961b974",
   "metadata": {},
   "source": [
    "### CUDA张量\n",
    "* ``.to``方法可以将Tensor移动到任何设备中"
   ]
  },
  {
   "cell_type": "code",
   "execution_count": 24,
   "id": "f390dabd",
   "metadata": {},
   "outputs": [
    {
     "data": {
      "text/plain": [
       "True"
      ]
     },
     "execution_count": 24,
     "metadata": {},
     "output_type": "execute_result"
    }
   ],
   "source": [
    "torch.cuda.is_available()"
   ]
  },
  {
   "cell_type": "code",
   "execution_count": 25,
   "id": "e89b4fe2",
   "metadata": {},
   "outputs": [
    {
     "data": {
      "text/plain": [
       "device(type='cpu')"
      ]
     },
     "execution_count": 25,
     "metadata": {},
     "output_type": "execute_result"
    }
   ],
   "source": [
    "torch.device('cuda')\n",
    "torch.device('cpu')"
   ]
  },
  {
   "cell_type": "code",
   "execution_count": 26,
   "id": "d6687a50",
   "metadata": {},
   "outputs": [
    {
     "data": {
      "text/plain": [
       "tensor([1.0880], device='cuda:0')"
      ]
     },
     "execution_count": 26,
     "metadata": {},
     "output_type": "execute_result"
    }
   ],
   "source": [
    "# if torch.cuda.is_available():\n",
    "device = torch.device('cuda')\n",
    "y_1 = torch.ones_like(x, device = device)\n",
    "x_1 = x.to(device)\n",
    "z_1 = x_1 + y_1\n",
    "z_1"
   ]
  },
  {
   "cell_type": "code",
   "execution_count": 27,
   "id": "83742398",
   "metadata": {},
   "outputs": [
    {
     "data": {
      "text/plain": [
       "tensor([2.0880], device='cuda:0')"
      ]
     },
     "execution_count": 27,
     "metadata": {},
     "output_type": "execute_result"
    }
   ],
   "source": [
    "y_1 + z_1"
   ]
  },
  {
   "cell_type": "code",
   "execution_count": 28,
   "id": "fc1dbcb7",
   "metadata": {
    "scrolled": true
   },
   "outputs": [
    {
     "data": {
      "text/plain": [
       "tensor([1.0880])"
      ]
     },
     "execution_count": 28,
     "metadata": {},
     "output_type": "execute_result"
    }
   ],
   "source": [
    "z_1 = z_1.to('cpu')\n",
    "z_1"
   ]
  },
  {
   "cell_type": "code",
   "execution_count": 29,
   "id": "ceb99546",
   "metadata": {},
   "outputs": [
    {
     "data": {
      "text/plain": [
       "tensor([1.0880])"
      ]
     },
     "execution_count": 29,
     "metadata": {},
     "output_type": "execute_result"
    }
   ],
   "source": [
    "z_1.to(\"cpu\")"
   ]
  },
  {
   "cell_type": "code",
   "execution_count": 30,
   "id": "26e8921a",
   "metadata": {},
   "outputs": [
    {
     "data": {
      "text/plain": [
       "'\\nExpected all tensors to be on the same device, but found at least two devices, cuda:0 and cpu!\\n'"
      ]
     },
     "execution_count": 30,
     "metadata": {},
     "output_type": "execute_result"
    }
   ],
   "source": [
    "# y_1 + z_1\n",
    "'''\n",
    "Expected all tensors to be on the same device, but found at least two devices, cuda:0 and cpu!\n",
    "'''"
   ]
  },
  {
   "cell_type": "code",
   "execution_count": 31,
   "id": "31092312",
   "metadata": {},
   "outputs": [
    {
     "data": {
      "text/plain": [
       "(tensor([True], device='cuda:0'), tensor([True], device='cuda:0'))"
      ]
     },
     "execution_count": 31,
     "metadata": {},
     "output_type": "execute_result"
    }
   ],
   "source": [
    "y_2 = torch.ones_like(x, device = 'cuda')\n",
    "x_2 = x.to(\"cuda\")\n",
    "z_2 = y_2 + x_2\n",
    "\n",
    "x_1 == x_2, y_1 == y_2"
   ]
  },
  {
   "cell_type": "code",
   "execution_count": 32,
   "id": "dcf24747",
   "metadata": {},
   "outputs": [
    {
     "data": {
      "text/plain": [
       "'\\nExpected all tensors to be on the same device, but found at least two devices, cuda:0 and cpu!\\n'"
      ]
     },
     "execution_count": 32,
     "metadata": {},
     "output_type": "execute_result"
    }
   ],
   "source": [
    "#  z_1 == z_2\n",
    "'''\n",
    "Expected all tensors to be on the same device, but found at least two devices, cuda:0 and cpu!\n",
    "'''"
   ]
  },
  {
   "cell_type": "markdown",
   "id": "2f490c1b",
   "metadata": {},
   "source": [
    "### 更多\n",
    "100+ Tensor operations, including transposing, indexing, slicing, mathematical operations, linear algebra, random numbers, etc., are described here <https://pytorch.org/docs/torch>_."
   ]
  },
  {
   "cell_type": "markdown",
   "id": "9d568e4a",
   "metadata": {},
   "source": [
    "# Autograd:自动求导机制\n",
    "## Tensor 张量\n",
    "\n",
    "* ```torch.Tensor```是这个包的核心类\n",
    "* 如果设置```.requires_grad```为```True```,会追踪所有对于该张量的操作\n",
    "* ```.backward()```自动计算所有的梯度，积累到```.grad```属性\n",
    "* ```.detach()```方法将张量与其计算历史记录分离，禁止跟踪它将来的计算记录\n",
    "* ```with torch.no_grad():```将代码块包装其中，以阻止跟踪历史记录占用内存。在评估模型时特别有用，因为模型可能具有```requires_grad = True```的可训练参数，但是我们不需要梯度计算。\n",
    "* ```Function```是另一个自动梯度计算的重要类\n",
    "\n",
    "Tensor 和 Function互相连接并生成一个非循环图，它表示和存储了完整的计算历史。 每个张量都有一个```.grad_fn```属性，这个属性引用了一个创建了Tensor的Function（除非这个张量是用户手动创建的，即，这个张量的 ```grad_fn ```是 ```None```）。\n",
    "\n",
    "如果需要计算导数，你可以在```Tensor```上调用```.backward()```。 如果Tensor是一个标量（即它包含一个元素数据）则不需要为```backward()```指定任何参数， 但是如果它有更多的元素，你需要指定一个```gradient``` 参数来匹配张量的形状。"
   ]
  },
  {
   "cell_type": "markdown",
   "id": "5332d5ae",
   "metadata": {},
   "source": [
    "创建一个张量并设置追踪他的计算历史"
   ]
  },
  {
   "cell_type": "code",
   "execution_count": 33,
   "id": "cfc81d9c",
   "metadata": {},
   "outputs": [
    {
     "data": {
      "text/plain": [
       "tensor([[1., 1.],\n",
       "        [1., 1.]], requires_grad=True)"
      ]
     },
     "execution_count": 33,
     "metadata": {},
     "output_type": "execute_result"
    }
   ],
   "source": [
    "import torch\n",
    "x = torch.ones(2, 2, requires_grad=True)\n",
    "x"
   ]
  },
  {
   "cell_type": "code",
   "execution_count": 34,
   "id": "b2cd454a",
   "metadata": {
    "scrolled": true
   },
   "outputs": [
    {
     "data": {
      "text/plain": [
       "tensor([[3., 3.],\n",
       "        [3., 3.]], grad_fn=<AddBackward0>)"
      ]
     },
     "execution_count": 34,
     "metadata": {},
     "output_type": "execute_result"
    }
   ],
   "source": [
    "y = x + 2\n",
    "y"
   ]
  },
  {
   "cell_type": "markdown",
   "id": "710c04e8",
   "metadata": {},
   "source": [
    "结果y已经被计算出来了，所以，grad_fn已经被自动生成了。"
   ]
  },
  {
   "cell_type": "code",
   "execution_count": 35,
   "id": "1d3d481c",
   "metadata": {},
   "outputs": [
    {
     "data": {
      "text/plain": [
       "<AddBackward0 at 0x1d28569d430>"
      ]
     },
     "execution_count": 35,
     "metadata": {},
     "output_type": "execute_result"
    }
   ],
   "source": [
    "y.grad_fn"
   ]
  },
  {
   "cell_type": "markdown",
   "id": "6bfd77f0",
   "metadata": {},
   "source": [
    "对y进行一个操作"
   ]
  },
  {
   "cell_type": "code",
   "execution_count": 36,
   "id": "78fcedd0",
   "metadata": {},
   "outputs": [
    {
     "data": {
      "text/plain": [
       "(tensor([[27., 27.],\n",
       "         [27., 27.]], grad_fn=<MulBackward0>),\n",
       " tensor(27., grad_fn=<MeanBackward0>))"
      ]
     },
     "execution_count": 36,
     "metadata": {},
     "output_type": "execute_result"
    }
   ],
   "source": [
    "z = y * y * 3\n",
    "out = z.mean()\n",
    "\n",
    "z, out"
   ]
  },
  {
   "cell_type": "markdown",
   "id": "10eb1964",
   "metadata": {},
   "source": [
    "```.requires_grad_( ... ) ```可以改变现有张量的```requires_grad```属性。 如果没有指定的话，默认输入的```flag```是 ```False```。"
   ]
  },
  {
   "cell_type": "code",
   "execution_count": 37,
   "id": "09607dcb",
   "metadata": {},
   "outputs": [
    {
     "name": "stdout",
     "output_type": "stream",
     "text": [
      "False\n",
      "True\n",
      "<SumBackward0 object at 0x000001D2856A6E80>\n"
     ]
    }
   ],
   "source": [
    "a = torch.randn(2, 2)\n",
    "a = ((a * 3) / (a - 1))\n",
    "print(a.requires_grad)\n",
    "\n",
    "a.requires_grad_(True)\n",
    "print(a.requires_grad)\n",
    "\n",
    "b = (a * a).sum()\n",
    "print(b.grad_fn)"
   ]
  },
  {
   "attachments": {
    "image.png": {
     "image/png": "[encoded data removed]"
    }
   },
   "cell_type": "markdown",
   "id": "9d294f2c",
   "metadata": {},
   "source": [
    "## 梯度\n",
    "<font color='red'>反向传播 </font>因为 ```out```是一个纯量```（scalar）```，```out.backward()``` 等于```out.backward(torch.tensor(1))```\n",
    "* 啥意思？必须是标量对矩阵求导？？\n",
    "* 雅可比矩阵是一阶偏导数以一定方式排列成的矩阵，类似于多元函数的导数\n",
    "* ```torch.autograd```就是用来计算`vector-Jacobian product`的工具\n",
    "* 基于链式法则![image.png](attachment:image.png)"
   ]
  },
  {
   "attachments": {
    "image.png": {
     "image/png": "[encoded data removed]"
    }
   },
   "cell_type": "markdown",
   "id": "19892cb5",
   "metadata": {},
   "source": [
    "![image.png](attachment:image.png)\n",
    "vector-Jacobian product 这种特性使得将外部梯度返回到具有非标量输出的模型变得非常方便。"
   ]
  },
  {
   "cell_type": "code",
   "execution_count": 38,
   "id": "c911b745",
   "metadata": {},
   "outputs": [],
   "source": [
    "out.backward()"
   ]
  },
  {
   "cell_type": "markdown",
   "id": "e8cbed16",
   "metadata": {},
   "source": [
    "print gradients ```d(out)/dx```"
   ]
  },
  {
   "cell_type": "code",
   "execution_count": 39,
   "id": "bf75f209",
   "metadata": {},
   "outputs": [
    {
     "data": {
      "text/plain": [
       "tensor([[4.5000, 4.5000],\n",
       "        [4.5000, 4.5000]])"
      ]
     },
     "execution_count": 39,
     "metadata": {},
     "output_type": "execute_result"
    }
   ],
   "source": [
    "x.grad"
   ]
  },
  {
   "cell_type": "code",
   "execution_count": 40,
   "id": "7f37016e",
   "metadata": {},
   "outputs": [
    {
     "data": {
      "text/plain": [
       "tensor([1710.1665,  864.4301,  312.8878], grad_fn=<MulBackward0>)"
      ]
     },
     "execution_count": 40,
     "metadata": {},
     "output_type": "execute_result"
    }
   ],
   "source": [
    "'''\n",
    "    x.data可以去掉requires_grad属性，只保留值\n",
    "    tensor.norm()是计算范数\n",
    "'''\n",
    "x = torch.randn(3, requires_grad=True)\n",
    "i = 1\n",
    "y = x + 2\n",
    "while y.data.norm() < 1000:\n",
    "    y = y * 2\n",
    "    i *= 2\n",
    "y"
   ]
  },
  {
   "cell_type": "markdown",
   "id": "2a390b41",
   "metadata": {},
   "source": [
    "<font color = 'red'> ``.backward()``括号里是啥玩意？？？"
   ]
  },
  {
   "cell_type": "markdown",
   "id": "1b925650",
   "metadata": {},
   "source": [
    "在这个情形中，y不再是个标量。`torch.autograd`无法直接计算出完整的雅可比行列，但是如果我们只想要`vector-Jacobian product`，只需将向量作为参数传入`backward`："
   ]
  },
  {
   "cell_type": "markdown",
   "id": "447b02e5",
   "metadata": {},
   "source": [
    "* 括号里面的参数是上面的$v$，<font color = 'red'>如果正好是某个标量函数$l = g(y)$的梯度的话</font>，就能求出来$l$关于$x$的梯度\n",
    "* 总的来说`.backward()`括号中加一个向量就是原雅可比矩阵乘上括号中的向量\n",
    "* <font color = 'red'>那原雅可比行列式又是啥玩意？</font>\n",
    "* <font color = 'red'>就是说如果要输出一个向量y对向量x的雅可比矩阵，我括号里应该输入（1，1，1...）?</font>"
   ]
  },
  {
   "cell_type": "code",
   "execution_count": 41,
   "id": "af158e85",
   "metadata": {},
   "outputs": [
    {
     "data": {
      "text/plain": [
       "tensor([512., 512., 512.])"
      ]
     },
     "execution_count": 41,
     "metadata": {},
     "output_type": "execute_result"
    }
   ],
   "source": [
    "gradients = torch.tensor([1, 1, 1], dtype = torch.float)\n",
    "y.backward(gradients)\n",
    "\n",
    "x.grad"
   ]
  },
  {
   "cell_type": "code",
   "execution_count": 42,
   "id": "bf2dfb7b",
   "metadata": {},
   "outputs": [
    {
     "data": {
      "text/plain": [
       "tensor([512., 512., 512.], grad_fn=<DivBackward0>)"
      ]
     },
     "execution_count": 42,
     "metadata": {},
     "output_type": "execute_result"
    }
   ],
   "source": [
    "y/(x+2)"
   ]
  },
  {
   "cell_type": "code",
   "execution_count": 43,
   "id": "7657c70a",
   "metadata": {},
   "outputs": [
    {
     "data": {
      "text/plain": [
       "'\\n    没搞懂为啥要取这个例子\\n'"
      ]
     },
     "execution_count": 43,
     "metadata": {},
     "output_type": "execute_result"
    }
   ],
   "source": [
    "'''\n",
    "    没搞懂为啥要取这个例子\n",
    "'''\n",
    "# gradients = torch.tensor([0.1, 1.0, 0.0001], dtype = torch.float)\n",
    "# y.backward(gradients)\n",
    "\n",
    "# x.grad"
   ]
  },
  {
   "cell_type": "markdown",
   "id": "98681749",
   "metadata": {},
   "source": [
    "如果`.requires_grad=True`但是你有不希望进行autograd运算，那么可以把变量包裹在`with torch.no_grad()`中\n",
    "* <font color = \"red\">`with`语句是个啥东西</font>"
   ]
  },
  {
   "cell_type": "code",
   "execution_count": 44,
   "id": "9e009c82",
   "metadata": {},
   "outputs": [
    {
     "data": {
      "text/plain": [
       "True"
      ]
     },
     "execution_count": 44,
     "metadata": {},
     "output_type": "execute_result"
    }
   ],
   "source": [
    "x.requires_grad"
   ]
  },
  {
   "cell_type": "code",
   "execution_count": 45,
   "id": "82a5c835",
   "metadata": {},
   "outputs": [
    {
     "data": {
      "text/plain": [
       "True"
      ]
     },
     "execution_count": 45,
     "metadata": {},
     "output_type": "execute_result"
    }
   ],
   "source": [
    "(x ** 2).requires_grad"
   ]
  },
  {
   "cell_type": "code",
   "execution_count": 46,
   "id": "14a3c13c",
   "metadata": {},
   "outputs": [
    {
     "name": "stdout",
     "output_type": "stream",
     "text": [
      "False\n"
     ]
    }
   ],
   "source": [
    "with torch.no_grad():\n",
    "    print((x ** 2).requires_grad)"
   ]
  },
  {
   "cell_type": "markdown",
   "id": "162e4420",
   "metadata": {},
   "source": [
    "### 再小试一下with torch.no_grad():\n",
    "* 来源：https://zhuanlan.zhihu.com/p/386454263"
   ]
  },
  {
   "cell_type": "code",
   "execution_count": 47,
   "id": "85fd420a",
   "metadata": {},
   "outputs": [
    {
     "data": {
      "text/plain": [
       "tensor([2.2000], grad_fn=<MulBackward0>)"
      ]
     },
     "execution_count": 47,
     "metadata": {},
     "output_type": "execute_result"
    }
   ],
   "source": [
    "a = torch.tensor([1.1], requires_grad=True)\n",
    "b = a * 2\n",
    "b"
   ]
  },
  {
   "cell_type": "markdown",
   "id": "df899bfb",
   "metadata": {},
   "source": [
    "grad_fn=\\<MulBackward0>表示乘法的反向梯度函数"
   ]
  },
  {
   "cell_type": "code",
   "execution_count": 48,
   "id": "20a4c527",
   "metadata": {},
   "outputs": [
    {
     "data": {
      "text/plain": [
       "tensor([4.2000], grad_fn=<AddBackward0>)"
      ]
     },
     "execution_count": 48,
     "metadata": {},
     "output_type": "execute_result"
    }
   ],
   "source": [
    "b.add_(2)"
   ]
  },
  {
   "cell_type": "markdown",
   "id": "9ad67a20",
   "metadata": {},
   "source": [
    "grad_fn=\\<AddBackward0>表明是add的反向梯度函数"
   ]
  },
  {
   "cell_type": "code",
   "execution_count": 49,
   "id": "980f2f39",
   "metadata": {},
   "outputs": [
    {
     "data": {
      "text/plain": [
       "tensor([8.4000], grad_fn=<AddBackward0>)"
      ]
     },
     "execution_count": 49,
     "metadata": {},
     "output_type": "execute_result"
    }
   ],
   "source": [
    "with torch.no_grad():\n",
    "    b.mul_(2)\n",
    "b"
   ]
  },
  {
   "cell_type": "markdown",
   "id": "3266d6f6",
   "metadata": {},
   "source": [
    "tensor([8.4000], grad_fn=\\<AddBackward0>) 可以看到没有跟踪乘法的梯度，还是上面的加法的梯度函数，不过乘法是执行了的"
   ]
  },
  {
   "attachments": {
    "image.png": {
     "image/png": "[encoded data removed]"
    }
   },
   "cell_type": "markdown",
   "id": "cb4e8abe",
   "metadata": {},
   "source": [
    "# 神经网络\n",
    "## Neural Networks\n",
    "* `torch.nn`\n",
    "* `nn`包依赖`autograd`包来定义模型并求导。 一个`nn.Module`包含各个层和一个`forward(input)`方法，该方法返回`output`。\n",
    "\n",
    "![image.png](attachment:image.png)\n",
    "\n",
    "<font color = 'red'>我估计这个$s_2$写错了，应该是$c_2$</font>\n",
    "\n",
    "<font color = 'red'>前馈神经网络</font>，它接受一个输入，然后一层接着一层地传递，最后输出计算的结果。\n",
    "\n",
    "神经网络的典型训练过程如下：\n",
    "1. 定义包含一些可学习的参数(或者叫权重)神经网络模型；\n",
    "2. 在数据集上迭代；\n",
    "3. 通过神经网络处理输入；\n",
    "4. 计算损失(输出结果和正确值的差值大小)；\n",
    "5. 将梯度反向传播回网络的参数；\n",
    "6. 更新网络的参数，主要使用如下简单的更新原则： `weight = weight - learning_rate * gradient`\n",
    "\n",
    "## 定义网络\n",
    "开始定义一个网络："
   ]
  },
  {
   "cell_type": "code",
   "execution_count": 50,
   "id": "cd820b95",
   "metadata": {},
   "outputs": [],
   "source": [
    "import torch\n",
    "import torch.nn as nn\n",
    "import torch.nn.functional as F"
   ]
  },
  {
   "cell_type": "markdown",
   "id": "2ff1b68f",
   "metadata": {},
   "source": [
    "* `super`这里没看懂"
   ]
  },
  {
   "cell_type": "code",
   "execution_count": 55,
   "id": "e1925300",
   "metadata": {},
   "outputs": [],
   "source": [
    "class Net(nn.Module):\n",
    "    #定义Net的初始化函数，这个函数定义了该神经网络的基本结构\n",
    "    \n",
    "    def __init__(self):\n",
    "        super(Net, self).__init__() # ??这是啥操作，在初始化函数里面自己调用自己的初始化函数？\n",
    "        # 1 input image channel, 6 output channels, 5x5 square convolution\n",
    "        #复制并使用Net的父类的初始化方法，即先运行nn.Module的初始化函数\n",
    "        \n",
    "        # kernel\n",
    "        self.conv1 = nn.Conv2d(1, 6, 5) # in_channel=1,out_channel=6,kennel_size=5*5\n",
    "        self.conv2 = nn.Conv2d(6, 16, 5) # 定义conv2函数的是图像卷积函数：输入为6张特征图,输出为16张特征图, 卷积核为5x5正方形\n",
    "        \n",
    "        # an affine operation: y = Wx + b 仿射运算\n",
    "        self.fc1 = nn.Linear(16 * 5 * 5, 120) #in_features【16个channel，5*5的图片】,out_features\n",
    "        self.fc2 = nn.Linear(120, 84) #定义fc2（fullconnect）全连接函数2为线性函数：y = Wx + b，并将120个节点连接到84个节点上。\n",
    "        self.fc3 = nn.Linear(84, 10)\n",
    "        '''\n",
    "            上面都是网络基本架构，卷积层和全连接层\n",
    "        '''\n",
    "        \n",
    "    #定义该神经网络的向前传播函数，该函数必须定义，一旦定义成功，向后传播函数也会自动生成（autograd）\n",
    "    def forward(self, x):\n",
    "        \n",
    "        # Max pooling over a (2,2) window\n",
    "        x = F.max_pool2d(F.relu(self.conv2(x)), (2, 2))\n",
    "        # If the size is a suare you can only specify a single number\n",
    "        #输入x经过卷积conv2之后，经过激活函数ReLU，使用2x2的窗口进行最大池化Max pooling，然后更新到x。\n",
    "        x = F.max_pool2d(F.relu(self.conv2(x)), 2)\n",
    "        \n",
    "        x = x.view(-1, self.num_flat_features(x)) # 类似于np.resize()，数将张量x变形成一维的向量形式，总特征数并不改变，为接下来的全连接作准备。\n",
    "        \n",
    "        x = F.relu(self.fc1(x)) #输入x经过全连接1，再经过ReLU激活函数，然后更新x\n",
    "        x = F.relu(self.fc2(x)) #输入x经过全连接2，再经过ReLU激活函数，然后更新x\n",
    "        \n",
    "        x = self.fc3(x) #输入x经过全连接3，然后更新x\n",
    "        return x\n",
    "    \n",
    "    \n",
    "    #使用num_flat_features函数计算张量x的总特征量（把每个数字都看出是一个特征，即特征总量），比如x是4*2*2的张量，那么它的特征总量就是16。\n",
    "    def num_flat_features(self, x):\n",
    "        size = x.size()[1:]  # 这里为什么要使用[1:],是因为pytorch只接受批输入，也就是说一次性输入好几张图片，那么输入数据张量的维度自然上升到了4维。【1:】让我们把注意力放在后3维上面\n",
    "        '''\n",
    "            这里的x应该是什么，84in,10out的全连接？？10个线性函数？？\n",
    "            为啥从1开始？？\n",
    "        '''\n",
    "        \n",
    "        num_features = 1\n",
    "        for s in size:\n",
    "            num_features *= s\n",
    "        return num_features"
   ]
  },
  {
   "cell_type": "code",
   "execution_count": 57,
   "id": "da1884aa",
   "metadata": {},
   "outputs": [
    {
     "data": {
      "text/plain": [
       "Net(\n",
       "  (conv1): Conv2d(1, 6, kernel_size=(5, 5), stride=(1, 1))\n",
       "  (conv2): Conv2d(6, 16, kernel_size=(5, 5), stride=(1, 1))\n",
       "  (fc1): Linear(in_features=400, out_features=120, bias=True)\n",
       "  (fc2): Linear(in_features=120, out_features=84, bias=True)\n",
       "  (fc3): Linear(in_features=84, out_features=10, bias=True)\n",
       ")"
      ]
     },
     "execution_count": 57,
     "metadata": {},
     "output_type": "execute_result"
    }
   ],
   "source": [
    "net = Net()\n",
    "net"
   ]
  },
  {
   "cell_type": "markdown",
   "id": "a3de43d4",
   "metadata": {},
   "source": [
    "* 看需要训练的参数总量"
   ]
  },
  {
   "cell_type": "code",
   "execution_count": 63,
   "id": "d64c59bf",
   "metadata": {
    "collapsed": true
   },
   "outputs": [
    {
     "data": {
      "text/plain": [
       "Parameter containing:\n",
       "tensor([[[[ 0.1201,  0.1724,  0.1250, -0.1018, -0.0763],\n",
       "          [-0.1532, -0.0789,  0.0058, -0.0700,  0.1168],\n",
       "          [-0.0676,  0.0537,  0.1654,  0.1784,  0.0983],\n",
       "          [-0.0471, -0.0853, -0.0114,  0.0042,  0.0661],\n",
       "          [ 0.1528, -0.1002,  0.1555,  0.0973,  0.0265]]],\n",
       "\n",
       "\n",
       "        [[[-0.1882, -0.0283,  0.1865,  0.1472, -0.0647],\n",
       "          [-0.1239,  0.1587, -0.0212,  0.0362,  0.0561],\n",
       "          [-0.0238,  0.0610,  0.1704,  0.0501, -0.1079],\n",
       "          [ 0.0134,  0.1259,  0.1956,  0.1203, -0.0139],\n",
       "          [-0.0082,  0.0320,  0.1224, -0.0162, -0.1445]]],\n",
       "\n",
       "\n",
       "        [[[-0.1931,  0.0109,  0.0767,  0.1314,  0.0499],\n",
       "          [-0.0644, -0.1566,  0.1484, -0.1052,  0.0476],\n",
       "          [ 0.0391, -0.1369,  0.1497, -0.0338,  0.0366],\n",
       "          [ 0.0439, -0.1714,  0.1072,  0.0399,  0.1225],\n",
       "          [-0.0890,  0.0918,  0.1953, -0.1993,  0.1309]]],\n",
       "\n",
       "\n",
       "        [[[-0.0974,  0.0140, -0.1911,  0.0419, -0.0794],\n",
       "          [ 0.1124,  0.1718, -0.1258, -0.0973,  0.1417],\n",
       "          [-0.1401, -0.0178, -0.0058, -0.0449, -0.0240],\n",
       "          [-0.1933, -0.1846, -0.1719,  0.0230, -0.1094],\n",
       "          [ 0.1434,  0.0837, -0.1429,  0.1863, -0.0688]]],\n",
       "\n",
       "\n",
       "        [[[ 0.1937, -0.0995,  0.0025, -0.0923,  0.0097],\n",
       "          [ 0.1536,  0.1764, -0.1372,  0.0372,  0.1710],\n",
       "          [ 0.1729, -0.0857,  0.0453, -0.1599,  0.1708],\n",
       "          [-0.1164, -0.1850, -0.1414,  0.1477,  0.1546],\n",
       "          [-0.1181, -0.1110,  0.0107, -0.0171,  0.1637]]],\n",
       "\n",
       "\n",
       "        [[[ 0.0278, -0.0932,  0.0210,  0.1911,  0.1900],\n",
       "          [ 0.0134,  0.1782, -0.1633, -0.1464,  0.1831],\n",
       "          [ 0.1963,  0.1521, -0.1313, -0.1694,  0.0104],\n",
       "          [-0.0181, -0.0265,  0.0331, -0.0299, -0.1232],\n",
       "          [ 0.1985, -0.0878, -0.1582,  0.1734, -0.1013]]]], requires_grad=True)"
      ]
     },
     "execution_count": 63,
     "metadata": {},
     "output_type": "execute_result"
    }
   ],
   "source": [
    "params[0]"
   ]
  },
  {
   "cell_type": "code",
   "execution_count": 64,
   "id": "6eb8c9dd",
   "metadata": {},
   "outputs": [
    {
     "name": "stdout",
     "output_type": "stream",
     "text": [
      "10\n",
      "torch.Size([6, 1, 5, 5])\n"
     ]
    },
    {
     "data": {
      "text/plain": [
       "'\\n    这里没看懂，为啥[0]??\\n    6,1,5,5分别是啥\\n'"
      ]
     },
     "execution_count": 64,
     "metadata": {},
     "output_type": "execute_result"
    }
   ],
   "source": [
    "params = list(net.parameters())\n",
    "print(len(params))\n",
    "print(params[0].size()) # convl's weight\n",
    "'''\n",
    "    这里没看懂，为啥[0]??\n",
    "    6,1,5,5分别是啥\n",
    "'''"
   ]
  },
  {
   "cell_type": "code",
   "execution_count": 67,
   "id": "3b09156b",
   "metadata": {
    "collapsed": true
   },
   "outputs": [
    {
     "name": "stdout",
     "output_type": "stream",
     "text": [
      "该层的结构：[6, 1, 5, 5]\n",
      "参数和：150\n",
      "该层的结构：[6]\n",
      "参数和：6\n",
      "该层的结构：[16, 6, 5, 5]\n",
      "参数和：2400\n",
      "该层的结构：[16]\n",
      "参数和：16\n",
      "该层的结构：[120, 400]\n",
      "参数和：48000\n",
      "该层的结构：[120]\n",
      "参数和：120\n",
      "该层的结构：[84, 120]\n",
      "参数和：10080\n",
      "该层的结构：[84]\n",
      "参数和：84\n",
      "该层的结构：[10, 84]\n",
      "参数和：840\n",
      "该层的结构：[10]\n",
      "参数和：10\n",
      "总参数和：61706\n"
     ]
    }
   ],
   "source": [
    "k = 0\n",
    "for i in params:\n",
    "    l =1\n",
    "    print(\"该层的结构：\"+str(list(i.size())))\n",
    "    for j in i.size():\n",
    "        l *= j\n",
    "    print(\"参数和：\"+str(l))\n",
    "    k = k+l\n",
    "\n",
    "print(\"总参数和：\"+ str(k))"
   ]
  },
  {
   "cell_type": "markdown",
   "id": "d12891e2",
   "metadata": {},
   "source": [
    "测试随机输入32×32。 注：这个网络（LeNet）期望的输入大小是32×32，如果使用MNIST数据集来训练这个网络，请把图片大小重新调整到32×32。"
   ]
  },
  {
   "cell_type": "code",
   "execution_count": 75,
   "id": "c917736d",
   "metadata": {},
   "outputs": [
    {
     "ename": "RuntimeError",
     "evalue": "Given groups=1, weight of size [16, 6, 5, 5], expected input[1, 1, 32, 32] to have 6 channels, but got 1 channels instead",
     "output_type": "error",
     "traceback": [
      "\u001b[1;31m---------------------------------------------------------------------------\u001b[0m",
      "\u001b[1;31mRuntimeError\u001b[0m                              Traceback (most recent call last)",
      "\u001b[1;32mC:\\WINDOWS\\TEMP/ipykernel_13416/1728121456.py\u001b[0m in \u001b[0;36m<module>\u001b[1;34m\u001b[0m\n\u001b[0;32m      1\u001b[0m \u001b[0minput\u001b[0m \u001b[1;33m=\u001b[0m \u001b[0mtorch\u001b[0m\u001b[1;33m.\u001b[0m\u001b[0mrandn\u001b[0m\u001b[1;33m(\u001b[0m\u001b[1;36m1\u001b[0m\u001b[1;33m,\u001b[0m \u001b[1;36m1\u001b[0m\u001b[1;33m,\u001b[0m \u001b[1;36m32\u001b[0m\u001b[1;33m,\u001b[0m \u001b[1;36m32\u001b[0m\u001b[1;33m)\u001b[0m\u001b[1;33m\u001b[0m\u001b[1;33m\u001b[0m\u001b[0m\n\u001b[1;32m----> 2\u001b[1;33m \u001b[0mout\u001b[0m \u001b[1;33m=\u001b[0m \u001b[0mnet\u001b[0m\u001b[1;33m(\u001b[0m\u001b[0minput\u001b[0m\u001b[1;33m)\u001b[0m\u001b[1;33m\u001b[0m\u001b[1;33m\u001b[0m\u001b[0m\n\u001b[0m\u001b[0;32m      3\u001b[0m \u001b[0mprint\u001b[0m\u001b[1;33m(\u001b[0m\u001b[0mout\u001b[0m\u001b[1;33m)\u001b[0m\u001b[1;33m\u001b[0m\u001b[1;33m\u001b[0m\u001b[0m\n",
      "\u001b[1;32mD:\\Anaconda\\envs\\pytorch\\lib\\site-packages\\torch\\nn\\modules\\module.py\u001b[0m in \u001b[0;36m_call_impl\u001b[1;34m(self, *input, **kwargs)\u001b[0m\n\u001b[0;32m   1049\u001b[0m         if not (self._backward_hooks or self._forward_hooks or self._forward_pre_hooks or _global_backward_hooks\n\u001b[0;32m   1050\u001b[0m                 or _global_forward_hooks or _global_forward_pre_hooks):\n\u001b[1;32m-> 1051\u001b[1;33m             \u001b[1;32mreturn\u001b[0m \u001b[0mforward_call\u001b[0m\u001b[1;33m(\u001b[0m\u001b[1;33m*\u001b[0m\u001b[0minput\u001b[0m\u001b[1;33m,\u001b[0m \u001b[1;33m**\u001b[0m\u001b[0mkwargs\u001b[0m\u001b[1;33m)\u001b[0m\u001b[1;33m\u001b[0m\u001b[1;33m\u001b[0m\u001b[0m\n\u001b[0m\u001b[0;32m   1052\u001b[0m         \u001b[1;31m# Do not call functions when jit is used\u001b[0m\u001b[1;33m\u001b[0m\u001b[1;33m\u001b[0m\u001b[0m\n\u001b[0;32m   1053\u001b[0m         \u001b[0mfull_backward_hooks\u001b[0m\u001b[1;33m,\u001b[0m \u001b[0mnon_full_backward_hooks\u001b[0m \u001b[1;33m=\u001b[0m \u001b[1;33m[\u001b[0m\u001b[1;33m]\u001b[0m\u001b[1;33m,\u001b[0m \u001b[1;33m[\u001b[0m\u001b[1;33m]\u001b[0m\u001b[1;33m\u001b[0m\u001b[1;33m\u001b[0m\u001b[0m\n",
      "\u001b[1;32mC:\\WINDOWS\\TEMP/ipykernel_13416/1357864181.py\u001b[0m in \u001b[0;36mforward\u001b[1;34m(self, x)\u001b[0m\n\u001b[0;32m     23\u001b[0m \u001b[1;33m\u001b[0m\u001b[0m\n\u001b[0;32m     24\u001b[0m         \u001b[1;31m# Max pooling over a (2,2) window\u001b[0m\u001b[1;33m\u001b[0m\u001b[1;33m\u001b[0m\u001b[0m\n\u001b[1;32m---> 25\u001b[1;33m         \u001b[0mx\u001b[0m \u001b[1;33m=\u001b[0m \u001b[0mF\u001b[0m\u001b[1;33m.\u001b[0m\u001b[0mmax_pool2d\u001b[0m\u001b[1;33m(\u001b[0m\u001b[0mF\u001b[0m\u001b[1;33m.\u001b[0m\u001b[0mrelu\u001b[0m\u001b[1;33m(\u001b[0m\u001b[0mself\u001b[0m\u001b[1;33m.\u001b[0m\u001b[0mconv2\u001b[0m\u001b[1;33m(\u001b[0m\u001b[0mx\u001b[0m\u001b[1;33m)\u001b[0m\u001b[1;33m)\u001b[0m\u001b[1;33m,\u001b[0m \u001b[1;33m(\u001b[0m\u001b[1;36m2\u001b[0m\u001b[1;33m,\u001b[0m \u001b[1;36m2\u001b[0m\u001b[1;33m)\u001b[0m\u001b[1;33m)\u001b[0m\u001b[1;33m\u001b[0m\u001b[1;33m\u001b[0m\u001b[0m\n\u001b[0m\u001b[0;32m     26\u001b[0m         \u001b[1;31m# If the size is a suare you can only specify a single number\u001b[0m\u001b[1;33m\u001b[0m\u001b[1;33m\u001b[0m\u001b[0m\n\u001b[0;32m     27\u001b[0m         \u001b[1;31m#输入x经过卷积conv2之后，经过激活函数ReLU，使用2x2的窗口进行最大池化Max pooling，然后更新到x。\u001b[0m\u001b[1;33m\u001b[0m\u001b[1;33m\u001b[0m\u001b[0m\n",
      "\u001b[1;32mD:\\Anaconda\\envs\\pytorch\\lib\\site-packages\\torch\\nn\\modules\\module.py\u001b[0m in \u001b[0;36m_call_impl\u001b[1;34m(self, *input, **kwargs)\u001b[0m\n\u001b[0;32m   1049\u001b[0m         if not (self._backward_hooks or self._forward_hooks or self._forward_pre_hooks or _global_backward_hooks\n\u001b[0;32m   1050\u001b[0m                 or _global_forward_hooks or _global_forward_pre_hooks):\n\u001b[1;32m-> 1051\u001b[1;33m             \u001b[1;32mreturn\u001b[0m \u001b[0mforward_call\u001b[0m\u001b[1;33m(\u001b[0m\u001b[1;33m*\u001b[0m\u001b[0minput\u001b[0m\u001b[1;33m,\u001b[0m \u001b[1;33m**\u001b[0m\u001b[0mkwargs\u001b[0m\u001b[1;33m)\u001b[0m\u001b[1;33m\u001b[0m\u001b[1;33m\u001b[0m\u001b[0m\n\u001b[0m\u001b[0;32m   1052\u001b[0m         \u001b[1;31m# Do not call functions when jit is used\u001b[0m\u001b[1;33m\u001b[0m\u001b[1;33m\u001b[0m\u001b[0m\n\u001b[0;32m   1053\u001b[0m         \u001b[0mfull_backward_hooks\u001b[0m\u001b[1;33m,\u001b[0m \u001b[0mnon_full_backward_hooks\u001b[0m \u001b[1;33m=\u001b[0m \u001b[1;33m[\u001b[0m\u001b[1;33m]\u001b[0m\u001b[1;33m,\u001b[0m \u001b[1;33m[\u001b[0m\u001b[1;33m]\u001b[0m\u001b[1;33m\u001b[0m\u001b[1;33m\u001b[0m\u001b[0m\n",
      "\u001b[1;32mD:\\Anaconda\\envs\\pytorch\\lib\\site-packages\\torch\\nn\\modules\\conv.py\u001b[0m in \u001b[0;36mforward\u001b[1;34m(self, input)\u001b[0m\n\u001b[0;32m    441\u001b[0m \u001b[1;33m\u001b[0m\u001b[0m\n\u001b[0;32m    442\u001b[0m     \u001b[1;32mdef\u001b[0m \u001b[0mforward\u001b[0m\u001b[1;33m(\u001b[0m\u001b[0mself\u001b[0m\u001b[1;33m,\u001b[0m \u001b[0minput\u001b[0m\u001b[1;33m:\u001b[0m \u001b[0mTensor\u001b[0m\u001b[1;33m)\u001b[0m \u001b[1;33m->\u001b[0m \u001b[0mTensor\u001b[0m\u001b[1;33m:\u001b[0m\u001b[1;33m\u001b[0m\u001b[1;33m\u001b[0m\u001b[0m\n\u001b[1;32m--> 443\u001b[1;33m         \u001b[1;32mreturn\u001b[0m \u001b[0mself\u001b[0m\u001b[1;33m.\u001b[0m\u001b[0m_conv_forward\u001b[0m\u001b[1;33m(\u001b[0m\u001b[0minput\u001b[0m\u001b[1;33m,\u001b[0m \u001b[0mself\u001b[0m\u001b[1;33m.\u001b[0m\u001b[0mweight\u001b[0m\u001b[1;33m,\u001b[0m \u001b[0mself\u001b[0m\u001b[1;33m.\u001b[0m\u001b[0mbias\u001b[0m\u001b[1;33m)\u001b[0m\u001b[1;33m\u001b[0m\u001b[1;33m\u001b[0m\u001b[0m\n\u001b[0m\u001b[0;32m    444\u001b[0m \u001b[1;33m\u001b[0m\u001b[0m\n\u001b[0;32m    445\u001b[0m \u001b[1;32mclass\u001b[0m \u001b[0mConv3d\u001b[0m\u001b[1;33m(\u001b[0m\u001b[0m_ConvNd\u001b[0m\u001b[1;33m)\u001b[0m\u001b[1;33m:\u001b[0m\u001b[1;33m\u001b[0m\u001b[1;33m\u001b[0m\u001b[0m\n",
      "\u001b[1;32mD:\\Anaconda\\envs\\pytorch\\lib\\site-packages\\torch\\nn\\modules\\conv.py\u001b[0m in \u001b[0;36m_conv_forward\u001b[1;34m(self, input, weight, bias)\u001b[0m\n\u001b[0;32m    437\u001b[0m                             \u001b[0mweight\u001b[0m\u001b[1;33m,\u001b[0m \u001b[0mbias\u001b[0m\u001b[1;33m,\u001b[0m \u001b[0mself\u001b[0m\u001b[1;33m.\u001b[0m\u001b[0mstride\u001b[0m\u001b[1;33m,\u001b[0m\u001b[1;33m\u001b[0m\u001b[1;33m\u001b[0m\u001b[0m\n\u001b[0;32m    438\u001b[0m                             _pair(0), self.dilation, self.groups)\n\u001b[1;32m--> 439\u001b[1;33m         return F.conv2d(input, weight, bias, self.stride,\n\u001b[0m\u001b[0;32m    440\u001b[0m                         self.padding, self.dilation, self.groups)\n\u001b[0;32m    441\u001b[0m \u001b[1;33m\u001b[0m\u001b[0m\n",
      "\u001b[1;31mRuntimeError\u001b[0m: Given groups=1, weight of size [16, 6, 5, 5], expected input[1, 1, 32, 32] to have 6 channels, but got 1 channels instead"
     ]
    }
   ],
   "source": [
    "input = torch.randn(1, 1, 32, 32)\n",
    "out = net(input)\n",
    "print(out)"
   ]
  },
  {
   "cell_type": "markdown",
   "id": "da3c883f",
   "metadata": {},
   "source": [
    "## 例子中用到的`nn.`方法\n",
    "### `nn.Conv1d`\n",
    "`nn.Conv2d(self, in_channels, out_channels, kernel_size, stride=1, padding=0, dilation=1, groups=1, bias=True))`\n",
    "参数：\n",
    "* `in_channel`:　输入数据的通道数，例RGB图片通道数为3；\n",
    "* `out_channel`: 输出数据的通道数，这个根据模型调整；\n",
    "* `kennel_size`: 卷积核大小，可以是int，或tuple；`kennel_size=2`,意味着卷积大小2， `kennel_size=（2,3）`，意味着卷积在第一维度大小为2，在第二维度大小为3；\n",
    "* `stride`：步长，默认为1，与kennel_size类似，stride=2,意味在所有维度步长为2， `stride=（2,3）`，意味着在第一维度步长为2，意味着在第二维度步长为3；\n",
    "* `padding`：　零填充\n",
    "\n",
    "https://blog.csdn.net/qq_26369907/article/details/88366147\n",
    "\n",
    "### `nn.Conv2d`\n",
    "`nn.Conv2d(self, in_channels, out_channels, kernel_size, stride=1, padding=0, dilation=1, groups=1, bias=True))`\n",
    "参数：\n",
    "* `in_channel`:　输入数据的通道数，例RGB图片通道数为3；\n",
    "* `out_channel`: 输出数据的通道数，这个根据模型调整；\n",
    "* `kennel_size`: 卷积核大小，可以是int，或tuple；kennel_size=2,意味着卷积大小(2,2)， kennel_size=（2,3），意味着卷积大小（2，3）即非正方形卷积\n",
    "* `stride`：步长，默认为1，与kennel_size类似，stride=2,意味着步长上下左右扫描皆为2， stride=（2,3），左右扫描步长为2，上下为3；\n",
    "* `padding`：　零填充\n",
    "\n",
    "### `nn.Linear()`\n",
    "PyTorch的`nn.Linear（）`是用于设置网络中的全连接层的，需要注意在二维图像处理的任务中，全连接层的输入与输出一般都设置为二维张量，形状通常为`[batch_size, size]`，<font color = 'red'>不同于卷积层要求输入输出是四维张量</font>。其用法与形参说明如下：\n",
    "* `in_features`指的是输入的二维张量的大小，即输入的`[batch_size, size]`中的size。\n",
    "* `out_features`指的是输出的二维张量的大小，即输出的二维张量的形状为`[batch_size，output_size]`，当然，它也代表了该全连接层的神经元个数。\n",
    "\n",
    "从输入输出的张量的shape角度来理解，相当于一个输入为`[batch_size, in_features]`的张量变换成了`[batch_size, out_features]`的输出张量。\n",
    "\n",
    "————————————————\n",
    "版权声明：本文为CSDN博主「风雪夜归人o」的原创文章，遵循CC 4.0 BY-SA版权协议，转载请附上原文出处链接及本声明。\n",
    "原文链接：https://blog.csdn.net/qq_42079689/article/details/102873766\n",
    "\n",
    "### `F.Maxpool2d`\n",
    "\n",
    "`class torch.nn.MaxPool2d(kernel_size, stride=None, padding=0, dilation=1, return_indices=False, ceil_mode=False)`\n",
    "\n",
    "* `kernel_size(int or tuple)` - `max pooling`的窗口大小\n",
    "* `stride(int or tuple, optional)` - `max pooling`的窗口移动的步长。默认值是`kernel_size`\n",
    "* `padding(int or tuple, optional)` - 输入的每一条边补充0的层数\n",
    "* `dilation(int or tuple, optional)` – 一个控制窗口中元素步幅的参数\n",
    "* `return_indices` - 如果等于`True`，会返回输出最大值的序号，对于上采样操作会有帮助\n",
    "* `ceil_mode` - 如果等于`True`，计算输出信号大小的时候，会使用向上取整，代替默认的向下取整的操作\n",
    "\n",
    "————————————————\n",
    "版权声明：本文为CSDN博主「小白827」的原创文章，遵循CC 4.0 BY-SA版权协议，转载请附上原文出处链接及本声明。\n",
    "原文链接：https://blog.csdn.net/qq_24503095/article/details/103646957\n"
   ]
  },
  {
   "cell_type": "code",
   "execution_count": null,
   "id": "4504a083",
   "metadata": {},
   "outputs": [],
   "source": []
  },
  {
   "cell_type": "code",
   "execution_count": null,
   "id": "6de3ca63",
   "metadata": {},
   "outputs": [],
   "source": []
  },
  {
   "cell_type": "code",
   "execution_count": null,
   "id": "6637b5b3",
   "metadata": {},
   "outputs": [],
   "source": []
  },
  {
   "cell_type": "code",
   "execution_count": null,
   "id": "0e547c84",
   "metadata": {},
   "outputs": [],
   "source": []
  },
  {
   "cell_type": "code",
   "execution_count": null,
   "id": "97e2c3b0",
   "metadata": {},
   "outputs": [],
   "source": []
  },
  {
   "cell_type": "code",
   "execution_count": null,
   "id": "5f838b0b",
   "metadata": {},
   "outputs": [],
   "source": []
  },
  {
   "cell_type": "code",
   "execution_count": null,
   "id": "e9d3d784",
   "metadata": {},
   "outputs": [],
   "source": []
  },
  {
   "cell_type": "code",
   "execution_count": null,
   "id": "58c428ad",
   "metadata": {},
   "outputs": [],
   "source": []
  },
  {
   "cell_type": "code",
   "execution_count": null,
   "id": "eb9ddcb0",
   "metadata": {},
   "outputs": [],
   "source": []
  },
  {
   "cell_type": "code",
   "execution_count": 76,
   "id": "970f2f34",
   "metadata": {},
   "outputs": [
    {
     "name": "stdout",
     "output_type": "stream",
     "text": [
      "Net(\n",
      "  (conv1): Conv2d(1, 6, kernel_size=(5, 5), stride=(1, 1))\n",
      "  (conv2): Conv2d(6, 16, kernel_size=(5, 5), stride=(1, 1))\n",
      "  (fc1): Linear(in_features=400, out_features=120, bias=True)\n",
      "  (fc2): Linear(in_features=120, out_features=84, bias=True)\n",
      "  (fc3): Linear(in_features=84, out_features=10, bias=True)\n",
      ")\n"
     ]
    }
   ],
   "source": [
    "import torch\n",
    "import torch.nn as nn\n",
    "import torch.nn.functional as F\n",
    "\n",
    "\n",
    "class Net(nn.Module):\n",
    "\n",
    "    def __init__(self):\n",
    "        super(Net, self).__init__()\n",
    "        # 1 input image channel, 6 output channels, 5x5 square convolution\n",
    "        # kernel\n",
    "        self.conv1 = nn.Conv2d(1, 6, 5)\n",
    "        self.conv2 = nn.Conv2d(6, 16, 5)\n",
    "        # an affine operation: y = Wx + b\n",
    "        self.fc1 = nn.Linear(16 * 5 * 5, 120)\n",
    "        self.fc2 = nn.Linear(120, 84)\n",
    "        self.fc3 = nn.Linear(84, 10)\n",
    "\n",
    "    def forward(self, x):\n",
    "        # Max pooling over a (2, 2) window\n",
    "        x = F.max_pool2d(F.relu(self.conv1(x)), (2, 2))\n",
    "        # If the size is a square you can only specify a single number\n",
    "        x = F.max_pool2d(F.relu(self.conv2(x)), 2)\n",
    "        x = x.view(-1, self.num_flat_features(x))\n",
    "        x = F.relu(self.fc1(x))\n",
    "        x = F.relu(self.fc2(x))\n",
    "        x = self.fc3(x)\n",
    "        return x\n",
    "\n",
    "    def num_flat_features(self, x):\n",
    "        size = x.size()[1:]  # all dimensions except the batch dimension\n",
    "        num_features = 1\n",
    "        for s in size:\n",
    "            num_features *= s\n",
    "        return num_features\n",
    "\n",
    "\n",
    "net = Net()\n",
    "print(net)"
   ]
  },
  {
   "cell_type": "code",
   "execution_count": 77,
   "id": "dee7f6c2",
   "metadata": {},
   "outputs": [
    {
     "name": "stdout",
     "output_type": "stream",
     "text": [
      "tensor([[-0.0799, -0.1245,  0.0236,  0.0102,  0.1001,  0.0958,  0.0636,  0.0279,\n",
      "          0.0887, -0.0395]], grad_fn=<AddmmBackward>)\n"
     ]
    }
   ],
   "source": [
    "input = torch.randn(1, 1, 32, 32)\n",
    "out = net(input)\n",
    "print(out)"
   ]
  }
 ],
 "metadata": {
  "kernelspec": {
   "display_name": "Python [conda env:pytorch]",
   "language": "python",
   "name": "conda-env-pytorch-py"
  },
  "language_info": {
   "codemirror_mode": {
    "name": "ipython",
    "version": 3
   },
   "file_extension": ".py",
   "mimetype": "text/x-python",
   "name": "python",
   "nbconvert_exporter": "python",
   "pygments_lexer": "ipython3",
   "version": "3.9.7"
  },
  "toc": {
   "base_numbering": 1,
   "nav_menu": {},
   "number_sections": true,
   "sideBar": true,
   "skip_h1_title": false,
   "title_cell": "Table of Contents",
   "title_sidebar": "Contents",
   "toc_cell": false,
   "toc_position": {},
   "toc_section_display": true,
   "toc_window_display": false
  },
  "varInspector": {
   "cols": {
    "lenName": 16,
    "lenType": 16,
    "lenVar": 40
   },
   "kernels_config": {
    "python": {
     "delete_cmd_postfix": "",
     "delete_cmd_prefix": "del ",
     "library": "var_list.py",
     "varRefreshCmd": "print(var_dic_list())"
    },
    "r": {
     "delete_cmd_postfix": ") ",
     "delete_cmd_prefix": "rm(",
     "library": "var_list.r",
     "varRefreshCmd": "cat(var_dic_list()) "
    }
   },
   "types_to_exclude": [
    "module",
    "function",
    "builtin_function_or_method",
    "instance",
    "_Feature"
   ],
   "window_display": false
  }
 },
 "nbformat": 4,
 "nbformat_minor": 5
}
