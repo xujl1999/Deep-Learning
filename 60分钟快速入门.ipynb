{
 "cells": [
  {
   "cell_type": "markdown",
   "id": "a0679982",
   "metadata": {},
   "source": [
    "学习资料来源：https://github.com/zergtant/pytorch-handbook/blob/master/chapter1/1.3-deep-learning-with-pytorch-60-minute-blitz.md\n",
    "# 官方60min快速入门"
   ]
  },
  {
   "cell_type": "code",
   "execution_count": 1,
   "id": "f300a5c5",
   "metadata": {},
   "outputs": [],
   "source": [
    "import pandas as pd\n",
    "import matplotlib.pyplot as plt\n",
    "import torch\n",
    "import numpy as np\n",
    "%matplotlib inline\n",
    "#可以直接在控制台显示图片\n",
    "from __future__ import print_function # print函数需要按照python3的版本使用，没啥用对python3"
   ]
  },
  {
   "cell_type": "markdown",
   "id": "7e62bc61",
   "metadata": {},
   "source": [
    "## 张量"
   ]
  },
  {
   "cell_type": "markdown",
   "id": "21270775",
   "metadata": {},
   "source": [
    "### 基本语法\n",
    "* empty, ones, zeros  和numpy语法基本一致，torch不用必须加括号\n",
    "* 随机不同\n",
    "* torch.tensor\n",
    "* x.new_ones(size)用现有张量创建新张量，继承例如dtype的属性（也可以覆盖）\n",
    "* 注意随机是torch.randn_like(x,dtype)——size相同\n",
    "* 张量的size就是numpy的shape，返回tuple类型"
   ]
  },
  {
   "cell_type": "code",
   "execution_count": 2,
   "id": "d623a397",
   "metadata": {},
   "outputs": [
    {
     "data": {
      "text/plain": [
       "tensor([[7.1118e-04, 1.7444e+28, 7.3909e+22],\n",
       "        [1.8727e+31, 1.4182e-19, 4.6168e+24],\n",
       "        [4.2964e+24, 1.2514e-14, 8.9634e-33],\n",
       "        [7.1345e+31, 7.1118e-04, 1.7444e+28],\n",
       "        [7.3909e+22, 1.8727e+31, 1.3179e+25]])"
      ]
     },
     "execution_count": 2,
     "metadata": {},
     "output_type": "execute_result"
    }
   ],
   "source": [
    "x = torch.empty(5,3)\n",
    "x"
   ]
  },
  {
   "cell_type": "markdown",
   "id": "0dd351a2",
   "metadata": {},
   "source": [
    "注意随机与np不同"
   ]
  },
  {
   "cell_type": "code",
   "execution_count": 3,
   "id": "212ac782",
   "metadata": {},
   "outputs": [
    {
     "data": {
      "text/plain": [
       "tensor([[0.1816, 0.8544, 0.8596, 0.9960],\n",
       "        [0.8540, 0.9287, 0.0634, 0.4754],\n",
       "        [0.6223, 0.5609, 0.2511, 0.0973],\n",
       "        [0.4158, 0.1451, 0.5508, 0.6131],\n",
       "        [0.0632, 0.5351, 0.8521, 0.3550]])"
      ]
     },
     "execution_count": 3,
     "metadata": {},
     "output_type": "execute_result"
    }
   ],
   "source": [
    "np.random.rand(5,4)\n",
    "torch.rand(5,4) "
   ]
  },
  {
   "cell_type": "code",
   "execution_count": 4,
   "id": "0359fa25",
   "metadata": {},
   "outputs": [
    {
     "data": {
      "text/plain": [
       "tensor([5.5000, 3.0000])"
      ]
     },
     "execution_count": 4,
     "metadata": {},
     "output_type": "execute_result"
    }
   ],
   "source": [
    "x = torch.tensor([5.5, 3],dtype = torch.float)\n",
    "x"
   ]
  },
  {
   "cell_type": "code",
   "execution_count": 5,
   "id": "7a94ba15",
   "metadata": {},
   "outputs": [
    {
     "data": {
      "text/plain": [
       "tensor([[0.0772, 0.5509, 0.1809],\n",
       "        [0.3924, 0.1594, 0.8537],\n",
       "        [0.4111, 0.7254, 0.1467],\n",
       "        [0.2207, 0.2821, 0.6530],\n",
       "        [0.5709, 0.6686, 0.2106]])"
      ]
     },
     "execution_count": 5,
     "metadata": {},
     "output_type": "execute_result"
    }
   ],
   "source": [
    "x = x.new_ones(5,3)\n",
    "x = x.new_zeros(5,3)\n",
    "torch.rand_like(x)"
   ]
  },
  {
   "cell_type": "code",
   "execution_count": 6,
   "id": "cccb6527",
   "metadata": {},
   "outputs": [
    {
     "data": {
      "text/plain": [
       "True"
      ]
     },
     "execution_count": 6,
     "metadata": {},
     "output_type": "execute_result"
    }
   ],
   "source": [
    "x.size() == x.shape # 返回tuple类型"
   ]
  },
  {
   "cell_type": "markdown",
   "id": "c2b6cd33",
   "metadata": {},
   "source": [
    "### 基本运算\n",
    "* 加法1、2\n",
    "* 替换\n",
    "\n",
    "* add可以提供输出"
   ]
  },
  {
   "cell_type": "code",
   "execution_count": 7,
   "id": "830ac0f4",
   "metadata": {},
   "outputs": [
    {
     "data": {
      "text/plain": [
       "tensor([[0.4795, 0.8546, 0.4659],\n",
       "        [0.0204, 0.5176, 0.1152],\n",
       "        [0.6635, 0.1203, 0.6060],\n",
       "        [0.5303, 0.2482, 0.6438],\n",
       "        [0.6119, 0.8016, 0.6069]])"
      ]
     },
     "execution_count": 7,
     "metadata": {},
     "output_type": "execute_result"
    }
   ],
   "source": [
    "y = torch.rand(5,3)\n",
    "x + y"
   ]
  },
  {
   "cell_type": "code",
   "execution_count": 8,
   "id": "9a878f43",
   "metadata": {},
   "outputs": [
    {
     "data": {
      "text/plain": [
       "tensor([[True, True, True],\n",
       "        [True, True, True],\n",
       "        [True, True, True],\n",
       "        [True, True, True],\n",
       "        [True, True, True]])"
      ]
     },
     "execution_count": 8,
     "metadata": {},
     "output_type": "execute_result"
    }
   ],
   "source": [
    "torch.add(x,y) == x+y"
   ]
  },
  {
   "cell_type": "code",
   "execution_count": 9,
   "id": "9d1f4917",
   "metadata": {},
   "outputs": [
    {
     "data": {
      "text/plain": [
       "tensor([[0.4795, 0.8546, 0.4659],\n",
       "        [0.0204, 0.5176, 0.1152],\n",
       "        [0.6635, 0.1203, 0.6060],\n",
       "        [0.5303, 0.2482, 0.6438],\n",
       "        [0.6119, 0.8016, 0.6069]])"
      ]
     },
     "execution_count": 9,
     "metadata": {},
     "output_type": "execute_result"
    }
   ],
   "source": [
    "result = torch.empty(5,3)\n",
    "torch.add(x,y,out = result)"
   ]
  },
  {
   "cell_type": "code",
   "execution_count": 10,
   "id": "6436c9bc",
   "metadata": {},
   "outputs": [],
   "source": [
    "x = torch.ones(5,3)"
   ]
  },
  {
   "cell_type": "markdown",
   "id": "6cbe4859",
   "metadata": {},
   "source": [
    "<div class = \"alert alert-info\"><h4>Note<p>任何以\"_\"结尾的操作都会用结果替换原变量。"
   ]
  },
  {
   "cell_type": "code",
   "execution_count": 11,
   "id": "412bc7dc",
   "metadata": {},
   "outputs": [
    {
     "data": {
      "text/plain": [
       "tensor([[1.4795, 1.8546, 1.4659],\n",
       "        [1.0204, 1.5176, 1.1152],\n",
       "        [1.6635, 1.1203, 1.6060],\n",
       "        [1.5303, 1.2482, 1.6438],\n",
       "        [1.6119, 1.8016, 1.6069]])"
      ]
     },
     "execution_count": 11,
     "metadata": {},
     "output_type": "execute_result"
    }
   ],
   "source": [
    "y.add_(x)"
   ]
  },
  {
   "cell_type": "code",
   "execution_count": 12,
   "id": "b294b07f",
   "metadata": {},
   "outputs": [
    {
     "data": {
      "text/plain": [
       "tensor([[1.4795, 1.8546, 1.4659],\n",
       "        [1.0204, 1.5176, 1.1152],\n",
       "        [1.6635, 1.1203, 1.6060],\n",
       "        [1.5303, 1.2482, 1.6438],\n",
       "        [1.6119, 1.8016, 1.6069]])"
      ]
     },
     "execution_count": 12,
     "metadata": {},
     "output_type": "execute_result"
    }
   ],
   "source": [
    "x.copy_(y)"
   ]
  },
  {
   "cell_type": "code",
   "execution_count": 13,
   "id": "a5ea5164",
   "metadata": {},
   "outputs": [
    {
     "data": {
      "text/plain": [
       "tensor([[1.4795, 1.0204, 1.6635, 1.5303, 1.6119],\n",
       "        [1.8546, 1.5176, 1.1203, 1.2482, 1.8016],\n",
       "        [1.4659, 1.1152, 1.6060, 1.6438, 1.6069]])"
      ]
     },
     "execution_count": 13,
     "metadata": {},
     "output_type": "execute_result"
    }
   ],
   "source": [
    "x.t_()"
   ]
  },
  {
   "cell_type": "markdown",
   "id": "e78b9927",
   "metadata": {},
   "source": [
    "### 索引、变形\n",
    "* 索引和numpy差不多\n",
    "* 变形用view（reshape）\n",
    "* 如果你有只有一个元素的张量，使用.item()来得到Python数据类型的数值"
   ]
  },
  {
   "cell_type": "code",
   "execution_count": 14,
   "id": "c9d897bd",
   "metadata": {},
   "outputs": [
    {
     "data": {
      "text/plain": [
       "tensor([1.5303, 1.2482, 1.6438])"
      ]
     },
     "execution_count": 14,
     "metadata": {},
     "output_type": "execute_result"
    }
   ],
   "source": [
    "x[:,3]"
   ]
  },
  {
   "cell_type": "code",
   "execution_count": 15,
   "id": "0d07ff0d",
   "metadata": {},
   "outputs": [
    {
     "data": {
      "text/plain": [
       "torch.Size([3, 5])"
      ]
     },
     "execution_count": 15,
     "metadata": {},
     "output_type": "execute_result"
    }
   ],
   "source": [
    "x.size()"
   ]
  },
  {
   "cell_type": "code",
   "execution_count": 16,
   "id": "156d7fa3",
   "metadata": {},
   "outputs": [
    {
     "data": {
      "text/plain": [
       "tensor([[1.4795, 1.0204, 1.6635],\n",
       "        [1.5303, 1.6119, 1.8546],\n",
       "        [1.5176, 1.1203, 1.2482],\n",
       "        [1.8016, 1.4659, 1.1152],\n",
       "        [1.6060, 1.6438, 1.6069]])"
      ]
     },
     "execution_count": 16,
     "metadata": {},
     "output_type": "execute_result"
    }
   ],
   "source": [
    "x.contiguous().view(5,3)\n",
    "# 搞不懂为啥这里不加.contiguous()就会报错"
   ]
  },
  {
   "cell_type": "code",
   "execution_count": 17,
   "id": "48a8c507",
   "metadata": {},
   "outputs": [
    {
     "data": {
      "text/plain": [
       "tensor([1.4795, 1.0204, 1.6635, 1.5303, 1.6119, 1.8546, 1.5176, 1.1203, 1.2482,\n",
       "        1.8016, 1.4659, 1.1152, 1.6060, 1.6438, 1.6069])"
      ]
     },
     "execution_count": 17,
     "metadata": {},
     "output_type": "execute_result"
    }
   ],
   "source": [
    "x.reshape(15)"
   ]
  },
  {
   "cell_type": "code",
   "execution_count": 18,
   "id": "f0cf9bcb",
   "metadata": {},
   "outputs": [
    {
     "data": {
      "text/plain": [
       "(torch.Size([4, 4]), torch.Size([16]), torch.Size([2, 8]))"
      ]
     },
     "execution_count": 18,
     "metadata": {},
     "output_type": "execute_result"
    }
   ],
   "source": [
    "x = torch.randn(4,4)\n",
    "y = x.view(16)\n",
    "x.view(16)\n",
    "z = x.view(-1,8)\n",
    "x.size(), y.size(), z.size()"
   ]
  },
  {
   "cell_type": "code",
   "execution_count": 19,
   "id": "9c9eb0e0",
   "metadata": {},
   "outputs": [
    {
     "name": "stdout",
     "output_type": "stream",
     "text": [
      "tensor([0.4179])\n",
      "0.41790953278541565\n"
     ]
    }
   ],
   "source": [
    "x = torch.randn(1)\n",
    "print(x)\n",
    "print(x.item())"
   ]
  },
  {
   "cell_type": "markdown",
   "id": "53b2d2cd",
   "metadata": {},
   "source": [
    "### NumPy转换\n",
    "* 两者共享底层内存地址，修改一个会导致另一个的变化。"
   ]
  },
  {
   "cell_type": "markdown",
   "id": "4af0d637",
   "metadata": {},
   "source": [
    "Tensor → NumPy"
   ]
  },
  {
   "cell_type": "code",
   "execution_count": 20,
   "id": "5c5c48fb",
   "metadata": {},
   "outputs": [
    {
     "data": {
      "text/plain": [
       "(array([1., 1., 1., 1., 1.], dtype=float32), tensor([1., 1., 1., 1., 1.]))"
      ]
     },
     "execution_count": 20,
     "metadata": {},
     "output_type": "execute_result"
    }
   ],
   "source": [
    "a = torch.ones(5)\n",
    "b = a.numpy()\n",
    "b,a"
   ]
  },
  {
   "cell_type": "code",
   "execution_count": 21,
   "id": "98cbfbfd",
   "metadata": {},
   "outputs": [
    {
     "data": {
      "text/plain": [
       "(tensor([2., 2., 2., 2., 2.]), array([2., 2., 2., 2., 2.], dtype=float32))"
      ]
     },
     "execution_count": 21,
     "metadata": {},
     "output_type": "execute_result"
    }
   ],
   "source": [
    "a.add_(1)\n",
    "a,b"
   ]
  },
  {
   "cell_type": "markdown",
   "id": "8d83d3b1",
   "metadata": {},
   "source": [
    "Numpy → Tensor\n",
    "\n",
    "``torch.from_numpy(array)``"
   ]
  },
  {
   "cell_type": "code",
   "execution_count": 22,
   "id": "45d531aa",
   "metadata": {},
   "outputs": [
    {
     "data": {
      "text/plain": [
       "(array([1., 1., 1., 1., 1.]),\n",
       " tensor([1., 1., 1., 1., 1.], dtype=torch.float64))"
      ]
     },
     "execution_count": 22,
     "metadata": {},
     "output_type": "execute_result"
    }
   ],
   "source": [
    "a = np.ones(5)\n",
    "b = torch.from_numpy(a)\n",
    "a,b"
   ]
  },
  {
   "cell_type": "code",
   "execution_count": 23,
   "id": "1c6337e7",
   "metadata": {},
   "outputs": [
    {
     "data": {
      "text/plain": [
       "(array([2., 2., 2., 2., 2.]),\n",
       " tensor([2., 2., 2., 2., 2.], dtype=torch.float64))"
      ]
     },
     "execution_count": 23,
     "metadata": {},
     "output_type": "execute_result"
    }
   ],
   "source": [
    "np.add(a,1,out = a)\n",
    "a,b"
   ]
  },
  {
   "cell_type": "markdown",
   "id": "0f9d749a",
   "metadata": {},
   "source": [
    "所有的 Tensor 类型默认都是基于CPU， CharTensor 类型不支持到 NumPy 的转换."
   ]
  },
  {
   "cell_type": "markdown",
   "id": "f961b974",
   "metadata": {},
   "source": [
    "### CUDA张量\n",
    "* ``.to``方法可以将Tensor移动到任何设备中"
   ]
  },
  {
   "cell_type": "code",
   "execution_count": 24,
   "id": "f390dabd",
   "metadata": {},
   "outputs": [
    {
     "data": {
      "text/plain": [
       "True"
      ]
     },
     "execution_count": 24,
     "metadata": {},
     "output_type": "execute_result"
    }
   ],
   "source": [
    "torch.cuda.is_available()"
   ]
  },
  {
   "cell_type": "code",
   "execution_count": 25,
   "id": "e89b4fe2",
   "metadata": {},
   "outputs": [
    {
     "data": {
      "text/plain": [
       "device(type='cpu')"
      ]
     },
     "execution_count": 25,
     "metadata": {},
     "output_type": "execute_result"
    }
   ],
   "source": [
    "torch.device('cuda')\n",
    "torch.device('cpu')"
   ]
  },
  {
   "cell_type": "code",
   "execution_count": 26,
   "id": "d6687a50",
   "metadata": {},
   "outputs": [
    {
     "data": {
      "text/plain": [
       "tensor([1.4179], device='cuda:0')"
      ]
     },
     "execution_count": 26,
     "metadata": {},
     "output_type": "execute_result"
    }
   ],
   "source": [
    "# if torch.cuda.is_available():\n",
    "device = torch.device('cuda')\n",
    "y_1 = torch.ones_like(x, device = device)\n",
    "x_1 = x.to(device)\n",
    "z_1 = x_1 + y_1\n",
    "z_1"
   ]
  },
  {
   "cell_type": "code",
   "execution_count": 27,
   "id": "83742398",
   "metadata": {},
   "outputs": [
    {
     "data": {
      "text/plain": [
       "tensor([2.4179], device='cuda:0')"
      ]
     },
     "execution_count": 27,
     "metadata": {},
     "output_type": "execute_result"
    }
   ],
   "source": [
    "y_1 + z_1"
   ]
  },
  {
   "cell_type": "code",
   "execution_count": 28,
   "id": "fc1dbcb7",
   "metadata": {
    "scrolled": true
   },
   "outputs": [
    {
     "data": {
      "text/plain": [
       "tensor([1.4179])"
      ]
     },
     "execution_count": 28,
     "metadata": {},
     "output_type": "execute_result"
    }
   ],
   "source": [
    "z_1 = z_1.to('cpu')\n",
    "z_1"
   ]
  },
  {
   "cell_type": "code",
   "execution_count": 29,
   "id": "ceb99546",
   "metadata": {},
   "outputs": [
    {
     "data": {
      "text/plain": [
       "tensor([1.4179])"
      ]
     },
     "execution_count": 29,
     "metadata": {},
     "output_type": "execute_result"
    }
   ],
   "source": [
    "z_1.to(\"cpu\")"
   ]
  },
  {
   "cell_type": "code",
   "execution_count": 30,
   "id": "26e8921a",
   "metadata": {},
   "outputs": [
    {
     "data": {
      "text/plain": [
       "'\\nExpected all tensors to be on the same device, but found at least two devices, cuda:0 and cpu!\\n'"
      ]
     },
     "execution_count": 30,
     "metadata": {},
     "output_type": "execute_result"
    }
   ],
   "source": [
    "# y_1 + z_1\n",
    "'''\n",
    "Expected all tensors to be on the same device, but found at least two devices, cuda:0 and cpu!\n",
    "'''"
   ]
  },
  {
   "cell_type": "code",
   "execution_count": 31,
   "id": "31092312",
   "metadata": {},
   "outputs": [
    {
     "data": {
      "text/plain": [
       "(tensor([True], device='cuda:0'), tensor([True], device='cuda:0'))"
      ]
     },
     "execution_count": 31,
     "metadata": {},
     "output_type": "execute_result"
    }
   ],
   "source": [
    "y_2 = torch.ones_like(x, device = 'cuda')\n",
    "x_2 = x.to(\"cuda\")\n",
    "z_2 = y_2 + x_2\n",
    "\n",
    "x_1 == x_2, y_1 == y_2"
   ]
  },
  {
   "cell_type": "code",
   "execution_count": 32,
   "id": "dcf24747",
   "metadata": {},
   "outputs": [
    {
     "data": {
      "text/plain": [
       "'\\nExpected all tensors to be on the same device, but found at least two devices, cuda:0 and cpu!\\n'"
      ]
     },
     "execution_count": 32,
     "metadata": {},
     "output_type": "execute_result"
    }
   ],
   "source": [
    "#  z_1 == z_2\n",
    "'''\n",
    "Expected all tensors to be on the same device, but found at least two devices, cuda:0 and cpu!\n",
    "'''"
   ]
  },
  {
   "cell_type": "markdown",
   "id": "2f490c1b",
   "metadata": {},
   "source": [
    "### 更多\n",
    "100+ Tensor operations, including transposing, indexing, slicing, mathematical operations, linear algebra, random numbers, etc., are described here <https://pytorch.org/docs/torch>_."
   ]
  },
  {
   "cell_type": "markdown",
   "id": "9d568e4a",
   "metadata": {},
   "source": [
    "# Autograd:自动求导机制\n",
    "## Tensor 张量\n",
    "\n",
    "* ```torch.Tensor```是这个包的核心类\n",
    "* 如果设置```.requires_grad```为```True```,会追踪所有对于该张量的操作\n",
    "* ```.backward()```自动计算所有的梯度，积累到```.grad```属性\n",
    "* ```.detach()```方法将张量与其计算历史记录分离，禁止跟踪它将来的计算记录\n",
    "* ```with torch.no_grad():```将代码块包装其中，以阻止跟踪历史记录占用内存。在评估模型时特别有用，因为模型可能具有```requires_grad = True```的可训练参数，但是我们不需要梯度计算。\n",
    "* ```Function```是另一个自动梯度计算的重要类\n",
    "\n",
    "Tensor 和 Function互相连接并生成一个非循环图，它表示和存储了完整的计算历史。 每个张量都有一个```.grad_fn```属性，这个属性引用了一个创建了Tensor的Function（除非这个张量是用户手动创建的，即，这个张量的 ```grad_fn ```是 ```None```）。\n",
    "\n",
    "如果需要计算导数，你可以在```Tensor```上调用```.backward()```。 如果Tensor是一个标量（即它包含一个元素数据）则不需要为```backward()```指定任何参数， 但是如果它有更多的元素，你需要指定一个```gradient``` 参数来匹配张量的形状。"
   ]
  },
  {
   "cell_type": "markdown",
   "id": "5332d5ae",
   "metadata": {},
   "source": [
    "创建一个张量并设置追踪他的计算历史"
   ]
  },
  {
   "cell_type": "code",
   "execution_count": 33,
   "id": "cfc81d9c",
   "metadata": {},
   "outputs": [
    {
     "data": {
      "text/plain": [
       "tensor([[1., 1.],\n",
       "        [1., 1.]], requires_grad=True)"
      ]
     },
     "execution_count": 33,
     "metadata": {},
     "output_type": "execute_result"
    }
   ],
   "source": [
    "import torch\n",
    "x = torch.ones(2, 2, requires_grad=True)\n",
    "x"
   ]
  },
  {
   "cell_type": "code",
   "execution_count": 34,
   "id": "b2cd454a",
   "metadata": {
    "scrolled": true
   },
   "outputs": [
    {
     "data": {
      "text/plain": [
       "tensor([[3., 3.],\n",
       "        [3., 3.]], grad_fn=<AddBackward0>)"
      ]
     },
     "execution_count": 34,
     "metadata": {},
     "output_type": "execute_result"
    }
   ],
   "source": [
    "y = x + 2\n",
    "y"
   ]
  },
  {
   "cell_type": "markdown",
   "id": "710c04e8",
   "metadata": {},
   "source": [
    "结果y已经被计算出来了，所以，grad_fn已经被自动生成了。"
   ]
  },
  {
   "cell_type": "code",
   "execution_count": 35,
   "id": "1d3d481c",
   "metadata": {},
   "outputs": [
    {
     "data": {
      "text/plain": [
       "<AddBackward0 at 0x1e8820fb460>"
      ]
     },
     "execution_count": 35,
     "metadata": {},
     "output_type": "execute_result"
    }
   ],
   "source": [
    "y.grad_fn"
   ]
  },
  {
   "cell_type": "markdown",
   "id": "6bfd77f0",
   "metadata": {},
   "source": [
    "对y进行一个操作"
   ]
  },
  {
   "cell_type": "code",
   "execution_count": 36,
   "id": "78fcedd0",
   "metadata": {},
   "outputs": [
    {
     "data": {
      "text/plain": [
       "(tensor([[27., 27.],\n",
       "         [27., 27.]], grad_fn=<MulBackward0>),\n",
       " tensor(27., grad_fn=<MeanBackward0>))"
      ]
     },
     "execution_count": 36,
     "metadata": {},
     "output_type": "execute_result"
    }
   ],
   "source": [
    "z = y * y * 3\n",
    "out = z.mean()\n",
    "\n",
    "z, out"
   ]
  },
  {
   "cell_type": "markdown",
   "id": "10eb1964",
   "metadata": {},
   "source": [
    "```.requires_grad_( ... ) ```可以改变现有张量的```requires_grad```属性。 如果没有指定的话，默认输入的```flag```是 ```False```。"
   ]
  },
  {
   "cell_type": "code",
   "execution_count": 37,
   "id": "09607dcb",
   "metadata": {},
   "outputs": [
    {
     "name": "stdout",
     "output_type": "stream",
     "text": [
      "False\n",
      "True\n",
      "<SumBackward0 object at 0x000001E8821011C0>\n"
     ]
    }
   ],
   "source": [
    "a = torch.randn(2, 2)\n",
    "a = ((a * 3) / (a - 1))\n",
    "print(a.requires_grad)\n",
    "\n",
    "a.requires_grad_(True)\n",
    "print(a.requires_grad)\n",
    "\n",
    "b = (a * a).sum()\n",
    "print(b.grad_fn)"
   ]
  },
  {
   "attachments": {
    "image.png": {
     "image/png": "[encoded data removed]"
    }
   },
   "cell_type": "markdown",
   "id": "9d294f2c",
   "metadata": {},
   "source": [
    "## 梯度\n",
    "<font color='red'>反向传播 </font>因为 ```out```是一个纯量```（scalar）```，```out.backward()``` 等于```out.backward(torch.tensor(1))```\n",
    "* 啥意思？必须是标量对矩阵求导？？\n",
    "* 雅可比矩阵是一阶偏导数以一定方式排列成的矩阵，类似于多元函数的导数\n",
    "* ```torch.autograd```就是用来计算`vector-Jacobian product`的工具\n",
    "* 基于链式法则![image.png](attachment:image.png)"
   ]
  },
  {
   "attachments": {
    "image.png": {
     "image/png": "[encoded data removed]"
    }
   },
   "cell_type": "markdown",
   "id": "19892cb5",
   "metadata": {},
   "source": [
    "![image.png](attachment:image.png)\n",
    "vector-Jacobian product 这种特性使得将外部梯度返回到具有非标量输出的模型变得非常方便。"
   ]
  },
  {
   "cell_type": "code",
   "execution_count": 38,
   "id": "c911b745",
   "metadata": {},
   "outputs": [],
   "source": [
    "out.backward()"
   ]
  },
  {
   "cell_type": "markdown",
   "id": "e8cbed16",
   "metadata": {},
   "source": [
    "print gradients ```d(out)/dx```"
   ]
  },
  {
   "cell_type": "code",
   "execution_count": 39,
   "id": "bf75f209",
   "metadata": {},
   "outputs": [
    {
     "data": {
      "text/plain": [
       "tensor([[4.5000, 4.5000],\n",
       "        [4.5000, 4.5000]])"
      ]
     },
     "execution_count": 39,
     "metadata": {},
     "output_type": "execute_result"
    }
   ],
   "source": [
    "x.grad"
   ]
  },
  {
   "cell_type": "code",
   "execution_count": 40,
   "id": "7f37016e",
   "metadata": {},
   "outputs": [
    {
     "data": {
      "text/plain": [
       "tensor([404.0619, 682.1380, 751.5862], grad_fn=<MulBackward0>)"
      ]
     },
     "execution_count": 40,
     "metadata": {},
     "output_type": "execute_result"
    }
   ],
   "source": [
    "'''\n",
    "    x.data可以去掉requires_grad属性，只保留值\n",
    "    tensor.norm()是计算范数\n",
    "'''\n",
    "x = torch.randn(3, requires_grad=True)\n",
    "i = 1\n",
    "y = x + 2\n",
    "while y.data.norm() < 1000:\n",
    "    y = y * 2\n",
    "    i *= 2\n",
    "y"
   ]
  },
  {
   "cell_type": "markdown",
   "id": "2a390b41",
   "metadata": {},
   "source": [
    "<font color = 'red'> ``.backward()``括号里是啥玩意？？？"
   ]
  },
  {
   "cell_type": "markdown",
   "id": "1b925650",
   "metadata": {},
   "source": [
    "在这个情形中，y不再是个标量。`torch.autograd`无法直接计算出完整的雅可比行列，但是如果我们只想要`vector-Jacobian product`，只需将向量作为参数传入`backward`："
   ]
  },
  {
   "cell_type": "markdown",
   "id": "447b02e5",
   "metadata": {},
   "source": [
    "* 括号里面的参数是上面的$v$，<font color = 'red'>如果正好是某个标量函数$l = g(y)$的梯度的话</font>，就能求出来$l$关于$x$的梯度\n",
    "* 总的来说`.backward()`括号中加一个向量就是原雅可比矩阵乘上括号中的向量\n",
    "* <font color = 'red'>那原雅可比行列式又是啥玩意？</font>\n",
    "* <font color = 'red'>就是说如果要输出一个向量y对向量x的雅可比矩阵，我括号里应该输入（1，1，1...）?</font>"
   ]
  },
  {
   "cell_type": "code",
   "execution_count": 41,
   "id": "af158e85",
   "metadata": {},
   "outputs": [
    {
     "data": {
      "text/plain": [
       "tensor([256., 256., 256.])"
      ]
     },
     "execution_count": 41,
     "metadata": {},
     "output_type": "execute_result"
    }
   ],
   "source": [
    "gradients = torch.tensor([1, 1, 1], dtype = torch.float)\n",
    "y.backward(gradients)\n",
    "\n",
    "x.grad"
   ]
  },
  {
   "cell_type": "code",
   "execution_count": 42,
   "id": "bf2dfb7b",
   "metadata": {},
   "outputs": [
    {
     "data": {
      "text/plain": [
       "tensor([256., 256., 256.], grad_fn=<DivBackward0>)"
      ]
     },
     "execution_count": 42,
     "metadata": {},
     "output_type": "execute_result"
    }
   ],
   "source": [
    "y/(x+2)"
   ]
  },
  {
   "cell_type": "code",
   "execution_count": 43,
   "id": "7657c70a",
   "metadata": {},
   "outputs": [
    {
     "data": {
      "text/plain": [
       "'\\n    没搞懂为啥要取这个例子\\n'"
      ]
     },
     "execution_count": 43,
     "metadata": {},
     "output_type": "execute_result"
    }
   ],
   "source": [
    "'''\n",
    "    没搞懂为啥要取这个例子\n",
    "'''\n",
    "# gradients = torch.tensor([0.1, 1.0, 0.0001], dtype = torch.float)\n",
    "# y.backward(gradients)\n",
    "\n",
    "# x.grad"
   ]
  },
  {
   "cell_type": "markdown",
   "id": "98681749",
   "metadata": {},
   "source": [
    "如果`.requires_grad=True`但是你有不希望进行autograd运算，那么可以把变量包裹在`with torch.no_grad()`中\n",
    "* <font color = \"red\">`with`语句是个啥东西</font>"
   ]
  },
  {
   "cell_type": "code",
   "execution_count": 44,
   "id": "9e009c82",
   "metadata": {},
   "outputs": [
    {
     "data": {
      "text/plain": [
       "True"
      ]
     },
     "execution_count": 44,
     "metadata": {},
     "output_type": "execute_result"
    }
   ],
   "source": [
    "x.requires_grad"
   ]
  },
  {
   "cell_type": "code",
   "execution_count": 45,
   "id": "82a5c835",
   "metadata": {},
   "outputs": [
    {
     "data": {
      "text/plain": [
       "True"
      ]
     },
     "execution_count": 45,
     "metadata": {},
     "output_type": "execute_result"
    }
   ],
   "source": [
    "(x ** 2).requires_grad"
   ]
  },
  {
   "cell_type": "code",
   "execution_count": 46,
   "id": "14a3c13c",
   "metadata": {},
   "outputs": [
    {
     "name": "stdout",
     "output_type": "stream",
     "text": [
      "False\n"
     ]
    }
   ],
   "source": [
    "with torch.no_grad():\n",
    "    print((x ** 2).requires_grad)"
   ]
  },
  {
   "cell_type": "markdown",
   "id": "162e4420",
   "metadata": {},
   "source": [
    "### 再小试一下with torch.no_grad():\n",
    "* 来源：https://zhuanlan.zhihu.com/p/386454263"
   ]
  },
  {
   "cell_type": "code",
   "execution_count": 47,
   "id": "85fd420a",
   "metadata": {},
   "outputs": [
    {
     "data": {
      "text/plain": [
       "tensor([2.2000], grad_fn=<MulBackward0>)"
      ]
     },
     "execution_count": 47,
     "metadata": {},
     "output_type": "execute_result"
    }
   ],
   "source": [
    "a = torch.tensor([1.1], requires_grad=True)\n",
    "b = a * 2\n",
    "b"
   ]
  },
  {
   "cell_type": "markdown",
   "id": "df899bfb",
   "metadata": {},
   "source": [
    "grad_fn=\\<MulBackward0>表示乘法的反向梯度函数"
   ]
  },
  {
   "cell_type": "code",
   "execution_count": 48,
   "id": "20a4c527",
   "metadata": {},
   "outputs": [
    {
     "data": {
      "text/plain": [
       "tensor([4.2000], grad_fn=<AddBackward0>)"
      ]
     },
     "execution_count": 48,
     "metadata": {},
     "output_type": "execute_result"
    }
   ],
   "source": [
    "b.add_(2)"
   ]
  },
  {
   "cell_type": "markdown",
   "id": "9ad67a20",
   "metadata": {},
   "source": [
    "grad_fn=\\<AddBackward0>表明是add的反向梯度函数"
   ]
  },
  {
   "cell_type": "code",
   "execution_count": 49,
   "id": "980f2f39",
   "metadata": {},
   "outputs": [
    {
     "data": {
      "text/plain": [
       "tensor([8.4000], grad_fn=<AddBackward0>)"
      ]
     },
     "execution_count": 49,
     "metadata": {},
     "output_type": "execute_result"
    }
   ],
   "source": [
    "with torch.no_grad():\n",
    "    b.mul_(2)\n",
    "b"
   ]
  },
  {
   "cell_type": "markdown",
   "id": "3266d6f6",
   "metadata": {},
   "source": [
    "tensor([8.4000], grad_fn=\\<AddBackward0>) 可以看到没有跟踪乘法的梯度，还是上面的加法的梯度函数，不过乘法是执行了的"
   ]
  },
  {
   "cell_type": "code",
   "execution_count": null,
   "id": "fcade9ea",
   "metadata": {},
   "outputs": [],
   "source": []
  },
  {
   "cell_type": "code",
   "execution_count": null,
   "id": "0bc89627",
   "metadata": {},
   "outputs": [],
   "source": []
  },
  {
   "cell_type": "code",
   "execution_count": null,
   "id": "cd820b95",
   "metadata": {},
   "outputs": [],
   "source": []
  },
  {
   "cell_type": "code",
   "execution_count": null,
   "id": "e9d3d784",
   "metadata": {},
   "outputs": [],
   "source": []
  },
  {
   "cell_type": "code",
   "execution_count": null,
   "id": "58c428ad",
   "metadata": {},
   "outputs": [],
   "source": []
  },
  {
   "cell_type": "code",
   "execution_count": null,
   "id": "eb9ddcb0",
   "metadata": {},
   "outputs": [],
   "source": []
  },
  {
   "cell_type": "code",
   "execution_count": null,
   "id": "970f2f34",
   "metadata": {},
   "outputs": [],
   "source": []
  }
 ],
 "metadata": {
  "kernelspec": {
   "display_name": "Python [conda env:pytorch]",
   "language": "python",
   "name": "conda-env-pytorch-py"
  },
  "language_info": {
   "codemirror_mode": {
    "name": "ipython",
    "version": 3
   },
   "file_extension": ".py",
   "mimetype": "text/x-python",
   "name": "python",
   "nbconvert_exporter": "python",
   "pygments_lexer": "ipython3",
   "version": "3.9.7"
  },
  "toc": {
   "base_numbering": 1,
   "nav_menu": {},
   "number_sections": true,
   "sideBar": true,
   "skip_h1_title": false,
   "title_cell": "Table of Contents",
   "title_sidebar": "Contents",
   "toc_cell": false,
   "toc_position": {},
   "toc_section_display": true,
   "toc_window_display": false
  },
  "varInspector": {
   "cols": {
    "lenName": 16,
    "lenType": 16,
    "lenVar": 40
   },
   "kernels_config": {
    "python": {
     "delete_cmd_postfix": "",
     "delete_cmd_prefix": "del ",
     "library": "var_list.py",
     "varRefreshCmd": "print(var_dic_list())"
    },
    "r": {
     "delete_cmd_postfix": ") ",
     "delete_cmd_prefix": "rm(",
     "library": "var_list.r",
     "varRefreshCmd": "cat(var_dic_list()) "
    }
   },
   "types_to_exclude": [
    "module",
    "function",
    "builtin_function_or_method",
    "instance",
    "_Feature"
   ],
   "window_display": false
  }
 },
 "nbformat": 4,
 "nbformat_minor": 5
}
